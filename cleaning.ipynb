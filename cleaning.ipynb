{
 "cells": [
  {
   "cell_type": "markdown",
   "metadata": {},
   "source": [
    "TO DO:\n",
    "- Try dimensionality reduction before clustering\n",
    "- Analyze sub clusters and look at their performance \n",
    "- Review proposal to make sure following\n",
    "- Change metric when calculating clusters (currently ward) \n",
    "- check with professor that euclidean makes sense because tf-idf is normalized   \n",
    "- Then pivot to SVD method "
   ]
  },
  {
   "cell_type": "code",
   "execution_count": 1,
   "metadata": {},
   "outputs": [],
   "source": [
    "%reset -f"
   ]
  },
  {
   "cell_type": "code",
   "execution_count": 2,
   "metadata": {
    "scrolled": true
   },
   "outputs": [
    {
     "name": "stdout",
     "output_type": "stream",
     "text": [
      "Requirement already satisfied: nltk in c:\\users\\gimli\\appdata\\local\\programs\\python\\python37-32\\lib\\site-packages (3.4.5)\n",
      "Requirement already satisfied: six in c:\\users\\gimli\\appdata\\local\\programs\\python\\python37-32\\lib\\site-packages (from nltk) (1.11.0)\n",
      "Requirement already satisfied: sklearn in c:\\users\\gimli\\appdata\\local\\programs\\python\\python37-32\\lib\\site-packages (0.0)\n",
      "Requirement already satisfied: scikit-learn in c:\\users\\gimli\\appdata\\local\\programs\\python\\python37-32\\lib\\site-packages (from sklearn) (0.21.3)\n",
      "Requirement already satisfied: scipy>=0.17.0 in c:\\users\\gimli\\appdata\\local\\programs\\python\\python37-32\\lib\\site-packages (from scikit-learn->sklearn) (1.3.1)\n",
      "Requirement already satisfied: numpy>=1.11.0 in c:\\users\\gimli\\appdata\\local\\programs\\python\\python37-32\\lib\\site-packages (from scikit-learn->sklearn) (1.15.0)\n",
      "Requirement already satisfied: joblib>=0.11 in c:\\users\\gimli\\appdata\\local\\programs\\python\\python37-32\\lib\\site-packages (from scikit-learn->sklearn) (0.14.0)\n",
      "Requirement already satisfied: gensim in c:\\users\\gimli\\appdata\\local\\programs\\python\\python37-32\\lib\\site-packages (3.8.1)\n",
      "Requirement already satisfied: smart-open>=1.8.1 in c:\\users\\gimli\\appdata\\local\\programs\\python\\python37-32\\lib\\site-packages (from gensim) (1.8.4)\n",
      "Requirement already satisfied: six>=1.5.0 in c:\\users\\gimli\\appdata\\local\\programs\\python\\python37-32\\lib\\site-packages (from gensim) (1.11.0)\n",
      "Requirement already satisfied: numpy>=1.11.3 in c:\\users\\gimli\\appdata\\local\\programs\\python\\python37-32\\lib\\site-packages (from gensim) (1.15.0)\n",
      "Requirement already satisfied: scipy>=0.18.1 in c:\\users\\gimli\\appdata\\local\\programs\\python\\python37-32\\lib\\site-packages (from gensim) (1.3.1)\n",
      "Requirement already satisfied: requests in c:\\users\\gimli\\appdata\\local\\programs\\python\\python37-32\\lib\\site-packages (from smart-open>=1.8.1->gensim) (2.19.1)\n",
      "Requirement already satisfied: boto3 in c:\\users\\gimli\\appdata\\local\\programs\\python\\python37-32\\lib\\site-packages (from smart-open>=1.8.1->gensim) (1.10.5)\n",
      "Requirement already satisfied: boto>=2.32 in c:\\users\\gimli\\appdata\\local\\programs\\python\\python37-32\\lib\\site-packages (from smart-open>=1.8.1->gensim) (2.49.0)\n",
      "Requirement already satisfied: certifi>=2017.4.17 in c:\\users\\gimli\\appdata\\local\\programs\\python\\python37-32\\lib\\site-packages (from requests->smart-open>=1.8.1->gensim) (2018.8.13)\n",
      "Requirement already satisfied: chardet<3.1.0,>=3.0.2 in c:\\users\\gimli\\appdata\\local\\programs\\python\\python37-32\\lib\\site-packages (from requests->smart-open>=1.8.1->gensim) (3.0.4)\n",
      "Requirement already satisfied: idna<2.8,>=2.5 in c:\\users\\gimli\\appdata\\local\\programs\\python\\python37-32\\lib\\site-packages (from requests->smart-open>=1.8.1->gensim) (2.7)\n",
      "Requirement already satisfied: urllib3<1.24,>=1.21.1 in c:\\users\\gimli\\appdata\\local\\programs\\python\\python37-32\\lib\\site-packages (from requests->smart-open>=1.8.1->gensim) (1.23)\n",
      "Requirement already satisfied: jmespath<1.0.0,>=0.7.1 in c:\\users\\gimli\\appdata\\local\\programs\\python\\python37-32\\lib\\site-packages (from boto3->smart-open>=1.8.1->gensim) (0.9.4)\n",
      "Requirement already satisfied: s3transfer<0.3.0,>=0.2.0 in c:\\users\\gimli\\appdata\\local\\programs\\python\\python37-32\\lib\\site-packages (from boto3->smart-open>=1.8.1->gensim) (0.2.1)\n",
      "Requirement already satisfied: botocore<1.14.0,>=1.13.5 in c:\\users\\gimli\\appdata\\local\\programs\\python\\python37-32\\lib\\site-packages (from boto3->smart-open>=1.8.1->gensim) (1.13.5)\n",
      "Requirement already satisfied: python-dateutil<3.0.0,>=2.1; python_version >= \"2.7\" in c:\\users\\gimli\\appdata\\local\\programs\\python\\python37-32\\lib\\site-packages (from botocore<1.14.0,>=1.13.5->boto3->smart-open>=1.8.1->gensim) (2.7.3)\n",
      "Requirement already satisfied: docutils<0.16,>=0.10 in c:\\users\\gimli\\appdata\\local\\programs\\python\\python37-32\\lib\\site-packages (from botocore<1.14.0,>=1.13.5->boto3->smart-open>=1.8.1->gensim) (0.15.2)\n",
      "Requirement already satisfied: matplotlib in c:\\users\\gimli\\appdata\\local\\programs\\python\\python37-32\\lib\\site-packages (3.1.1)\n",
      "Requirement already satisfied: pyparsing!=2.0.4,!=2.1.2,!=2.1.6,>=2.0.1 in c:\\users\\gimli\\appdata\\local\\programs\\python\\python37-32\\lib\\site-packages (from matplotlib) (2.4.2)\n",
      "Requirement already satisfied: kiwisolver>=1.0.1 in c:\\users\\gimli\\appdata\\local\\programs\\python\\python37-32\\lib\\site-packages (from matplotlib) (1.1.0)\n",
      "Requirement already satisfied: numpy>=1.11 in c:\\users\\gimli\\appdata\\local\\programs\\python\\python37-32\\lib\\site-packages (from matplotlib) (1.15.0)\n",
      "Requirement already satisfied: python-dateutil>=2.1 in c:\\users\\gimli\\appdata\\local\\programs\\python\\python37-32\\lib\\site-packages (from matplotlib) (2.7.3)\n",
      "Requirement already satisfied: cycler>=0.10 in c:\\users\\gimli\\appdata\\local\\programs\\python\\python37-32\\lib\\site-packages (from matplotlib) (0.10.0)\n",
      "Requirement already satisfied: setuptools in c:\\users\\gimli\\appdata\\local\\programs\\python\\python37-32\\lib\\site-packages (from kiwisolver>=1.0.1->matplotlib) (39.0.1)\n",
      "Requirement already satisfied: six>=1.5 in c:\\users\\gimli\\appdata\\local\\programs\\python\\python37-32\\lib\\site-packages (from python-dateutil>=2.1->matplotlib) (1.11.0)\n",
      "Requirement already satisfied: networkx in c:\\users\\gimli\\appdata\\local\\programs\\python\\python37-32\\lib\\site-packages (2.4)\n",
      "Requirement already satisfied: decorator>=4.3.0 in c:\\users\\gimli\\appdata\\local\\programs\\python\\python37-32\\lib\\site-packages (from networkx) (4.4.1)\n"
     ]
    }
   ],
   "source": [
    "!pip install nltk\n",
    "!pip install sklearn\n",
    "!pip install gensim\n",
    "!pip install matplotlib\n",
    "!pip install networkx"
   ]
  },
  {
   "cell_type": "code",
   "execution_count": 3,
   "metadata": {},
   "outputs": [
    {
     "name": "stderr",
     "output_type": "stream",
     "text": [
      "[nltk_data] Downloading package stopwords to\n",
      "[nltk_data]     C:\\Users\\Gimli\\AppData\\Roaming\\nltk_data...\n",
      "[nltk_data]   Package stopwords is already up-to-date!\n"
     ]
    }
   ],
   "source": [
    "import nltk\n",
    "from nltk.corpus import reuters\n",
    "import re\n",
    "import numpy as np\n",
    "import pandas as pd\n",
    "from gensim.models import TfidfModel\n",
    "from gensim.corpora import Dictionary\n",
    "import string\n",
    "from nltk.corpus import stopwords\n",
    "nltk.download('stopwords')\n",
    "from sklearn.feature_extraction.text import TfidfVectorizer\n",
    "from nltk.stem.porter import PorterStemmer\n",
    "from sklearn.cluster import AgglomerativeClustering\n",
    "import matplotlib.pyplot as plt\n",
    "from sklearn.manifold import MDS\n",
    "import sklearn\n",
    "from scipy.cluster.hierarchy import dendrogram, linkage, ward, fcluster\n",
    "import networkx as nx\n",
    "import collections\n",
    "import math\n",
    "import operator\n",
    "from sklearn.metrics.pairwise import cosine_similarity, euclidean_distances\n"
   ]
  },
  {
   "cell_type": "markdown",
   "metadata": {},
   "source": [
    "### Import Data"
   ]
  },
  {
   "cell_type": "code",
   "execution_count": 4,
   "metadata": {},
   "outputs": [],
   "source": [
    "# Extract fileids from the reuters corpus\n",
    "fileids = reuters.fileids()\n",
    "\n",
    "# Initialize empty lists to store categories and raw text\n",
    "categories = []\n",
    "text = []\n",
    "\n",
    "# Loop through each file id and collect each files categories and raw text\n",
    "for file in fileids:\n",
    "    categories.append(reuters.categories(file))\n",
    "    text.append(reuters.raw(file))\n",
    "\n",
    "# Combine lists into pandas dataframe. reutersDf is the final dataframe. \n",
    "og = pd.DataFrame({'ids':fileids, 'categories':categories, 'text':text})"
   ]
  },
  {
   "cell_type": "code",
   "execution_count": 5,
   "metadata": {},
   "outputs": [],
   "source": [
    "df = og.copy()"
   ]
  },
  {
   "cell_type": "markdown",
   "metadata": {},
   "source": [
    "### Text Processing"
   ]
  },
  {
   "cell_type": "code",
   "execution_count": 6,
   "metadata": {},
   "outputs": [],
   "source": [
    "# processing text\n",
    "df.text = df.text.str.replace('\\n', ' ')\n",
    "df.text = df.text.str.replace('&lt;', '<')\n",
    "df.text = df.text.str.replace(\"&amp;\", \"&\")\n",
    "\n",
    "# down case all\n",
    "df.text = df.text.str.lower()\n",
    "\n",
    "# remove symbols\n",
    "df.text = df.text.str.replace('<', ' ')\n",
    "df.text = df.text.str.replace('>', ' ')\n",
    "df.text = df.text.str.replace('-', ' ')\n",
    "\n",
    "# remove punctuation\n",
    "df.text = df.text.apply(lambda row: row.translate(str.maketrans('','',string.punctuation)))\n",
    "\n",
    "# expand abbreviations\n",
    "#df.text = df.text.str.replace(' qtr ', ' quarter ')\n",
    "#df.text = df.text.str.replace(' pct ', ' percent ')\n",
    "#df.text = df.text.str.replace(' jan ', ' janurary ')\n",
    "#df.text = df.text.str.replace(' feb ', ' february ')\n",
    "#df.text = df.text.str.replace(' mar ', ' march ')\n",
    "#df.text = df.text.str.replace(' apr ', ' april ')\n",
    "#df.text = df.text.str.replace(' may ', ' may ')\n",
    "#df.text = df.text.str.replace(' jun ', ' june ')\n",
    "#df.text = df.text.str.replace(' jul ', ' july ')\n",
    "#df.text = df.text.str.replace(' aug ', ' august ')\n",
    "#df.text = df.text.str.replace(' sep ', ' september ')\n",
    "#df.text = df.text.str.replace(' oct ', ' october ')\n",
    "#df.text = df.text.str.replace(' nov ', ' november ')\n",
    "#df.text = df.text.str.replace(' dec ', ' december ')\n",
    "#df.text = df.text.str.replace(' bil ', ' billion ')\n",
    "#df.text = df.text.str.replace(' mln ', ' million ')\n",
    "\n",
    "df.text = df.text.str.replace(' qtr ', ' ')\n",
    "df.text = df.text.str.replace(' pct ', ' ')\n",
    "df.text = df.text.str.replace(' jan ', ' ')\n",
    "df.text = df.text.str.replace(' feb ', ' ')\n",
    "df.text = df.text.str.replace(' mar ', ' ')\n",
    "df.text = df.text.str.replace(' apr ', ' ')\n",
    "df.text = df.text.str.replace(' may ', ' ')\n",
    "df.text = df.text.str.replace(' jun ', ' ')\n",
    "df.text = df.text.str.replace(' jul ', ' ')\n",
    "df.text = df.text.str.replace(' aug ', ' ')\n",
    "df.text = df.text.str.replace(' sep ', ' ')\n",
    "df.text = df.text.str.replace(' oct ', ' ')\n",
    "df.text = df.text.str.replace(' nov ', ' ')\n",
    "df.text = df.text.str.replace(' dec ', ' ')\n",
    "df.text = df.text.str.replace(' bil ', ' ')\n",
    "df.text = df.text.str.replace(' mln ', ' ')\n",
    "\n",
    "# go to acronyms so recognized as one concept/token\n",
    "df.text = df.text.str.replace('united states', 'us')\n",
    "df.text = df.text.str.replace('new zealand', 'nz')\n",
    "df.text = df.text.str.replace('hong kong', 'hk')\n",
    "df.text = df.text.str.replace('united kingdom', 'uk')\n",
    "df.text = df.text.str.replace('dlrs', 'dollars')\n",
    "\n",
    "# remove common words that are effectively stop words\n",
    "df.text = df.text.str.replace('million', '')\n",
    "df.text = df.text.str.replace('billion', '')\n",
    "df.text = df.text.str.replace(' quarter ', ' ')\n",
    "df.text = df.text.str.replace(' percent ', ' ')\n",
    "df.text = df.text.str.replace(' january ', ' ')\n",
    "df.text = df.text.str.replace(' february ', ' ')\n",
    "df.text = df.text.str.replace(' march ', ' ')\n",
    "df.text = df.text.str.replace(' april ', ' ')\n",
    "df.text = df.text.str.replace(' may ', ' ')\n",
    "df.text = df.text.str.replace(' june ', ' ')\n",
    "df.text = df.text.str.replace(' july ', ' ')\n",
    "df.text = df.text.str.replace(' august ', ' ')\n",
    "df.text = df.text.str.replace(' september ', ' ')\n",
    "df.text = df.text.str.replace(' october ', ' ')\n",
    "df.text = df.text.str.replace(' november ', ' ')\n",
    "df.text = df.text.str.replace(' december ', ' ')\n",
    "df.text = df.text.str.replace(' said ', ' ')\n",
    "df.text = df.text.str.replace(' janurary ', ' ')\n",
    "df.text = df.text.str.replace(' decembers ', ' ')\n",
    "\n",
    "df.text = df.text.str.replace(' rate ', ' ') ## is this valid to remove?\n",
    "df.text = df.text.str.replace(' year ', ' ')\n",
    "df.text = df.text.str.replace(' month ', ' ')\n",
    "\n",
    "\n",
    "# remove all number \n",
    "    # originally removing number words\n",
    "df.text = df.text.apply(lambda row: re.sub('\\d*', '', row))"
   ]
  },
  {
   "cell_type": "code",
   "execution_count": 7,
   "metadata": {},
   "outputs": [],
   "source": [
    "df_retail = df[df.categories.map(set(['retail']).issubset)] # subset to start with \n",
    "df_retail = df_retail.reset_index()"
   ]
  },
  {
   "cell_type": "code",
   "execution_count": 8,
   "metadata": {
    "scrolled": true
   },
   "outputs": [],
   "source": [
    "### done by tfidfvectorizer\n",
    "# tokenize words\n",
    "#df['tokens'] = df.text.apply(lambda row: nltk.word_tokenize(row))\n",
    "# remove stopwords\n",
    "#df.tokens = df.tokens.apply(lambda row: [w for w in row if not w in stopwords.words('english')])\n",
    "\n",
    "# stemming? Maybe for clutering, but not for finding common words. "
   ]
  },
  {
   "cell_type": "markdown",
   "metadata": {},
   "source": [
    "## Tf-Idf Matrix"
   ]
  },
  {
   "cell_type": "code",
   "execution_count": 9,
   "metadata": {},
   "outputs": [],
   "source": [
    "# tfidf. stop word removal. word tokenizer. \n",
    "tfidf = TfidfVectorizer(stop_words = 'english', analyzer = 'word')\n",
    "m = tfidf.fit_transform(df_retail['text'])"
   ]
  },
  {
   "cell_type": "code",
   "execution_count": 10,
   "metadata": {
    "scrolled": true
   },
   "outputs": [
    {
     "name": "stdout",
     "output_type": "stream",
     "text": [
      "zayre 0.04385510822857003\n",
      "woolworth 0.049483152173600504\n",
      "federated 0.04385510822857003\n",
      "wal 0.04385510822857003\n",
      "mart 0.08771021645714006\n",
      "major 0.03423390355631825\n",
      "middle 0.04385510822857003\n",
      "report 0.03676461141068932\n",
      "beginning 0.049483152173600504\n",
      "originally 0.03986194750134872\n",
      "profits 0.04385510822857003\n",
      "expects 0.04385510822857003\n",
      "markdowns 0.049483152173600504\n",
      "lean 0.049483152173600504\n",
      "kept 0.049483152173600504\n",
      "inventories 0.03986194750134872\n",
      "planning 0.049483152173600504\n",
      "lower 0.08771021645714006\n",
      "slightly 0.04385510822857003\n",
      "promotions 0.049483152173600504\n",
      "agreed 0.03986194750134872\n",
      "exceptionally 0.04385510822857003\n",
      "comparison 0.049483152173600504\n",
      "tougher 0.049483152173600504\n",
      "decline 0.03423390355631825\n",
      "cited 0.049483152173600504\n",
      "mackes 0.049483152173600504\n",
      "kenneth 0.049483152173600504\n",
      "hurting 0.049483152173600504\n",
      "currently 0.049483152173600504\n",
      "margins 0.04385510822857003\n",
      "profit 0.04385510822857003\n",
      "higher 0.027143406738437535\n",
      "yield 0.049483152173600504\n",
      "lines 0.049483152173600504\n",
      "wear 0.049483152173600504\n",
      "time 0.04385510822857003\n",
      "leisure 0.049483152173600504\n",
      "away 0.04385510822857003\n",
      "shifting 0.049483152173600504\n",
      "southwest 0.04385510822857003\n",
      "depressed 0.03676461141068932\n",
      "economically 0.049483152173600504\n",
      "weak 0.03423390355631825\n",
      "east 0.04385510822857003\n",
      "active 0.049483152173600504\n",
      "ranged 0.04385510822857003\n",
      "geographically 0.049483152173600504\n",
      "operations 0.049483152173600504\n",
      "continued 0.03676461141068932\n",
      "howell 0.04385510822857003\n",
      "william 0.04385510822857003\n",
      "hudsons 0.049483152173600504\n",
      "declined 0.049483152173600504\n",
      "catalog 0.08771021645714006\n",
      "store 0.0684678071126365\n",
      "penneys 0.09896630434720101\n",
      "respectively 0.04385510822857003\n",
      "declining 0.03676461141068932\n",
      "stores 0.03209422055308263\n",
      "comparable 0.04385510822857003\n",
      "performers 0.04385510822857003\n",
      "weaker 0.03986194750134872\n",
      "dh 0.049483152173600504\n",
      "corp 0.03986194750134872\n",
      "hudson 0.13156532468571008\n",
      "dayton 0.13156532468571008\n",
      "jcp 0.04385510822857003\n",
      "penney 0.13156532468571008\n",
      "jc 0.08771021645714006\n",
      "mortner 0.14844945652080152\n",
      "harry 0.09896630434720101\n",
      "lawrence 0.04385510822857003\n",
      "cj 0.09896630434720101\n",
      "buy 0.049483152173600504\n",
      "people 0.04385510822857003\n",
      "fact 0.04385510822857003\n",
      "accomplishment 0.049483152173600504\n",
      "good 0.0684678071126365\n",
      "improvement 0.03986194750134872\n",
      "modest 0.04385510822857003\n",
      "modestly 0.049483152173600504\n",
      "total 0.03986194750134872\n",
      "excellent 0.04385510822857003\n",
      "sportswear 0.049483152173600504\n",
      "womens 0.049483152173600504\n",
      "gain 0.03024074282909695\n",
      "reported 0.028605859611287775\n",
      "roebuck 0.04385510822857003\n",
      "sears 0.13156532468571008\n",
      "chairman 0.11029383423206794\n",
      "brennan 0.08771021645714006\n",
      "market 0.03423390355631825\n",
      "housing 0.04385510822857003\n",
      "strength 0.03676461141068932\n",
      "continuing 0.04385510822857003\n",
      "reflect 0.04385510822857003\n",
      "fashions 0.04385510822857003\n",
      "appliances 0.04385510822857003\n",
      "home 0.07972389500269744\n",
      "gains 0.03209422055308263\n",
      "nears 0.049483152173600504\n",
      "holiday 0.049483152173600504\n",
      "strong 0.0684678071126365\n",
      "signaling 0.049483152173600504\n",
      "apparel 0.23917168500809236\n",
      "stronger 0.03676461141068932\n",
      "items 0.04385510822857003\n",
      "ticket 0.049483152173600504\n",
      "big 0.03986194750134872\n",
      "furniture 0.049483152173600504\n",
      "housewares 0.049483152173600504\n",
      "bit 0.04385510822857003\n",
      "rise 0.04123907631369032\n",
      "expected 0.0604814856581939\n",
      "expectations 0.03676461141068932\n",
      "coming 0.09896630434720101\n",
      "half 0.03986194750134872\n",
      "overall 0.15944779000539488\n",
      "burnham 0.04385510822857003\n",
      "lambert 0.04385510822857003\n",
      "drexel 0.08771021645714006\n",
      "edelman 0.08771021645714006\n",
      "jeff 0.04385510822857003\n",
      "rising 0.03423390355631825\n",
      "employment 0.03423390355631825\n",
      "liquidity 0.049483152173600504\n",
      "appear 0.049483152173600504\n",
      "does 0.03986194750134872\n",
      "slowing 0.04385510822857003\n",
      "activity 0.07972389500269744\n",
      "consumer 0.03024074282909695\n",
      "question 0.049483152173600504\n",
      "obvious 0.049483152173600504\n",
      "compared 0.02461269888406647\n",
      "adjusted 0.05721171922257555\n",
      "seasonally 0.027143406738437535\n",
      "unadjusted 0.04385510822857003\n",
      "rose 0.04123907631369032\n",
      "associates 0.04385510822857003\n",
      "redbook 0.04385510822857003\n",
      "johnson 0.08771021645714006\n",
      "edward 0.08771021645714006\n",
      "later 0.04385510822857003\n",
      "weeks 0.04385510822857003\n",
      "observed 0.049483152173600504\n",
      "occurance 0.049483152173600504\n",
      "easters 0.04385510822857003\n",
      "variation 0.04385510822857003\n",
      "account 0.04385510822857003\n",
      "results 0.04385510822857003\n",
      "average 0.03024074282909695\n",
      "generally 0.04385510822857003\n",
      "greenstein 0.08771021645714006\n",
      "monroe 0.04385510822857003\n",
      "analyst 0.1993097375067436\n",
      "stearns 0.08771021645714006\n",
      "bear 0.08771021645714006\n",
      "indicate 0.09896630434720101\n",
      "numbers 0.07352922282137864\n",
      "better 0.07972389500269744\n",
      "business 0.03423390355631825\n",
      "underlying 0.04385510822857003\n",
      "shift 0.049483152173600504\n",
      "soft 0.04385510822857003\n",
      "look 0.03986194750134872\n",
      "recovery 0.04385510822857003\n",
      "expect 0.03676461141068932\n",
      "analysts 0.2054034213379095\n",
      "according 0.07352922282137864\n",
      "lackluster 0.049483152173600504\n",
      "retailers 0.14705844564275727\n",
      "easter 0.21927554114285014\n",
      "late 0.14844945652080152\n",
      "cut 0.03986194750134872\n",
      "sales 0.4330103012937484\n",
      "retail 0.03504440413237152\n"
     ]
    }
   ],
   "source": [
    "# get words and scores in document 0\n",
    "feature_names = tfidf.get_feature_names() # words \n",
    "feature_index = m[0,:].nonzero()[1] # non zero words for first document\n",
    "tfidf_scores = zip(feature_index, [m[0, x] for x in feature_index]) # scores and words\n",
    "\n",
    "for w, s in [(feature_names[i], s) for (i, s) in tfidf_scores]:\n",
    "    print(w, s)\n",
    "    \n",
    "#tfidf.vocabulary_ "
   ]
  },
  {
   "cell_type": "code",
   "execution_count": null,
   "metadata": {},
   "outputs": [],
   "source": []
  },
  {
   "cell_type": "code",
   "execution_count": 11,
   "metadata": {
    "scrolled": true
   },
   "outputs": [],
   "source": [
    "dist = 1 - cosine_similarity(m)\n",
    "# the diagonals are numbers very close to, but not quite zero (very small negative number)\n",
    "# problematic for some functions that don't expect negative numbers\n",
    "for i in range(len(dist)):\n",
    "    dist[i][i] = 0\n",
    "    \n",
    "    \n",
    "dist_e = euclidean_distances(m)  ## I think its ok to use euclidean because tf-idf normalizes\n",
    "# euclidean can be innaccurate if documents are different lengths such that vectors are different lengths \n",
    "# I would prefer to use euclidean because then more sensicl to calculate centroids\n",
    "# ask professor?? "
   ]
  },
  {
   "cell_type": "markdown",
   "metadata": {},
   "source": [
    "### Hierarchial Clustering"
   ]
  },
  {
   "cell_type": "code",
   "execution_count": 12,
   "metadata": {
    "scrolled": true
   },
   "outputs": [
    {
     "name": "stderr",
     "output_type": "stream",
     "text": [
      "c:\\users\\gimli\\appdata\\local\\programs\\python\\python37-32\\lib\\site-packages\\ipykernel_launcher.py:2: ClusterWarning: scipy.cluster: The symmetric non-negative hollow observation matrix looks suspiciously like an uncondensed distance matrix\n",
      "  \n",
      "c:\\users\\gimli\\appdata\\local\\programs\\python\\python37-32\\lib\\site-packages\\ipykernel_launcher.py:4: ClusterWarning: scipy.cluster: The symmetric non-negative hollow observation matrix looks suspiciously like an uncondensed distance matrix\n",
      "  after removing the cwd from sys.path.\n"
     ]
    },
    {
     "data": {
      "image/png": "[encoded data removed]",
      "text/plain": [
       "<Figure size 1080x1440 with 1 Axes>"
      ]
     },
     "metadata": {
      "needs_background": "light"
     },
     "output_type": "display_data"
    }
   ],
   "source": [
    "# hieararchial clusters with children \n",
    "linkage_matrix = linkage(dist, method = 'ward') # try different methods\n",
    "    # https://docs.scipy.org/doc/scipy/reference/generated/scipy.cluster.hierarchy.linkage.html\n",
    "linkage_matrix_e = linkage(dist_e, method = 'ward') # try different methods\n",
    "\n",
    "# plot dendogram\n",
    "fig, ax = plt.subplots(figsize=(15, 20))\n",
    "ax = dendrogram(linkage_matrix, orientation=\"right\", labels = df_retail.ids.unique())"
   ]
  },
  {
   "cell_type": "code",
   "execution_count": 13,
   "metadata": {
    "scrolled": true
   },
   "outputs": [],
   "source": [
    "#score = dict()\n",
    "#for k in range(2 , min(math.floor(len(df_retail) / 3), 10)): # want min(minimum avg 3 documents per cluster OR 10% docs)\n",
    "#    f = fcluster(linkage_matrix, k, criterion = 'maxclust')\n",
    "#    score[k] = sklearn.metrics.silhouette_score(m, f, metric = 'cosine')\n",
    "    \n",
    "# cluster number with max score\n",
    "#k = np.argmax(score) + 2\n",
    "#k = max(score.items(), key=operator.itemgetter(1))[0] + 2\n",
    "#f = fcluster(linkage_matrix, k, criterion = 'maxclust')\n",
    "\n",
    "## this seemingly doesn't calculate silhouette score right...."
   ]
  },
  {
   "cell_type": "code",
   "execution_count": 14,
   "metadata": {},
   "outputs": [],
   "source": [
    "# https://stackoverflow.com/questions/21638130/tutorial-for-scipy-cluster-hierarchy\n",
    "# idea for scree plot to determine number of clusters in fcluster using 'maxclust' in criterion"
   ]
  },
  {
   "cell_type": "code",
   "execution_count": 15,
   "metadata": {},
   "outputs": [],
   "source": [
    "def frame_merge(df, f):\n",
    "    # merge in with original data via pandas\n",
    "    frameh = pd.DataFrame(df.index, index = [f], columns = ['index_retail'])\n",
    "    frameh = pd.merge(frameh, df, right_index = True, left_on = 'index_retail')\n",
    "    frameh['cluster'] = frameh.index.str[0]\n",
    "    frameh = frameh.reset_index()\n",
    "    return frameh"
   ]
  },
  {
   "cell_type": "code",
   "execution_count": 16,
   "metadata": {},
   "outputs": [],
   "source": [
    "def centroid_label(frameh, m):\n",
    "    # most common words in clusters (based on tf-idf not just frequency)\n",
    "    centroid = dict()\n",
    "    labels = []\n",
    "    for c in list(frameh.cluster.unique()):\n",
    "        print()\n",
    "        # most common words\n",
    "        cluster1 = list(frameh[frameh.cluster == c].index.unique())\n",
    "        # find documents cluster\n",
    "        m1 = m[cluster1,:]\n",
    "        # take mean vector among all documents\n",
    "        m1 = m1.mean(axis = 0)\n",
    "        # record mean vector: centroids of each sub cluster\n",
    "        centroid[c] = m1\n",
    "\n",
    "        # max values in mean vector \n",
    "        lst = []\n",
    "\n",
    "        for i in np.argsort(np.asarray(m1)[0])[::-1][:6]:\n",
    "            lst.append(feature_names[i])\n",
    "\n",
    "        labels.append(lst)\n",
    "        \n",
    "    return labels, centroid"
   ]
  },
  {
   "cell_type": "code",
   "execution_count": 17,
   "metadata": {},
   "outputs": [],
   "source": [
    "def silhouette_individ(frameh):\n",
    "    sil_a = dict()\n",
    "    for c in list(frameh.cluster.unique()):\n",
    "        sil_a[c] = dict()\n",
    "        docs_i = list(frameh[frameh.cluster == c].index.unique())\n",
    "        for i in docs_i:\n",
    "            lst = []\n",
    "            for j in docs_i: \n",
    "                if i != j:\n",
    "                    lst.append(np.linalg.norm(m[i].toarray()-m[j].toarray()))\n",
    "            sil_a[c][i] = np.mean(lst)\n",
    "\n",
    "    sil_b = dict()\n",
    "    for c in list(frameh.cluster.unique()):\n",
    "        sil_b[c] = dict()\n",
    "        docs_in = list(frameh[frameh.cluster == c].index.unique())\n",
    "        docs_out = list(frameh[frameh.cluster != c].index.unique())\n",
    "        for i in docs_in:\n",
    "            lst = []\n",
    "            for j in docs_out: \n",
    "                lst.append(np.linalg.norm(m[i].toarray()-m[j].toarray()))\n",
    "            sil_b[c][i] = np.mean(lst)\n",
    "            \n",
    "    return sil_a, sil_b"
   ]
  },
  {
   "cell_type": "code",
   "execution_count": 18,
   "metadata": {},
   "outputs": [],
   "source": [
    "def silhouette_take_avg(sil):\n",
    "    avg = []\n",
    "    for v in sil.values():\n",
    "        avg.append(list(v.values()))\n",
    "    avg = [item for sublist in avg for item in sublist]\n",
    "    avg = [0 if math.isnan(i) else i for i in avg]\n",
    "    avg = np.mean(avg)\n",
    "    \n",
    "    return avg"
   ]
  },
  {
   "cell_type": "code",
   "execution_count": 19,
   "metadata": {},
   "outputs": [],
   "source": [
    "def silhouette_avg(frameh):\n",
    "    sil_a, sil_b = silhouette_individ(frameh)\n",
    "    avga = silhouette_take_avg(sil_a)\n",
    "    avgb = silhouette_take_avg(sil_b)\n",
    "\n",
    "    return (avgb - avga) / max(avgb, avga)"
   ]
  },
  {
   "cell_type": "markdown",
   "metadata": {},
   "source": [
    "distortion is only within cluster but is good because can measure rate of change  \n",
    "silhouette captures within and without cluster"
   ]
  },
  {
   "cell_type": "code",
   "execution_count": 20,
   "metadata": {
    "scrolled": true
   },
   "outputs": [
    {
     "name": "stdout",
     "output_type": "stream",
     "text": [
      "\n",
      "\n",
      "\n",
      "\n",
      "\n",
      "\n",
      "\n",
      "\n",
      "\n",
      "\n",
      "\n",
      "\n",
      "\n",
      "\n",
      "\n",
      "\n",
      "\n",
      "\n",
      "\n",
      "\n",
      "\n",
      "\n",
      "\n",
      "\n",
      "\n",
      "\n",
      "\n"
     ]
    }
   ],
   "source": [
    "# distortion - sum of squared errors between points and its centroid \n",
    "# barely varies with different cluster numbers\n",
    "distortion = dict()\n",
    "silhouette = dict()\n",
    "for k in range(2 , min(math.floor(len(df_retail) / 3), 10)): # want min(minimum avg 3 documents per cluster OR 10% docs)\n",
    "    f = fcluster(linkage_matrix_e, k, criterion = 'maxclust') ## using euclidean distance \n",
    "    frameh = frame_merge(df_retail, f)\n",
    "    labels, centroid = centroid_label(frameh, m)\n",
    "    \n",
    "    # calculate silhouette \n",
    "    silhouette[k] = silhouette_avg(frameh)\n",
    "\n",
    "    # calculate distortion\n",
    "    sumd = 0\n",
    "    for i in list(frameh.index.unique()):\n",
    "        c = int(frameh[frameh.index == i].cluster)\n",
    "        sumd += np.linalg.norm(m[i]-centroid[c])\n",
    "        \n",
    "    # take average \n",
    "    distortion[k] = sumd"
   ]
  },
  {
   "cell_type": "code",
   "execution_count": 21,
   "metadata": {},
   "outputs": [
    {
     "data": {
      "text/plain": [
       "{2: 0.06068341039907559,\n",
       " 3: 0.07751843067782502,\n",
       " 4: 0.07622047722526229,\n",
       " 5: 0.09555431064859884,\n",
       " 6: 0.10956640220636668,\n",
       " 7: 0.12237298011504162}"
      ]
     },
     "execution_count": 21,
     "metadata": {},
     "output_type": "execute_result"
    }
   ],
   "source": [
    "silhouette # mehhhh just increases as number of clusters increases\n",
    "# maybe use for evaluation between topics rather than for selection "
   ]
  },
  {
   "cell_type": "code",
   "execution_count": 22,
   "metadata": {},
   "outputs": [],
   "source": [
    "# relative rate of change \n",
    "roc = []\n",
    "for k,v in distortion.items(): \n",
    "    if k+1 in distortion:\n",
    "        roc.append(abs(distortion[k+1] - distortion[k]) / distortion[k])"
   ]
  },
  {
   "cell_type": "code",
   "execution_count": 23,
   "metadata": {
    "scrolled": false
   },
   "outputs": [
    {
     "name": "stdout",
     "output_type": "stream",
     "text": [
      "1\n",
      "0.004556359183167949\n"
     ]
    }
   ],
   "source": [
    "# find k \n",
    "for i in range(len(roc)):\n",
    "    if i == 0:\n",
    "        continue\n",
    "    print(i)\n",
    "    print(abs(roc[i] - roc[i-1]))\n",
    "    if abs(roc[i] - roc[i-1]) >  .001: # threshold in change of roc \n",
    "                                        # tried roc threshold, but magnitude changes for different topics \n",
    "        k = i+1 # number of clusters\n",
    "        break"
   ]
  },
  {
   "cell_type": "code",
   "execution_count": 24,
   "metadata": {},
   "outputs": [
    {
     "data": {
      "image/png": "[encoded data removed]",
      "text/plain": [
       "<Figure size 432x288 with 1 Axes>"
      ]
     },
     "metadata": {
      "needs_background": "light"
     },
     "output_type": "display_data"
    }
   ],
   "source": [
    "# plot distortion\n",
    "distortion = sorted(distortion.items()) # sorted by key, return a list of tuples\n",
    "x, y = zip(*distortion) # unpack a list of pairs into two tuples\n",
    "plt.plot(x, y)\n",
    "plt.show()"
   ]
  },
  {
   "cell_type": "code",
   "execution_count": 50,
   "metadata": {},
   "outputs": [
    {
     "name": "stdout",
     "output_type": "stream",
     "text": [
      "\n",
      "\n",
      "\n"
     ]
    }
   ],
   "source": [
    "# use this number of clusters to form final clusters\n",
    "f = fcluster(linkage_matrix, k, criterion = 'maxclust')\n",
    "frameh = frame_merge(df_retail, f)\n",
    "labels, centroid = centroid_label(frameh, m)"
   ]
  },
  {
   "cell_type": "code",
   "execution_count": null,
   "metadata": {},
   "outputs": [],
   "source": []
  },
  {
   "cell_type": "code",
   "execution_count": null,
   "metadata": {},
   "outputs": [],
   "source": []
  },
  {
   "cell_type": "markdown",
   "metadata": {},
   "source": [
    "__Find Documents at Each Level of Hierarchy__"
   ]
  },
  {
   "cell_type": "code",
   "execution_count": 26,
   "metadata": {},
   "outputs": [],
   "source": [
    "# in linkage matrix, indicate the aggregated node for each node pair\n",
    "links = pd.DataFrame(linkage_matrix_e) # using euclidean \n",
    "links.columns = ['source1', 'source2', 'd', 'n']\n",
    "\n",
    "links['target'] = 0\n",
    "n = 24 \n",
    "for i, row in links.iterrows():\n",
    "    n += 1\n",
    "    links.at[i,'target'] = n"
   ]
  },
  {
   "cell_type": "code",
   "execution_count": 27,
   "metadata": {},
   "outputs": [],
   "source": [
    "# flatten irregular nested lists\n",
    "def flatten(l):\n",
    "    for el in l:\n",
    "        if isinstance(el, collections.Iterable) and not isinstance(el, (str, bytes)):\n",
    "            yield from flatten(el)\n",
    "        else:\n",
    "            yield el"
   ]
  },
  {
   "cell_type": "code",
   "execution_count": 28,
   "metadata": {},
   "outputs": [],
   "source": [
    "def merge_docs(merge, source):\n",
    "    merge = pd.merge(merge, merge[['target', 'docs']], left_on = source, right_on = 'target',  how = 'left')\n",
    "    merge.docs_x = np.where(merge.docs_x.isnull(), '', merge.docs_x)\n",
    "    merge.docs_y = np.where(merge.docs_y.isnull(), '', merge.docs_y)\n",
    "    merge['docs'] = merge[['docs_x', 'docs_y']].values.tolist()\n",
    "    merge = merge.drop(columns = ['docs_x', 'docs_y'])\n",
    "    #merge.docs = merge.docs.apply(np.ravel)\n",
    "    merge = merge.rename(columns = {'target_x':'target'})\n",
    "    merge.docs = list(merge.docs.apply(lambda row: flatten(row)))\n",
    "    merge.docs = merge.docs.apply(lambda row: [i for i in row if i != ''])\n",
    "\n",
    "    return merge"
   ]
  },
  {
   "cell_type": "code",
   "execution_count": 29,
   "metadata": {
    "scrolled": true
   },
   "outputs": [],
   "source": [
    "# initial merge between frame ids and source1/source2\n",
    "merge = pd.merge(links, frameh[['ids']], left_on = 'source1', right_index = True, how = 'left')\n",
    "merge = pd.merge(merge, frameh[['ids']], left_on = 'source2', right_index = True, how = 'left')\n",
    "# create single docs list column \n",
    "merge = merge.rename(columns = {'ids_x':'docs1', 'ids_y':'docs2'})\n",
    "merge.docs2 = np.where(merge.docs2.isnull(), '', merge.docs2)\n",
    "merge.docs1 = np.where(merge.docs1.isnull(), '', merge.docs1)\n",
    "merge['docs']= merge[['docs1', 'docs2']].values.tolist()\n",
    "merge = merge.drop(columns = ['docs1', 'docs2'])\n",
    "# flattern docs list column\n",
    "merge.docs = merge.docs.apply(lambda row: [i for i in row if i != ''])\n",
    "merge['len'] = merge.docs.apply(lambda row: len(set(row)))\n",
    "\n",
    "merge1 = merge.copy()\n",
    "\n",
    "# loop until have one id per document at node (n)\n",
    "while int(merge[merge.target == merge.target.max()].len) != int(merge[merge.target == merge.target.max()].n): \n",
    "    merge = merge_docs(merge, 'source1')\n",
    "    merge = merge_docs(merge, 'source2')\n",
    "    merge['len'] = merge.docs.apply(lambda row: len(set(row)))\n",
    "    \n",
    "merge.docs = merge.docs.apply(lambda row: set(row))"
   ]
  },
  {
   "cell_type": "code",
   "execution_count": 30,
   "metadata": {},
   "outputs": [],
   "source": [
    "# create graph reflecting hierarchy\n",
    "G = nx.DiGraph()\n",
    "G.add_nodes_from(links.source1)\n",
    "G.add_nodes_from(links.source2)\n",
    "G.add_nodes_from(links.target)\n",
    "\n",
    "subset = links[['source1', 'target']]\n",
    "G.add_edges_from([tuple(x) for x in subset.values])\n",
    "subset = links[['source2', 'target']]\n",
    "G.add_edges_from([tuple(x) for x in subset.values])"
   ]
  },
  {
   "cell_type": "code",
   "execution_count": 31,
   "metadata": {
    "scrolled": true
   },
   "outputs": [],
   "source": [
    "# add docs to each target node so know which docs exist at each target \n",
    "for i in list(merge.target.unique()):\n",
    "    G.nodes[i]['docs'] = merge[merge.target == i].docs.values[0]\n",
    "    \n",
    "# add docs to origianl nodes as well \n",
    "ogdocs = pd.merge(links, frameh[['ids']], left_on = 'source1', right_index = True, how = 'left')\n",
    "ogdocs = pd.merge(ogdocs, frameh[['ids']], left_on = 'source2', right_index = True, how = 'left')\n",
    "for i in range(25):\n",
    "    if len(ogdocs[ogdocs.source1 == i].ids_x) != 0:\n",
    "        G.nodes[i]['docs'] = ogdocs[ogdocs.source1 == i].ids_x.values[0]\n",
    "    if len(ogdocs[ogdocs.source2 == i].ids_y) != 0:\n",
    "        G.nodes[i]['docs'] = ogdocs[ogdocs.source2 == i].ids_y.values[0]"
   ]
  },
  {
   "cell_type": "code",
   "execution_count": 32,
   "metadata": {
    "scrolled": true
   },
   "outputs": [],
   "source": [
    "# labels and centroids for every sub cluster \n",
    "labelsh = []\n",
    "centroidh = []\n",
    "for i in list(range(links.target.max())):\n",
    "    # most common words\n",
    "    if i < 25:\n",
    "        cluster1 = list(frameh[frameh.ids == list(G.nodes[i].values())[0]].index.unique())\n",
    "    else:\n",
    "        cluster1 = list(frameh[frameh.ids.isin(list(list(G.nodes[i].values())[0]))].index.unique())\n",
    "    # find documents cluster\n",
    "    m1 = m[cluster1,:]\n",
    "    # take mean vector among all documents\n",
    "    m1 = m1.mean(axis = 0)\n",
    "    # record mean vector: centroids of each sub cluster\n",
    "    centroidh.append(m1)\n",
    "    \n",
    "    # max values in mean vector: labels\n",
    "    lst = []\n",
    "    for i in np.argsort(np.asarray(m1)[0])[::-1][:3]:\n",
    "        lst.append(feature_names[i])\n",
    "        \n",
    "    labelsh.append(lst)"
   ]
  },
  {
   "cell_type": "code",
   "execution_count": 33,
   "metadata": {},
   "outputs": [],
   "source": [
    "# find top level clusters and mark as such - determined by fcluster above \n",
    "nx.set_node_attributes(G, 0, 'cluster')\n",
    "for c in list(frameh.cluster.unique()):\n",
    "    try:\n",
    "        c_ids = set(frameh[frameh.cluster == c].ids.unique())\n",
    "        node = [x for x,y in G.nodes(data=True) if y['docs']==c_ids][0]\n",
    "    except:\n",
    "        c_ids = frameh[frameh.cluster == c].ids.unique()\n",
    "        node = [x for x,y in G.nodes(data=True) if y['docs']==c_ids][0]\n",
    "    G.nodes[node]['cluster'] = c"
   ]
  },
  {
   "cell_type": "code",
   "execution_count": 34,
   "metadata": {},
   "outputs": [
    {
     "data": {
      "text/plain": [
       "[['sales', 'retail', 'fall'], ['rose', 'orders', 'goods']]"
      ]
     },
     "execution_count": 34,
     "metadata": {},
     "output_type": "execute_result"
    }
   ],
   "source": [
    "# labels for top nodes\n",
    "topnodes = []\n",
    "for c in list(frameh.cluster.unique()):\n",
    "    topnodes.append( [x for x,y in G.nodes(data=True) if y['cluster']==c][0])\n",
    "[labelsh[int(i)] for i in topnodes]"
   ]
  },
  {
   "cell_type": "code",
   "execution_count": 35,
   "metadata": {},
   "outputs": [
    {
     "data": {
      "text/plain": [
       "[matrix([[0.        , 0.        , 0.00672299, 0.        , 0.0038064 ,\n",
       "          0.01404709, 0.00665979, 0.00610475, 0.        , 0.0038064 ,\n",
       "          0.0091197 , 0.02772066, 0.0034441 , 0.00923203, 0.        ,\n",
       "          0.00657264, 0.        , 0.0466949 , 0.        , 0.00370806,\n",
       "          0.00370806, 0.        , 0.03388668, 0.00584075, 0.        ,\n",
       "          0.02727987, 0.03614042, 0.        , 0.0034441 , 0.03187518,\n",
       "          0.0038064 , 0.        , 0.00337347, 0.        , 0.        ,\n",
       "          0.        , 0.0034441 , 0.00665979, 0.        , 0.        ,\n",
       "          0.        , 0.        , 0.05545183, 0.        , 0.01267083,\n",
       "          0.01107324, 0.        , 0.01933368, 0.0034441 , 0.00337347,\n",
       "          0.        , 0.        , 0.        , 0.        , 0.        ,\n",
       "          0.        , 0.        , 0.        , 0.        , 0.        ,\n",
       "          0.0034441 , 0.00893446, 0.01117341, 0.01280379, 0.        ,\n",
       "          0.01331958, 0.0038064 , 0.        , 0.        , 0.        ,\n",
       "          0.00370806, 0.0034441 , 0.01523053, 0.00605339, 0.0034441 ,\n",
       "          0.00337347, 0.        , 0.00305238, 0.        , 0.00305238,\n",
       "          0.0063387 , 0.00370806, 0.        , 0.        , 0.        ,\n",
       "          0.01003326, 0.        , 0.        , 0.00758576, 0.01260732,\n",
       "          0.0034441 , 0.        , 0.00672299, 0.        , 0.00802086,\n",
       "          0.        , 0.00665979, 0.01044678, 0.        , 0.0038064 ,\n",
       "          0.00496849, 0.06698652, 0.01267083, 0.00554889, 0.        ,\n",
       "          0.        , 0.01331958, 0.        , 0.00560611, 0.        ,\n",
       "          0.00758576, 0.0034441 , 0.02238511, 0.00370806, 0.01008104,\n",
       "          0.        , 0.        , 0.        , 0.        , 0.        ,\n",
       "          0.        , 0.        , 0.0038064 , 0.        , 0.00761279,\n",
       "          0.        , 0.        , 0.00672299, 0.00672299, 0.        ,\n",
       "          0.0034441 , 0.        , 0.00761279, 0.01404683, 0.        ,\n",
       "          0.00370806, 0.00665979, 0.04846976, 0.        , 0.0038064 ,\n",
       "          0.00741612, 0.00370806, 0.        , 0.00893446, 0.        ,\n",
       "          0.0034441 , 0.        , 0.00758576, 0.0034441 , 0.        ,\n",
       "          0.        , 0.        , 0.00370806, 0.        , 0.00370806,\n",
       "          0.        , 0.0034441 , 0.02697688, 0.        , 0.        ,\n",
       "          0.        , 0.01070077, 0.        , 0.00665979, 0.        ,\n",
       "          0.00370806, 0.        , 0.00882784, 0.        , 0.        ,\n",
       "          0.        , 0.        , 0.        , 0.00531386, 0.        ,\n",
       "          0.        , 0.        , 0.        , 0.        , 0.        ,\n",
       "          0.        , 0.        , 0.        , 0.        , 0.0038064 ,\n",
       "          0.00584075, 0.        , 0.        , 0.        , 0.01116901,\n",
       "          0.        , 0.00305238, 0.01340673, 0.01121221, 0.00305238,\n",
       "          0.00298709, 0.01216429, 0.0038064 , 0.01267083, 0.0095521 ,\n",
       "          0.01423402, 0.00802086, 0.        , 0.        , 0.        ,\n",
       "          0.00328632, 0.06123599, 0.        , 0.02243986, 0.00305238,\n",
       "          0.        , 0.        , 0.00305238, 0.0038064 , 0.00758576,\n",
       "          0.        , 0.        , 0.        , 0.00370806, 0.00758576,\n",
       "          0.        , 0.00305238, 0.        , 0.00688819, 0.        ,\n",
       "          0.01517153, 0.00584075, 0.        , 0.05732236, 0.00298709,\n",
       "          0.0034441 , 0.0034441 , 0.00939107, 0.00560611, 0.01003326,\n",
       "          0.00560611, 0.01490512, 0.00451609, 0.00560611, 0.        ,\n",
       "          0.01459833, 0.00277445, 0.04759726, 0.00597418, 0.        ,\n",
       "          0.        , 0.        , 0.        , 0.00665979, 0.02015367,\n",
       "          0.00665979, 0.00560611, 0.        , 0.        , 0.0038064 ,\n",
       "          0.        , 0.01387224, 0.01348757, 0.01003326, 0.        ,\n",
       "          0.01331958, 0.        , 0.01008104, 0.        , 0.        ,\n",
       "          0.        , 0.        , 0.0034441 , 0.0034441 , 0.        ,\n",
       "          0.0050161 , 0.        , 0.01423402, 0.        , 0.        ,\n",
       "          0.01291134, 0.        , 0.00496849, 0.        , 0.        ,\n",
       "          0.00665979, 0.01009646, 0.        , 0.00928292, 0.        ,\n",
       "          0.        , 0.01121905, 0.        , 0.00558303, 0.02853099,\n",
       "          0.01344597, 0.00337347, 0.        , 0.00802086, 0.        ,\n",
       "          0.0034441 , 0.        , 0.00337347, 0.01117341, 0.        ,\n",
       "          0.00370806, 0.08733141, 0.        , 0.02918635, 0.00328632,\n",
       "          0.        , 0.00277445, 0.00665979, 0.00370806, 0.00370806,\n",
       "          0.00758576, 0.        , 0.00328632, 0.00750318, 0.00511774,\n",
       "          0.        , 0.00665979, 0.        , 0.00370806, 0.04483675,\n",
       "          0.        , 0.00496849, 0.05233749, 0.03024311, 0.        ,\n",
       "          0.00255887, 0.        , 0.        , 0.01260732, 0.        ,\n",
       "          0.        , 0.        , 0.00610475, 0.02308651, 0.        ,\n",
       "          0.00560611, 0.        , 0.        , 0.        , 0.00305238,\n",
       "          0.0100488 , 0.        , 0.        , 0.        , 0.00370806,\n",
       "          0.        , 0.        , 0.0038064 , 0.00305238, 0.        ,\n",
       "          0.06020104, 0.00610475, 0.01267083, 0.0093414 , 0.        ,\n",
       "          0.0034441 , 0.00802086, 0.        , 0.00947904, 0.00665979,\n",
       "          0.0038064 , 0.        , 0.        , 0.        , 0.        ,\n",
       "          0.        , 0.        , 0.        , 0.        , 0.        ,\n",
       "          0.        , 0.02168491, 0.02068331, 0.        , 0.        ,\n",
       "          0.        , 0.        , 0.        , 0.        , 0.        ,\n",
       "          0.01331958, 0.        , 0.01619818, 0.00494807, 0.00370806,\n",
       "          0.00275499, 0.        , 0.02042206, 0.00904048, 0.        ,\n",
       "          0.        , 0.01451601, 0.        , 0.00761279, 0.        ,\n",
       "          0.        , 0.        , 0.        , 0.00255887, 0.00672299,\n",
       "          0.00305238, 0.        , 0.00550997, 0.03234346, 0.0126151 ,\n",
       "          0.        , 0.0034441 , 0.0038064 , 0.0091197 , 0.        ,\n",
       "          0.        , 0.02521465, 0.        , 0.00370806, 0.0038064 ,\n",
       "          0.00337347, 0.        , 0.00665979, 0.01340673, 0.0038064 ,\n",
       "          0.        , 0.0038064 , 0.        , 0.        , 0.00370806,\n",
       "          0.00611083, 0.0034441 , 0.        , 0.        , 0.00305238,\n",
       "          0.0034441 , 0.        , 0.        , 0.0030663 , 0.        ,\n",
       "          0.0034441 , 0.0034441 , 0.00787272, 0.        , 0.03999181,\n",
       "          0.01632272, 0.01435696, 0.00560611, 0.01624188, 0.00761279,\n",
       "          0.        , 0.0034441 , 0.        , 0.0034441 , 0.        ,\n",
       "          0.        , 0.01565744, 0.        , 0.        , 0.        ,\n",
       "          0.        , 0.        , 0.01423402, 0.00605339, 0.        ,\n",
       "          0.        , 0.00665979, 0.        , 0.0034441 , 0.        ,\n",
       "          0.        , 0.01331958, 0.00665979, 0.00665979, 0.0034441 ,\n",
       "          0.        , 0.        , 0.        , 0.        , 0.01331958,\n",
       "          0.        , 0.00305238, 0.0034441 , 0.        , 0.        ,\n",
       "          0.        , 0.0038064 , 0.0038064 , 0.        , 0.00370806,\n",
       "          0.0038064 , 0.00665979, 0.        , 0.00305238, 0.01117341,\n",
       "          0.01423402, 0.        , 0.01141919, 0.00665979, 0.01698787,\n",
       "          0.        , 0.00337347, 0.01107324, 0.0038064 , 0.00370806,\n",
       "          0.00328632, 0.        , 0.0038064 , 0.        , 0.01381057,\n",
       "          0.0200879 , 0.        , 0.0034441 , 0.0034441 , 0.        ,\n",
       "          0.0038064 , 0.00305238, 0.0034441 , 0.0038064 , 0.01110803,\n",
       "          0.        , 0.00370806, 0.        , 0.        , 0.00584075,\n",
       "          0.0034441 , 0.00672299, 0.0034441 , 0.0063387 , 0.0034441 ,\n",
       "          0.01346993, 0.        , 0.0034441 , 0.        , 0.00305238,\n",
       "          0.        , 0.0038064 , 0.00560611, 0.00758576, 0.        ,\n",
       "          0.00907719, 0.        , 0.        , 0.00665979, 0.0038064 ,\n",
       "          0.        , 0.0050161 , 0.00915713, 0.01260732, 0.02646486,\n",
       "          0.0034441 , 0.        , 0.00802086, 0.01033229, 0.00688819,\n",
       "          0.        , 0.        , 0.        , 0.        , 0.01498901,\n",
       "          0.00305238, 0.        , 0.        , 0.        , 0.00337347,\n",
       "          0.0034441 , 0.        , 0.        , 0.        , 0.        ,\n",
       "          0.00337347, 0.0038064 , 0.        , 0.        , 0.00305238,\n",
       "          0.        , 0.00665979, 0.0034441 , 0.00370806, 0.00672299,\n",
       "          0.0175445 , 0.00370806, 0.        , 0.01141919, 0.        ,\n",
       "          0.        , 0.0022338 , 0.        , 0.01008104, 0.0038064 ,\n",
       "          0.        , 0.        , 0.        , 0.        , 0.        ,\n",
       "          0.00928292, 0.01260732, 0.00758576, 0.04573296, 0.        ,\n",
       "          0.00370806, 0.01792152, 0.        , 0.00305238, 0.00841108,\n",
       "          0.05544133, 0.0038064 , 0.0038064 , 0.0038064 , 0.00370806,\n",
       "          0.        , 0.07239146, 0.00277445, 0.01267083, 0.00277445,\n",
       "          0.0038064 , 0.00758576, 0.        , 0.00872212, 0.01209848,\n",
       "          0.        , 0.00370806, 0.01823939, 0.00370806, 0.        ,\n",
       "          0.        , 0.00688819, 0.00758576, 0.        , 0.        ,\n",
       "          0.        , 0.0034441 , 0.00305238, 0.0034441 , 0.        ,\n",
       "          0.00305238, 0.00758576, 0.02326569, 0.00761279, 0.00947822,\n",
       "          0.01260732, 0.00665979, 0.04800072, 0.        , 0.00255887,\n",
       "          0.        , 0.        , 0.        , 0.        , 0.00560611,\n",
       "          0.0038064 , 0.00688819, 0.        , 0.01267083, 0.        ,\n",
       "          0.00305238, 0.        , 0.        , 0.        , 0.00370806,\n",
       "          0.00985896, 0.00370806, 0.0034441 , 0.        , 0.        ,\n",
       "          0.0034441 , 0.        , 0.        , 0.        , 0.01008104,\n",
       "          0.        , 0.        , 0.        , 0.        , 0.        ,\n",
       "          0.        , 0.00305238, 0.02154955, 0.01184179, 0.        ,\n",
       "          0.00238273, 0.        , 0.        , 0.        , 0.01033229,\n",
       "          0.0034441 , 0.        , 0.00494807, 0.        , 0.        ,\n",
       "          0.        , 0.        , 0.00665979, 0.00337347, 0.00370806,\n",
       "          0.        , 0.00370806, 0.0038064 , 0.00370806, 0.        ,\n",
       "          0.05425938, 0.        , 0.01008104, 0.        , 0.        ,\n",
       "          0.        , 0.0034441 , 0.0038064 , 0.00758576, 0.        ,\n",
       "          0.        , 0.        , 0.        , 0.        , 0.00337347,\n",
       "          0.00370806, 0.        , 0.        , 0.        , 0.        ,\n",
       "          0.        , 0.00494807, 0.0034441 , 0.00496849, 0.        ,\n",
       "          0.        , 0.        , 0.        , 0.        , 0.02846805,\n",
       "          0.        , 0.00758576, 0.00337347, 0.00665979, 0.        ,\n",
       "          0.        , 0.00370806, 0.        , 0.00337347, 0.00370806,\n",
       "          0.        , 0.        , 0.00688819, 0.0034441 , 0.01565744,\n",
       "          0.00328632, 0.        , 0.0034441 , 0.        , 0.01306352,\n",
       "          0.02342573, 0.01260732, 0.        , 0.        , 0.        ,\n",
       "          0.        , 0.        , 0.        , 0.00665979, 0.00370806,\n",
       "          0.        , 0.00665979, 0.15317036, 0.0505122 , 0.00370806,\n",
       "          0.        , 0.0134481 , 0.00496849, 0.        , 0.0034441 ,\n",
       "          0.        , 0.05388933, 0.        , 0.        , 0.01277304,\n",
       "          0.00305238, 0.00665979, 0.        , 0.08568992, 0.        ,\n",
       "          0.        , 0.        , 0.0034441 , 0.        , 0.40153122,\n",
       "          0.        , 0.        , 0.        , 0.        , 0.01997937,\n",
       "          0.04425371, 0.00328632, 0.00238273, 0.00305238, 0.        ,\n",
       "          0.        , 0.        , 0.        , 0.00729054, 0.0126151 ,\n",
       "          0.        , 0.01222077, 0.0034441 , 0.        , 0.00305238,\n",
       "          0.00370806, 0.0038064 , 0.0038064 , 0.        , 0.        ,\n",
       "          0.        , 0.        , 0.        , 0.01500291, 0.01117341,\n",
       "          0.        , 0.00370806, 0.        , 0.0038064 , 0.00277445,\n",
       "          0.01008104, 0.        , 0.        , 0.        , 0.        ,\n",
       "          0.        , 0.00337347, 0.        , 0.        , 0.01267083,\n",
       "          0.        , 0.02627898, 0.        , 0.        , 0.00758576,\n",
       "          0.00642585, 0.        , 0.00576154, 0.        , 0.00328632,\n",
       "          0.        , 0.        , 0.        , 0.00665979, 0.00370806,\n",
       "          0.        , 0.        , 0.0034441 , 0.00665979, 0.00370806,\n",
       "          0.0034441 , 0.02735782, 0.        , 0.01260732, 0.01121221,\n",
       "          0.0038064 , 0.00370806, 0.        , 0.00370806, 0.00328632,\n",
       "          0.        , 0.        , 0.01510557, 0.00802086, 0.0229327 ,\n",
       "          0.        , 0.        , 0.01331958, 0.        , 0.        ,\n",
       "          0.        , 0.        , 0.        , 0.04964373, 0.03692115,\n",
       "          0.01325964, 0.        , 0.        , 0.02322418, 0.01121905,\n",
       "          0.00370806, 0.        , 0.00328632, 0.        , 0.00758576,\n",
       "          0.        , 0.        , 0.        , 0.        , 0.        ,\n",
       "          0.0034441 , 0.        , 0.03034306, 0.        , 0.0034441 ,\n",
       "          0.        , 0.        , 0.02731799, 0.0034441 , 0.        ,\n",
       "          0.        , 0.        , 0.        , 0.00305238, 0.        ,\n",
       "          0.00305238, 0.00305238, 0.00370806, 0.        , 0.        ,\n",
       "          0.0038064 , 0.        , 0.00305238, 0.00337347, 0.        ,\n",
       "          0.00758576, 0.01260732, 0.0034441 , 0.01693854, 0.01423402,\n",
       "          0.0038064 , 0.        , 0.00653845, 0.        , 0.01517153,\n",
       "          0.00893446, 0.00370806, 0.        , 0.        , 0.01685933,\n",
       "          0.        , 0.        , 0.        , 0.        , 0.06648105,\n",
       "          0.01460316, 0.        , 0.00947822, 0.        , 0.        ,\n",
       "          0.        , 0.        , 0.        , 0.        , 0.        ,\n",
       "          0.00370806, 0.        , 0.        , 0.01806542, 0.00665979,\n",
       "          0.00370806, 0.01267083, 0.        , 0.        , 0.        ,\n",
       "          0.01089539, 0.        , 0.        , 0.00305238, 0.00665979,\n",
       "          0.00370806, 0.0063387 , 0.        , 0.        , 0.        ,\n",
       "          0.01234691, 0.0034441 , 0.00758239, 0.0038064 , 0.01588093,\n",
       "          0.01127203, 0.01230793, 0.01260732, 0.01260732, 0.        ,\n",
       "          0.        , 0.        , 0.02521465, 0.00758576, 0.01517153,\n",
       "          0.0034441 , 0.        , 0.00665979, 0.00370806, 0.0034441 ,\n",
       "          0.00305238, 0.        , 0.0038064 , 0.00305238, 0.0038064 ,\n",
       "          0.        , 0.        , 0.        , 0.        , 0.        ,\n",
       "          0.0034441 , 0.        , 0.0038064 , 0.        , 0.        ,\n",
       "          0.        , 0.        , 0.00665979]]),\n",
       " matrix([[0.01347899, 0.00850484, 0.00316598, 0.00357228, 0.        ,\n",
       "          0.0100133 , 0.        , 0.00307194, 0.00715825, 0.        ,\n",
       "          0.00863312, 0.        , 0.        , 0.02726595, 0.00346617,\n",
       "          0.00368891, 0.00346617, 0.00796311, 0.00357228, 0.        ,\n",
       "          0.        , 0.00357228, 0.01472249, 0.00279223, 0.00346617,\n",
       "          0.0134121 , 0.00823064, 0.02295824, 0.        , 0.        ,\n",
       "          0.        , 0.04245265, 0.00940606, 0.00416232, 0.01204802,\n",
       "          0.00346617, 0.        , 0.        , 0.02032597, 0.00715825,\n",
       "          0.00357228, 0.00357228, 0.00618498, 0.01061316, 0.        ,\n",
       "          0.        , 0.00715825, 0.0187856 , 0.        , 0.00307194,\n",
       "          0.00676085, 0.00357228, 0.00850484, 0.00715825, 0.00416232,\n",
       "          0.02508089, 0.00357228, 0.00602401, 0.00676085, 0.01003301,\n",
       "          0.        , 0.01823252, 0.01067772, 0.00531838, 0.00602401,\n",
       "          0.        , 0.        , 0.00714456, 0.00346617, 0.00346617,\n",
       "          0.        , 0.        , 0.        , 0.00279223, 0.        ,\n",
       "          0.00368891, 0.00623792, 0.01106674, 0.01664929, 0.00368891,\n",
       "          0.        , 0.        , 0.00602401, 0.01248697, 0.00416232,\n",
       "          0.        , 0.00416232, 0.00357228, 0.        , 0.        ,\n",
       "          0.        , 0.02199818, 0.01903228, 0.00346617, 0.        ,\n",
       "          0.00416232, 0.        , 0.0074237 , 0.00357228, 0.        ,\n",
       "          0.00368891, 0.        , 0.        , 0.0192613 , 0.00416232,\n",
       "          0.00693234, 0.        , 0.01061316, 0.        , 0.00357228,\n",
       "          0.        , 0.        , 0.00265411, 0.        , 0.        ,\n",
       "          0.00357228, 0.00832464, 0.00357228, 0.00357228, 0.00346617,\n",
       "          0.00346617, 0.00714456, 0.        , 0.00346617, 0.        ,\n",
       "          0.00416232, 0.00357228, 0.0122081 , 0.0122081 , 0.00346617,\n",
       "          0.        , 0.00416232, 0.        , 0.01557675, 0.02147474,\n",
       "          0.        , 0.        , 0.03406146, 0.00346617, 0.        ,\n",
       "          0.        , 0.        , 0.0137748 , 0.00307194, 0.00416232,\n",
       "          0.        , 0.00357228, 0.        , 0.        , 0.00346617,\n",
       "          0.00676085, 0.00346617, 0.        , 0.00905943, 0.        ,\n",
       "          0.00623792, 0.        , 0.01085919, 0.00357228, 0.04193368,\n",
       "          0.00714456, 0.00447567, 0.00346617, 0.        , 0.01248697,\n",
       "          0.        , 0.01204802, 0.        , 0.00357228, 0.00346617,\n",
       "          0.00357228, 0.00602401, 0.00357228, 0.00712978, 0.00416232,\n",
       "          0.00416232, 0.02057235, 0.00416232, 0.00416232, 0.00346617,\n",
       "          0.00832464, 0.00602401, 0.02409605, 0.01605046, 0.        ,\n",
       "          0.00576644, 0.00357228, 0.00602401, 0.00357228, 0.03948821,\n",
       "          0.01061316, 0.01194448, 0.        , 0.        , 0.00368891,\n",
       "          0.01293678, 0.04737202, 0.        , 0.        , 0.00265411,\n",
       "          0.        , 0.        , 0.02711593, 0.02410504, 0.00357228,\n",
       "          0.00316598, 0.01866632, 0.00602401, 0.        , 0.00633196,\n",
       "          0.00602401, 0.00416232, 0.00316598, 0.        , 0.        ,\n",
       "          0.01204802, 0.01807203, 0.00832464, 0.        , 0.        ,\n",
       "          0.00346617, 0.00307194, 0.01061316, 0.        , 0.01061316,\n",
       "          0.        , 0.00575542, 0.0194991 , 0.0629711 , 0.00864415,\n",
       "          0.        , 0.        , 0.        , 0.        , 0.        ,\n",
       "          0.        , 0.009037  , 0.00764497, 0.        , 0.01061316,\n",
       "          0.05360278, 0.04137388, 0.01666653, 0.00614525, 0.00357228,\n",
       "          0.01104646, 0.00676085, 0.00983279, 0.        , 0.        ,\n",
       "          0.        , 0.        , 0.00357228, 0.03458045, 0.        ,\n",
       "          0.00714456, 0.01971656, 0.03353085, 0.        , 0.00715825,\n",
       "          0.        , 0.00357228, 0.        , 0.00357228, 0.01351175,\n",
       "          0.00357228, 0.00357228, 0.        , 0.        , 0.00602401,\n",
       "          0.03867109, 0.01802705, 0.        , 0.01104646, 0.00675588,\n",
       "          0.        , 0.00416232, 0.00307194, 0.00602401, 0.00346617,\n",
       "          0.        , 0.        , 0.01702182, 0.01269297, 0.00602401,\n",
       "          0.00357228, 0.01641443, 0.00346617, 0.00883909, 0.01157202,\n",
       "          0.00368891, 0.00316598, 0.00357228, 0.        , 0.02104535,\n",
       "          0.        , 0.00346617, 0.00316598, 0.00614388, 0.00416232,\n",
       "          0.        , 0.01623938, 0.00675588, 0.01332863, 0.0122081 ,\n",
       "          0.00357228, 0.00566994, 0.        , 0.        , 0.        ,\n",
       "          0.        , 0.00346617, 0.00307194, 0.00279223, 0.01141435,\n",
       "          0.02400292, 0.        , 0.00346617, 0.        , 0.02728556,\n",
       "          0.00357228, 0.00368891, 0.00704721, 0.        , 0.0143165 ,\n",
       "          0.00832186, 0.00832464, 0.00346617, 0.        , 0.00602401,\n",
       "          0.00623792, 0.00346617, 0.00307194, 0.00544231, 0.00693234,\n",
       "          0.        , 0.02517616, 0.01776362, 0.00850484, 0.00316598,\n",
       "          0.01834223, 0.01168295, 0.0185522 , 0.03710439, 0.        ,\n",
       "          0.01248697, 0.01664929, 0.        , 0.00533886, 0.03329857,\n",
       "          0.02124772, 0.00307194, 0.        , 0.02307193, 0.01044977,\n",
       "          0.        , 0.        , 0.0143165 , 0.00820722, 0.        ,\n",
       "          0.        , 0.06304926, 0.00357228, 0.00357228, 0.00832464,\n",
       "          0.0084108 , 0.00346617, 0.00357228, 0.01871376, 0.00693234,\n",
       "          0.00346617, 0.01768253, 0.0857138 , 0.00346617, 0.00693234,\n",
       "          0.022174  , 0.00357228, 0.01071684, 0.00346617, 0.00693234,\n",
       "          0.        , 0.01052268, 0.        , 0.00982169, 0.        ,\n",
       "          0.01320186, 0.00357228, 0.02528876, 0.00287771, 0.00416232,\n",
       "          0.01204802, 0.        , 0.00676085, 0.        , 0.00675588,\n",
       "          0.02209292, 0.00715825, 0.00346617, 0.01363007, 0.00316598,\n",
       "          0.00316598, 0.01104646, 0.01728524, 0.01085153, 0.00533886,\n",
       "          0.02209292, 0.        , 0.        , 0.02564881, 0.00346617,\n",
       "          0.02426319, 0.        , 0.03710439, 0.        , 0.        ,\n",
       "          0.00316598, 0.00357228, 0.        , 0.        , 0.        ,\n",
       "          0.00357228, 0.        , 0.00416232, 0.00357228, 0.        ,\n",
       "          0.00864415, 0.        , 0.00714456, 0.01052268, 0.00368891,\n",
       "          0.        , 0.00623792, 0.00346617, 0.02040949, 0.00930986,\n",
       "          0.        , 0.        , 0.01037991, 0.00602401, 0.0336305 ,\n",
       "          0.00279223, 0.01022043, 0.        , 0.01992541, 0.        ,\n",
       "          0.00715825, 0.        , 0.00357228, 0.        , 0.02604548,\n",
       "          0.00346617, 0.        , 0.01926333, 0.0275496 , 0.01132635,\n",
       "          0.03044062, 0.00602401, 0.        , 0.00287771, 0.00905943,\n",
       "          0.0143165 , 0.        , 0.00357228, 0.        , 0.00357228,\n",
       "          0.00346617, 0.        , 0.        , 0.        , 0.        ,\n",
       "          0.00416232, 0.00623792, 0.00623792, 0.00346617, 0.        ,\n",
       "          0.00416232, 0.00949794, 0.        , 0.00416232, 0.00676085,\n",
       "          0.00416232, 0.        , 0.        , 0.0173987 , 0.        ,\n",
       "          0.        , 0.        , 0.00346617, 0.00316598, 0.00307194,\n",
       "          0.        , 0.00357228, 0.        , 0.        , 0.0098951 ,\n",
       "          0.00850484, 0.00316598, 0.        , 0.        , 0.        ,\n",
       "          0.00598749, 0.00346617, 0.        , 0.00346617, 0.02176497,\n",
       "          0.00920052, 0.01071684, 0.        , 0.        , 0.00623792,\n",
       "          0.        , 0.00368891, 0.        , 0.        , 0.00335303,\n",
       "          0.00602401, 0.        , 0.00357228, 0.00346617, 0.00558446,\n",
       "          0.        , 0.00368891, 0.        , 0.        , 0.        ,\n",
       "          0.        , 0.01340038, 0.        , 0.00357228, 0.00307194,\n",
       "          0.01504691, 0.        , 0.        , 0.        , 0.00357228,\n",
       "          0.02449891, 0.01734493, 0.02495168, 0.        , 0.        ,\n",
       "          0.00357228, 0.02454511, 0.00921582, 0.        , 0.        ,\n",
       "          0.        , 0.00416232, 0.        , 0.        , 0.        ,\n",
       "          0.00416232, 0.00416232, 0.00693234, 0.00357228, 0.00257527,\n",
       "          0.00307194, 0.00675588, 0.00675588, 0.00357228, 0.00307194,\n",
       "          0.        , 0.01204802, 0.01168295, 0.02147474, 0.00357228,\n",
       "          0.00633196, 0.        , 0.00346617, 0.00675588, 0.00307194,\n",
       "          0.01204802, 0.        , 0.        , 0.        , 0.00940606,\n",
       "          0.0241321 , 0.        , 0.00357228, 0.        , 0.00346617,\n",
       "          0.00357228, 0.02595622, 0.00416232, 0.        , 0.        ,\n",
       "          0.00346617, 0.00357228, 0.00416232, 0.00346617, 0.00693234,\n",
       "          0.01534707, 0.        , 0.        , 0.01669235, 0.04460414,\n",
       "          0.        , 0.0077258 , 0.00346617, 0.00633196, 0.0057466 ,\n",
       "          0.        , 0.        , 0.        , 0.        , 0.        ,\n",
       "          0.04043205, 0.01258857, 0.00832001, 0.        , 0.02253157,\n",
       "          0.        , 0.        , 0.0096764 , 0.09220583, 0.00544231,\n",
       "          0.00902296, 0.        , 0.00485274, 0.        , 0.00623792,\n",
       "          0.00602401, 0.        , 0.        , 0.00346617, 0.00416232,\n",
       "          0.0137748 , 0.        , 0.00316598, 0.        , 0.00602401,\n",
       "          0.00307194, 0.        , 0.        , 0.        , 0.        ,\n",
       "          0.        , 0.        , 0.00741423, 0.00416232, 0.01228032,\n",
       "          0.00346617, 0.0094039 , 0.00346617, 0.00346617, 0.        ,\n",
       "          0.        , 0.        , 0.00346617, 0.        , 0.00693234,\n",
       "          0.00921582, 0.00602401, 0.00416232, 0.00416232, 0.        ,\n",
       "          0.01194448, 0.        , 0.        , 0.00951008, 0.00416232,\n",
       "          0.        , 0.00714456, 0.00357228, 0.00357228, 0.        ,\n",
       "          0.02147474, 0.00715825, 0.00715825, 0.01104646, 0.00357228,\n",
       "          0.0068549 , 0.00307194, 0.        , 0.0153205 , 0.01776362,\n",
       "          0.06749413, 0.00675588, 0.00602401, 0.00951008, 0.        ,\n",
       "          0.        , 0.00902777, 0.0122931 , 0.01966559, 0.00715825,\n",
       "          0.01204802, 0.00623792, 0.        , 0.00316598, 0.        ,\n",
       "          0.00714456, 0.        , 0.        , 0.        , 0.00357228,\n",
       "          0.0108569 , 0.01347735, 0.        , 0.00416232, 0.0275496 ,\n",
       "          0.00951008, 0.        , 0.        , 0.        , 0.00416232,\n",
       "          0.00416232, 0.00602401, 0.00832464, 0.02081161, 0.00633196,\n",
       "          0.        , 0.00602401, 0.00346617, 0.00346617, 0.00416232,\n",
       "          0.00357228, 0.01936429, 0.        , 0.00614388, 0.00357228,\n",
       "          0.00675588, 0.00416232, 0.00357228, 0.00357228, 0.        ,\n",
       "          0.01061316, 0.        , 0.00633196, 0.        , 0.00357228,\n",
       "          0.00357228, 0.        , 0.00416232, 0.00598749, 0.        ,\n",
       "          0.01061316, 0.02456448, 0.        , 0.        , 0.        ,\n",
       "          0.00316598, 0.00714456, 0.        , 0.01104646, 0.01560928,\n",
       "          0.02821819, 0.        , 0.00346617, 0.00623792, 0.00346617,\n",
       "          0.00357228, 0.00416232, 0.00357228, 0.        , 0.        ,\n",
       "          0.012478  , 0.        , 0.04866727, 0.02462165, 0.        ,\n",
       "          0.00346617, 0.02020883, 0.01194448, 0.00675588, 0.        ,\n",
       "          0.00416232, 0.0487015 , 0.01347735, 0.01728334, 0.01237598,\n",
       "          0.00307194, 0.        , 0.00346617, 0.11062483, 0.01248697,\n",
       "          0.00416232, 0.00346617, 0.        , 0.00346617, 0.01011651,\n",
       "          0.01104646, 0.00602401, 0.00357228, 0.00357228, 0.        ,\n",
       "          0.00755601, 0.00949794, 0.02576802, 0.00307194, 0.00714456,\n",
       "          0.00416232, 0.00357228, 0.00715825, 0.00287771, 0.00614388,\n",
       "          0.01061316, 0.        , 0.        , 0.02199818, 0.00533886,\n",
       "          0.        , 0.        , 0.        , 0.01061316, 0.04245265,\n",
       "          0.00357228, 0.01347735, 0.00416232, 0.00978388, 0.00633196,\n",
       "          0.0138437 , 0.        , 0.00693234, 0.        , 0.02328719,\n",
       "          0.        , 0.01248697, 0.00346617, 0.00346617, 0.00346617,\n",
       "          0.01347735, 0.00368891, 0.00346617, 0.00357228, 0.        ,\n",
       "          0.01248697, 0.        , 0.00357228, 0.00357228, 0.        ,\n",
       "          0.        , 0.00714456, 0.00287771, 0.00357228, 0.0122081 ,\n",
       "          0.00357228, 0.00676085, 0.00357228, 0.        , 0.        ,\n",
       "          0.00416232, 0.00346617, 0.        , 0.        , 0.        ,\n",
       "          0.        , 0.01460822, 0.00357228, 0.        , 0.        ,\n",
       "          0.        , 0.        , 0.00357228, 0.        , 0.00533886,\n",
       "          0.00357228, 0.02457661, 0.01194448, 0.        , 0.05288651,\n",
       "          0.00346617, 0.00357228, 0.        , 0.00346617, 0.01104646,\n",
       "          0.00346617, 0.00357228, 0.00693234, 0.        , 0.        ,\n",
       "          0.00265411, 0.00346617, 0.00346617, 0.01262011, 0.00515054,\n",
       "          0.        , 0.00416232, 0.00316598, 0.00357228, 0.        ,\n",
       "          0.01204802, 0.00832464, 0.00416232, 0.00357228, 0.01802705,\n",
       "          0.        , 0.00357228, 0.        , 0.00357228, 0.        ,\n",
       "          0.00602401, 0.00346617, 0.00247141, 0.        , 0.00346617,\n",
       "          0.00416232, 0.01349689, 0.00346617, 0.00307194, 0.00346617,\n",
       "          0.00307194, 0.00307194, 0.        , 0.00346617, 0.00416232,\n",
       "          0.        , 0.00346617, 0.00614388, 0.00368891, 0.01054381,\n",
       "          0.        , 0.        , 0.        , 0.0085496 , 0.        ,\n",
       "          0.        , 0.02057235, 0.04569604, 0.00416232, 0.        ,\n",
       "          0.00737783, 0.        , 0.00675588, 0.00416232, 0.00485274,\n",
       "          0.04114469, 0.06520367, 0.00346617, 0.00602401, 0.        ,\n",
       "          0.        , 0.00346617, 0.        , 0.00346617, 0.00357228,\n",
       "          0.00346617, 0.00357228, 0.01061316, 0.00715825, 0.00676085,\n",
       "          0.        , 0.01347735, 0.00675588, 0.00978388, 0.        ,\n",
       "          0.        , 0.        , 0.00357228, 0.00693234, 0.00357228,\n",
       "          0.00575542, 0.00930986, 0.01807203, 0.00307194, 0.        ,\n",
       "          0.        , 0.        , 0.00602401, 0.01061316, 0.00623792,\n",
       "          0.00726741, 0.        , 0.00287771, 0.        , 0.0102343 ,\n",
       "          0.01656489, 0.        , 0.        , 0.        , 0.00357228,\n",
       "          0.03153191, 0.00602401, 0.        , 0.        , 0.        ,\n",
       "          0.        , 0.00346617, 0.        , 0.        , 0.        ,\n",
       "          0.00368891, 0.01104646, 0.        , 0.00368891, 0.        ,\n",
       "          0.01386468, 0.00693234, 0.0084108 , 0.00850484, 0.00602401,\n",
       "          0.        , 0.04924169, 0.        , 0.00602401, 0.00602401,\n",
       "          0.01204802, 0.00602401, 0.        ]])]"
      ]
     },
     "execution_count": 35,
     "metadata": {},
     "output_type": "execute_result"
    }
   ],
   "source": [
    "# centroids for the top leve clusters\n",
    "[centroidh[int(i)] for i in topnodes]"
   ]
  },
  {
   "cell_type": "code",
   "execution_count": null,
   "metadata": {},
   "outputs": [],
   "source": []
  },
  {
   "cell_type": "code",
   "execution_count": 52,
   "metadata": {},
   "outputs": [],
   "source": [
    "# visualization based on distances: x and y coordinates  \n",
    "\n",
    "###### should use tsne or umap in reality \n",
    "\n",
    "MDS()\n",
    "\n",
    "# convert two components as we're plotting points in a two-dimensional plane\n",
    "# \"precomputed\" because we provide a distance matrix\n",
    "# we will also specify `random_state` so the plot is reproducible.\n",
    "mds = MDS(n_components=2, dissimilarity=\"precomputed\", random_state=1)\n",
    "\n",
    "pos = mds.fit_transform(dist_e)  # shape (n_components, n_samples)\n",
    "\n",
    "xs, ys = pos[:, 0], pos[:, 1]"
   ]
  },
  {
   "cell_type": "code",
   "execution_count": 53,
   "metadata": {
    "scrolled": true
   },
   "outputs": [],
   "source": [
    "df_vis = pd.DataFrame(dict(x = xs, y = ys, cluster = f))"
   ]
  },
  {
   "cell_type": "code",
   "execution_count": 57,
   "metadata": {},
   "outputs": [
    {
     "ename": "IndexError",
     "evalue": "list index out of range",
     "output_type": "error",
     "traceback": [
      "\u001b[1;31m---------------------------------------------------------------------------\u001b[0m",
      "\u001b[1;31mIndexError\u001b[0m                                Traceback (most recent call last)",
      "\u001b[1;32m<ipython-input-57-db9315e3bb96>\u001b[0m in \u001b[0;36m<module>\u001b[1;34m\u001b[0m\n\u001b[0;32m      1\u001b[0m \u001b[0mcluster_labels\u001b[0m \u001b[1;33m=\u001b[0m \u001b[0mdict\u001b[0m\u001b[1;33m(\u001b[0m\u001b[1;33m)\u001b[0m\u001b[1;33m\u001b[0m\u001b[0m\n\u001b[0;32m      2\u001b[0m \u001b[1;32mfor\u001b[0m \u001b[0mi\u001b[0m \u001b[1;32min\u001b[0m \u001b[0mrange\u001b[0m\u001b[1;33m(\u001b[0m\u001b[0mlen\u001b[0m\u001b[1;33m(\u001b[0m\u001b[0mf\u001b[0m\u001b[1;33m)\u001b[0m\u001b[1;33m)\u001b[0m\u001b[1;33m:\u001b[0m\u001b[1;33m\u001b[0m\u001b[0m\n\u001b[1;32m----> 3\u001b[1;33m     \u001b[0mcluster_labels\u001b[0m\u001b[1;33m[\u001b[0m\u001b[0mi\u001b[0m\u001b[1;33m]\u001b[0m \u001b[1;33m=\u001b[0m \u001b[0mlabels\u001b[0m\u001b[1;33m[\u001b[0m\u001b[0mi\u001b[0m\u001b[1;33m]\u001b[0m\u001b[1;33m\u001b[0m\u001b[0m\n\u001b[0m\u001b[0;32m      4\u001b[0m \u001b[1;33m\u001b[0m\u001b[0m\n\u001b[0;32m      5\u001b[0m \u001b[0mcluster_colors\u001b[0m \u001b[1;33m=\u001b[0m \u001b[1;33m{\u001b[0m\u001b[1;36m0\u001b[0m\u001b[1;33m:\u001b[0m \u001b[1;34m'#1b9e77'\u001b[0m\u001b[1;33m,\u001b[0m \u001b[1;36m1\u001b[0m\u001b[1;33m:\u001b[0m \u001b[1;34m'#d95f02'\u001b[0m\u001b[1;33m,\u001b[0m \u001b[1;36m2\u001b[0m\u001b[1;33m:\u001b[0m \u001b[1;34m'#7570b3'\u001b[0m\u001b[1;33m}\u001b[0m\u001b[1;33m\u001b[0m\u001b[0m\n",
      "\u001b[1;31mIndexError\u001b[0m: list index out of range"
     ]
    }
   ],
   "source": [
    "cluster_labels = dict()\n",
    "for i in range(len(f)):\n",
    "    cluster_labels[i] = labels[i]\n",
    "    \n",
    "cluster_colors = {0: '#1b9e77', 1: '#d95f02', 2: '#7570b3'}"
   ]
  },
  {
   "cell_type": "code",
   "execution_count": 56,
   "metadata": {
    "scrolled": false
   },
   "outputs": [
    {
     "data": {
      "image/png": "[encoded data removed]",
      "text/plain": [
       "<Figure size 1224x648 with 1 Axes>"
      ]
     },
     "metadata": {
      "needs_background": "light"
     },
     "output_type": "display_data"
    }
   ],
   "source": [
    "fig, ax = plt.subplots(figsize=(17, 9)) \n",
    "\n",
    "df_vis.cluster = df_vis.cluster - 1 # want clusters to start at 0 \n",
    "groups = df_vis.groupby('cluster')\n",
    "\n",
    "for name, group in groups:\n",
    "    ax.scatter(group.x, group.y, c  = cluster_colors[name], label = cluster_labels[name])\n",
    "    ax.legend()\n",
    "    \n",
    "### everything is far apart! curse of dimensionality "
   ]
  },
  {
   "cell_type": "code",
   "execution_count": null,
   "metadata": {},
   "outputs": [],
   "source": []
  },
  {
   "cell_type": "code",
   "execution_count": null,
   "metadata": {},
   "outputs": [],
   "source": []
  },
  {
   "cell_type": "code",
   "execution_count": null,
   "metadata": {},
   "outputs": [],
   "source": []
  },
  {
   "cell_type": "code",
   "execution_count": null,
   "metadata": {},
   "outputs": [],
   "source": []
  },
  {
   "cell_type": "code",
   "execution_count": null,
   "metadata": {},
   "outputs": [],
   "source": []
  },
  {
   "cell_type": "code",
   "execution_count": null,
   "metadata": {},
   "outputs": [],
   "source": []
  },
  {
   "cell_type": "code",
   "execution_count": null,
   "metadata": {},
   "outputs": [],
   "source": []
  },
  {
   "cell_type": "code",
   "execution_count": null,
   "metadata": {},
   "outputs": [],
   "source": [
    "# kmeans \n",
    "# need to research and mess with paramters \n",
    "from sklearn.cluster import KMeans\n",
    "\n",
    "num_clusters = 3\n",
    "\n",
    "km = KMeans(n_clusters=num_clusters)\n",
    "\n",
    "%time km.fit(m)\n",
    "\n",
    "clusters = km.labels_.tolist()"
   ]
  },
  {
   "cell_type": "code",
   "execution_count": null,
   "metadata": {
    "scrolled": true
   },
   "outputs": [],
   "source": [
    "# merge in with original data via pandas\n",
    "frame = pd.DataFrame(df_retail.index, index = [clusters], columns = ['index_retail'])\n",
    "frame = pd.merge(frame, df_retail, right_index = True, left_on = 'index_retail')\n",
    "frame['cluster'] = frame.index.str[0]\n",
    "frame = frame.reset_index()"
   ]
  },
  {
   "cell_type": "code",
   "execution_count": null,
   "metadata": {},
   "outputs": [],
   "source": [
    "#sort cluster centers by proximity to centroid\n",
    "order_centroids = km.cluster_centers_.argsort()[:, ::-1] \n",
    "order_centroids"
   ]
  },
  {
   "cell_type": "code",
   "execution_count": null,
   "metadata": {
    "scrolled": true
   },
   "outputs": [],
   "source": [
    "frame.cluster.value_counts() # number of documents per cluster \n",
    "\n",
    "## http://brandonrose.org/clustering : more info on finding most common words in cluster, visualizing, hierarchial \n",
    "# also try taking average of tf-idf per cluster and using that way. "
   ]
  },
  {
   "cell_type": "code",
   "execution_count": null,
   "metadata": {
    "scrolled": true
   },
   "outputs": [],
   "source": [
    "# most common words in clusters \n",
    "\n",
    "labels = []\n",
    "for i in range(3):\n",
    "    # most common words\n",
    "    cluster1 = list(frame[frame.cluster == i].index.unique())\n",
    "    # find documents cluster\n",
    "    m1 = m[cluster1,:]\n",
    "    # take mean vector among all documents\n",
    "    m1 = m1.mean(axis = 0)\n",
    "    # max values in mean vector \n",
    "    lst = []\n",
    "\n",
    "    for i in np.argsort(np.asarray(m1)[0])[::-1][:3]:\n",
    "        lst.append(feature_names[i])\n",
    "        \n",
    "    labels.append(lst)"
   ]
  },
  {
   "cell_type": "code",
   "execution_count": 51,
   "metadata": {},
   "outputs": [],
   "source": [
    "# visualization based on distances: x and y coordinates  \n",
    "\n",
    "###### should use tsne or umap in reality \n",
    "\n",
    "MDS()\n",
    "\n",
    "# convert two components as we're plotting points in a two-dimensional plane\n",
    "# \"precomputed\" because we provide a distance matrix\n",
    "# we will also specify `random_state` so the plot is reproducible.\n",
    "mds = MDS(n_components=2, dissimilarity=\"precomputed\", random_state=1)\n",
    "\n",
    "pos = mds.fit_transform(dist_e)  # shape (n_components, n_samples)\n",
    "\n",
    "xs, ys = pos[:, 0], pos[:, 1]"
   ]
  },
  {
   "cell_type": "code",
   "execution_count": 39,
   "metadata": {
    "scrolled": true
   },
   "outputs": [],
   "source": [
    "df_vis = pd.DataFrame(dict(x = xs, y = ys, cluster = f))"
   ]
  },
  {
   "cell_type": "code",
   "execution_count": 40,
   "metadata": {},
   "outputs": [],
   "source": [
    "cluster_labels = dict()\n",
    "for i in range(len(f)):\n",
    "    cluster_labels[i] = labels[i]\n",
    "    \n",
    "cluster_colors = {0: '#1b9e77', 1: '#d95f02', 2: '#7570b3'}"
   ]
  },
  {
   "cell_type": "code",
   "execution_count": 49,
   "metadata": {
    "scrolled": false
   },
   "outputs": [
    {
     "data": {
      "image/png": "[encoded data removed]",
      "text/plain": [
       "<Figure size 1224x648 with 1 Axes>"
      ]
     },
     "metadata": {
      "needs_background": "light"
     },
     "output_type": "display_data"
    }
   ],
   "source": [
    "fig, ax = plt.subplots(figsize=(17, 9)) \n",
    "\n",
    "groups = df_vis.groupby('cluster')\n",
    "\n",
    "for name, group in groups:\n",
    "    ax.scatter(group.x, group.y, c  = cluster_colors[name], label = cluster_labels[name])\n",
    "    ax.legend()\n",
    "    \n",
    "### everything is far apart!"
   ]
  },
  {
   "cell_type": "code",
   "execution_count": null,
   "metadata": {},
   "outputs": [],
   "source": []
  },
  {
   "cell_type": "code",
   "execution_count": null,
   "metadata": {},
   "outputs": [],
   "source": []
  },
  {
   "cell_type": "code",
   "execution_count": null,
   "metadata": {},
   "outputs": [],
   "source": []
  },
  {
   "cell_type": "code",
   "execution_count": null,
   "metadata": {},
   "outputs": [],
   "source": [
    "#svd\n",
    "# try following lingo algorithm as per paper\n",
    "u,s,v = np.linalg.svd(m.todense().T, full_matrices = False) # full_matrices make dimensions work. Min(M,N) (why necessary??)\n",
    "s = np.diag(s)"
   ]
  },
  {
   "cell_type": "code",
   "execution_count": null,
   "metadata": {},
   "outputs": [],
   "source": [
    "m.shape"
   ]
  },
  {
   "cell_type": "code",
   "execution_count": null,
   "metadata": {},
   "outputs": [],
   "source": [
    "cluster1"
   ]
  },
  {
   "cell_type": "code",
   "execution_count": null,
   "metadata": {},
   "outputs": [],
   "source": [
    "x = np.matmul(s,v.T)\n",
    "np.matmul(u, x)"
   ]
  },
  {
   "cell_type": "code",
   "execution_count": null,
   "metadata": {},
   "outputs": [],
   "source": []
  },
  {
   "cell_type": "code",
   "execution_count": null,
   "metadata": {},
   "outputs": [],
   "source": []
  },
  {
   "cell_type": "code",
   "execution_count": null,
   "metadata": {},
   "outputs": [],
   "source": [
    "# get unique list of topics (categories)\n",
    "topics = list(df.categories)\n",
    "topics = [item for sublist in topics for item in sublist]\n",
    "topics = set(topics)\n",
    "\n",
    "\n",
    "df[df.categories.map(set(['earn']).issubset)]\n",
    "\n",
    "df['len'] = df.text.apply(lambda row: len(row))\n"
   ]
  }
 ],
 "metadata": {
  "kernelspec": {
   "display_name": "Python 3",
   "language": "python",
   "name": "python3"
  },
  "language_info": {
   "codemirror_mode": {
    "name": "ipython",
    "version": 3
   },
   "file_extension": ".py",
   "mimetype": "text/x-python",
   "name": "python",
   "nbconvert_exporter": "python",
   "pygments_lexer": "ipython3",
   "version": "3.7.0"
  }
 },
 "nbformat": 4,
 "nbformat_minor": 2
}
