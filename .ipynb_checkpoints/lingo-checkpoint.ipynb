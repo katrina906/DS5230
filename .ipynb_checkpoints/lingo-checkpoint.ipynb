{
 "cells": [
  {
   "cell_type": "markdown",
   "metadata": {},
   "source": [
    "TO DO SVD:\n",
    "- Need evaluation metrics: silhouette, distortion for svd as well. \n",
    "- Try to get phrases rather than just words - perhaps beyond scope\n",
    "\n",
    "TO DO in general:\n",
    "- score and rank clusters \n",
    "- metrics to compare clusters for two methods\n",
    "- Scale up to multiple search terms. Figure out metrics to evaluate. (silhouette etc.)\n",
    "- Visualization with tsne or umap rather than mds -- tsne works. can't get umap to install.   "
   ]
  },
  {
   "cell_type": "code",
   "execution_count": null,
   "metadata": {},
   "outputs": [],
   "source": []
  }
 ],
 "metadata": {
  "kernelspec": {
   "display_name": "Python 3",
   "language": "python",
   "name": "python3"
  },
  "language_info": {
   "codemirror_mode": {
    "name": "ipython",
    "version": 3
   },
   "file_extension": ".py",
   "mimetype": "text/x-python",
   "name": "python",
   "nbconvert_exporter": "python",
   "pygments_lexer": "ipython3",
   "version": "3.7.0"
  }
 },
 "nbformat": 4,
 "nbformat_minor": 2
}
