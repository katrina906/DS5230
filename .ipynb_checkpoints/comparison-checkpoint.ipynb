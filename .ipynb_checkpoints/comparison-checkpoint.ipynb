{
 "cells": [
  {
   "cell_type": "markdown",
   "metadata": {},
   "source": [
    "Both have some very large clusters.  \n",
    "Better for hierarchial because also have sub clusters.  \n",
    "    \n",
    "Note in report that could have tried other clustering methods (kmeans, spectral) but the point was either to get good labels (lingo) or get hierarchy. both have pros over general clustering. kmeans and spectral would get labels in the same way as hierarchy without hierarchy -- one of the struggles is that don't want too many clusters else too much information but then clusters are too big. hierarchy is a way to deal with this"
   ]
  },
  {
   "cell_type": "code",
   "execution_count": 7,
   "metadata": {},
   "outputs": [],
   "source": [
    "import pickle\n",
    "import numpy as np\n",
    "import pandas as pd"
   ]
  },
  {
   "cell_type": "markdown",
   "metadata": {},
   "source": [
    "### Load Data"
   ]
  },
  {
   "cell_type": "code",
   "execution_count": 16,
   "metadata": {},
   "outputs": [],
   "source": [
    "with open('lingo', \"rb\") as f:\n",
    "    df_final_l = pickle.load(f)\n",
    "    labels_l = pickle.load(f)\n",
    "    k_l = pickle.load(f)\n",
    "    dist_l = pickle.load(f)\n",
    "    sil_l = pickle.load(f)"
   ]
  },
  {
   "cell_type": "code",
   "execution_count": 3,
   "metadata": {},
   "outputs": [],
   "source": [
    "with open('hierarchial', \"rb\") as f:\n",
    "    df_final_h = pickle.load(f)\n",
    "    labels_h = pickle.load(f)\n",
    "    k_h = pickle.load(f)\n",
    "    dist_h = pickle.load(f)\n",
    "    sil_h = pickle.load(f)"
   ]
  },
  {
   "cell_type": "markdown",
   "metadata": {},
   "source": [
    "### Look for Large Differences in Stats "
   ]
  },
  {
   "cell_type": "code",
   "execution_count": 4,
   "metadata": {},
   "outputs": [],
   "source": [
    "def stat_diff(stat1, stat2, n):\n",
    "    # difference in k: look for big differences\n",
    "    for i in stat1.keys():\n",
    "        diff = abs(stat2[i] - stat1[i])\n",
    "        if diff > n:\n",
    "            print(i)"
   ]
  },
  {
   "cell_type": "code",
   "execution_count": 20,
   "metadata": {},
   "outputs": [
    {
     "name": "stdout",
     "output_type": "stream",
     "text": [
      "alum\n",
      "money-supply\n",
      "ipi\n",
      "retail\n",
      "cpi\n",
      "hog\n",
      "copper\n",
      "coffee\n",
      "soy-oil\n",
      "nat-gas\n"
     ]
    }
   ],
   "source": [
    "stat_diff(k_h, k_l, 3)"
   ]
  },
  {
   "cell_type": "code",
   "execution_count": 21,
   "metadata": {},
   "outputs": [
    {
     "name": "stdout",
     "output_type": "stream",
     "text": [
      "wheat\n",
      "barley\n",
      "crude\n",
      "alum\n",
      "money-supply\n",
      "bop\n",
      "housing\n",
      "gnp\n",
      "palm-oil\n",
      "ipi\n",
      "sorghum\n",
      "tea\n",
      "retail\n",
      "jobs\n",
      "sugar\n",
      "rice\n",
      "soy-meal\n",
      "oat\n",
      "trade\n",
      "lei\n",
      "veg-oil\n",
      "livestock\n",
      "dlr\n",
      "platinum\n",
      "pet-chem\n",
      "ship\n",
      "income\n",
      "potato\n",
      "yen\n",
      "cpi\n",
      "cocoa\n",
      "zinc\n",
      "reserves\n",
      "interest\n",
      "rapeseed\n",
      "oilseed\n",
      "hog\n",
      "money-fx\n",
      "orange\n",
      "corn\n",
      "rape-oil\n",
      "cotton\n",
      "heat\n",
      "wpi\n",
      "fuel\n",
      "coffee\n",
      "tin\n",
      "soy-oil\n",
      "gold\n",
      "gas\n",
      "rubber\n",
      "meal-feed\n",
      "silver\n",
      "carcass\n",
      "grain\n",
      "sunseed\n",
      "soybean\n",
      "lead\n",
      "dmk\n"
     ]
    }
   ],
   "source": [
    "stat_diff(dist_h, dist_l, 0.25)"
   ]
  },
  {
   "cell_type": "code",
   "execution_count": 22,
   "metadata": {},
   "outputs": [
    {
     "name": "stdout",
     "output_type": "stream",
     "text": [
      "gas\n",
      "alum\n",
      "soybean\n",
      "sun-oil\n",
      "wheat\n",
      "lead\n",
      "jet\n",
      "corn\n",
      "rice\n",
      "interest\n",
      "l-cattle\n",
      "silver\n",
      "strategic-metal\n",
      "zinc\n",
      "meal-feed\n",
      "soy-meal\n",
      "livestock\n",
      "naphtha\n",
      "ipi\n"
     ]
    }
   ],
   "source": [
    "stat_diff(sil_l, sil_h, 0.25)"
   ]
  },
  {
   "cell_type": "markdown",
   "metadata": {},
   "source": [
    "### Compare Aggregate Stats"
   ]
  },
  {
   "cell_type": "code",
   "execution_count": 23,
   "metadata": {},
   "outputs": [
    {
     "name": "stdout",
     "output_type": "stream",
     "text": [
      "hierarchial: 0.5170650642958745\n",
      "Lingo: 0.8461916747371646\n"
     ]
    }
   ],
   "source": [
    "# which has on average higher distortion \n",
    "dist_h_avg = np.mean(list(dist_h.values()))\n",
    "dist_l_avg = np.mean(list(dist_l.values()))\n",
    "print('hierarchial:', dist_h_avg)\n",
    "print('Lingo:', dist_l_avg)"
   ]
  },
  {
   "cell_type": "code",
   "execution_count": 24,
   "metadata": {},
   "outputs": [
    {
     "name": "stdout",
     "output_type": "stream",
     "text": [
      "hierarchial: 0.3672714734208384\n",
      "Lingo: 0.25086757156714523\n"
     ]
    }
   ],
   "source": [
    "# which has on average higher silhouette \n",
    "sil_h_avg = np.mean(list(sil_h.values()))\n",
    "sil_l_avg = np.mean(list(sil_l.values()))\n",
    "print('hierarchial:', sil_h_avg)\n",
    "print('Lingo:', sil_l_avg)"
   ]
  },
  {
   "cell_type": "code",
   "execution_count": 25,
   "metadata": {},
   "outputs": [
    {
     "name": "stdout",
     "output_type": "stream",
     "text": [
      "hierarchial: 4.135135135135135\n",
      "Lingo: 4.027027027027027\n"
     ]
    }
   ],
   "source": [
    "# number of clusters per search term on average\n",
    "### basically the same....interesting. but then can drill down with hiearchial\n",
    "k_l_avg = np.mean(list(k_l.values()))\n",
    "k_h_avg = np.mean(list(k_h.values()))\n",
    "print('hierarchial:', k_h_avg)\n",
    "print('Lingo:', k_l_avg)"
   ]
  },
  {
   "cell_type": "markdown",
   "metadata": {},
   "source": [
    "### Number of Documents per Cluster per Search Term"
   ]
  },
  {
   "cell_type": "markdown",
   "metadata": {},
   "source": [
    "Number of documents per cluster for each search term    \n",
    "For both, grain as one cluster with basically all of the documents. Not ideal. "
   ]
  },
  {
   "cell_type": "code",
   "execution_count": 26,
   "metadata": {
    "scrolled": true
   },
   "outputs": [
    {
     "data": {
      "text/plain": [
       "search       cluster\n",
       "alum         1            3\n",
       "             2            5\n",
       "             3            3\n",
       "             4            2\n",
       "             5            4\n",
       "             6            2\n",
       "             7            3\n",
       "             8            6\n",
       "             9           30\n",
       "barley       1           14\n",
       "             2            4\n",
       "             3            6\n",
       "             4            4\n",
       "             5           23\n",
       "bop          1           25\n",
       "             2            4\n",
       "             3           76\n",
       "carcass      1            8\n",
       "             2           12\n",
       "             3           11\n",
       "             4           37\n",
       "cocoa        1           21\n",
       "             2            3\n",
       "             3           49\n",
       "coconut      1            5\n",
       "             2            1\n",
       "coconut-oil  1            2\n",
       "             2            5\n",
       "coffee       1           51\n",
       "             2            4\n",
       "                       ... \n",
       "tea          4            5\n",
       "tin          1            5\n",
       "             2            9\n",
       "             3           16\n",
       "trade        1           19\n",
       "             2          150\n",
       "             3          256\n",
       "             4           30\n",
       "             5           30\n",
       "veg-oil      1           33\n",
       "             2           17\n",
       "             3            8\n",
       "             4           66\n",
       "wheat        1           11\n",
       "             2           14\n",
       "             3           21\n",
       "             4           10\n",
       "             5           20\n",
       "             6          207\n",
       "wpi          1           13\n",
       "             2            4\n",
       "             3           12\n",
       "yen          1           45\n",
       "             2            3\n",
       "             3           11\n",
       "zinc         1            6\n",
       "             2            3\n",
       "             3            2\n",
       "             4            2\n",
       "             5           21\n",
       "Name: ids, Length: 306, dtype: int64"
      ]
     },
     "execution_count": 26,
     "metadata": {},
     "output_type": "execute_result"
    }
   ],
   "source": [
    "# number of documents per cluster for each search term \n",
    "grouph = df_final_h.groupby(['search','cluster']).ids.agg('count')\n",
    "grouph"
   ]
  },
  {
   "cell_type": "code",
   "execution_count": 27,
   "metadata": {
    "scrolled": true
   },
   "outputs": [
    {
     "data": {
      "text/plain": [
       "search       cluster\n",
       "alum         0           47\n",
       "             1           12\n",
       "             2            7\n",
       "barley       0            1\n",
       "             1           20\n",
       "             2           32\n",
       "             3            5\n",
       "             4            9\n",
       "bop          0            1\n",
       "             1           43\n",
       "             2           95\n",
       "             3           91\n",
       "             4           28\n",
       "carcass      0            1\n",
       "             1           43\n",
       "             2           28\n",
       "             3           39\n",
       "             4           24\n",
       "             5           47\n",
       "cocoa        0            1\n",
       "             1           48\n",
       "             2           65\n",
       "             3           38\n",
       "             4           11\n",
       "             5           21\n",
       "coconut      0            1\n",
       "             1            2\n",
       "coconut-oil  0            1\n",
       "             1            4\n",
       "coffee       0            1\n",
       "                       ... \n",
       "tea          1            9\n",
       "tin          0           20\n",
       "             1            8\n",
       "             2           19\n",
       "trade        0            4\n",
       "             1          444\n",
       "             2          271\n",
       "             3          139\n",
       "veg-oil      0          113\n",
       "             1           67\n",
       "             2           50\n",
       "             3           98\n",
       "             4           48\n",
       "wheat        0          247\n",
       "             1          119\n",
       "             2          161\n",
       "             3           73\n",
       "             4          115\n",
       "wpi          0           29\n",
       "             1            8\n",
       "yen          0            1\n",
       "             1           39\n",
       "             2           21\n",
       "             3           54\n",
       "             4            3\n",
       "             5           42\n",
       "zinc         0            1\n",
       "             1           18\n",
       "             2            5\n",
       "             3            4\n",
       "Name: num, Length: 298, dtype: int64"
      ]
     },
     "execution_count": 27,
     "metadata": {},
     "output_type": "execute_result"
    }
   ],
   "source": [
    "dfl = df_final_l.copy()[['cluster', 'ids', 'search']]\n",
    "dfl = dfl[dfl.cluster.str.len() != 0]\n",
    "dfl = pd.DataFrame([(d, tup.search) for tup in dfl.itertuples() for d in tup.cluster])\n",
    "dfl.columns = ['cluster', 'search']\n",
    "dfl['num'] = 1\n",
    "groupl = dfl.groupby(['search','cluster']).num.agg('count')\n",
    "groupl"
   ]
  },
  {
   "cell_type": "code",
   "execution_count": 28,
   "metadata": {},
   "outputs": [
    {
     "name": "stdout",
     "output_type": "stream",
     "text": [
      "hierarchial: 22.73202614379085\n",
      "lingo: 48.79530201342282\n"
     ]
    }
   ],
   "source": [
    "# number of documents per cluster on average \n",
    "print('hierarchial:', grouph.mean())\n",
    "print('lingo:', groupl.mean())   # bad. can drill down with hierarchial and clusters still smaller. "
   ]
  },
  {
   "cell_type": "code",
   "execution_count": 18,
   "metadata": {
    "scrolled": false
   },
   "outputs": [
    {
     "data": {
      "text/plain": [
       "{1: ['strike', 'miners', 'president'],\n",
       " 2: ['itc', 'extension', 'council'],\n",
       " 3: ['exports', 'us', 'atpc']}"
      ]
     },
     "execution_count": 18,
     "metadata": {},
     "output_type": "execute_result"
    }
   ],
   "source": [
    "labels_h['tin']"
   ]
  },
  {
   "cell_type": "code",
   "execution_count": 6,
   "metadata": {
    "scrolled": false
   },
   "outputs": [
    {
     "data": {
      "text/plain": [
       "{0: ['exports', 'strike', 'miners'],\n",
       " 1: ['extension', 'ec', 'session'],\n",
       " 2: ['stg', 'market', 'metal']}"
      ]
     },
     "execution_count": 6,
     "metadata": {},
     "output_type": "execute_result"
    }
   ],
   "source": [
    "labels_l['tin']"
   ]
  }
 ],
 "metadata": {
  "kernelspec": {
   "display_name": "Python 3",
   "language": "python",
   "name": "python3"
  },
  "language_info": {
   "codemirror_mode": {
    "name": "ipython",
    "version": 3
   },
   "file_extension": ".py",
   "mimetype": "text/x-python",
   "name": "python",
   "nbconvert_exporter": "python",
   "pygments_lexer": "ipython3",
   "version": "3.6.4"
  }
 },
 "nbformat": 4,
 "nbformat_minor": 2
}
