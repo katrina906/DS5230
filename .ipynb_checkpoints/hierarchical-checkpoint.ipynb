{
 "cells": [
  {
   "cell_type": "markdown",
   "metadata": {},
   "source": [
    "# Hierarchical Clustering\n",
    "- Create TF-IDF Matrix\n",
    "- PCA reduce TF-IDF\n",
    "- Calculate Euclidean Distance matrix\n",
    "- Create linkage matrix\n",
    "- Determine correct number of k by looping through limited range and finding elbow in ROC of distortion for each k \n",
    "- Find final k \n",
    "- Calculate average distortion and silhouette scores of final clustering\n",
    "- Unsteam labels\n",
    "- Sort clusters \n",
    "    \n",
    "Optionally, also find sub-clusters for a search term and the next level down sub-cluster labels"
   ]
  },
  {
   "cell_type": "code",
   "execution_count": 1,
   "metadata": {},
   "outputs": [
    {
     "name": "stdout",
     "output_type": "stream",
     "text": [
      "[nltk_data] Downloading package stopwords to\n",
      "[nltk_data]     C:\\Users\\Gimli\\AppData\\Roaming\\nltk_data...\n",
      "[nltk_data]   Package stopwords is already up-to-date!\n"
     ]
    }
   ],
   "source": [
    "import re\n",
    "import numpy as np\n",
    "import pandas as pd\n",
    "from gensim.models import TfidfModel\n",
    "from gensim.corpora import Dictionary\n",
    "import string\n",
    "from nltk.corpus import stopwords\n",
    "import nltk\n",
    "nltk.download('stopwords')\n",
    "from sklearn.feature_extraction.text import TfidfVectorizer\n",
    "from nltk.stem.porter import PorterStemmer\n",
    "from sklearn.cluster import AgglomerativeClustering\n",
    "import matplotlib.pyplot as plt\n",
    "from sklearn.manifold import MDS\n",
    "import sklearn\n",
    "from scipy.cluster.hierarchy import dendrogram, linkage, ward, fcluster\n",
    "import networkx as nx\n",
    "import collections\n",
    "import math\n",
    "import operator\n",
    "from sklearn.metrics.pairwise import cosine_similarity, euclidean_distances\n",
    "from sklearn.decomposition import PCA\n",
    "from kneed import KneeLocator\n",
    "from sklearn.manifold import TSNE\n",
    "import scipy.spatial.distance\n",
    "from nltk.stem.porter import PorterStemmer\n",
    "import pickle\n",
    "import gc"
   ]
  },
  {
   "cell_type": "markdown",
   "metadata": {},
   "source": [
    "### Tf-Idf Matrix\n",
    "- Stemming \n",
    "- Tokenize\n",
    "- Stop word removal"
   ]
  },
  {
   "cell_type": "code",
   "execution_count": 2,
   "metadata": {},
   "outputs": [],
   "source": [
    "def stemming_tokenizer(str_input):\n",
    "    \n",
    "    # initialize Porter Stemmer\n",
    "    stemmer = PorterStemmer()\n",
    "\n",
    "    # tokenize input words and stem\n",
    "    words = re.sub(r\"[^A-Za-z0-9\\-]\", \" \", str_input).lower().split()\n",
    "    words = [stemmer.stem(word) for word in words]\n",
    "    \n",
    "    return words"
   ]
  },
  {
   "cell_type": "code",
   "execution_count": 3,
   "metadata": {},
   "outputs": [],
   "source": [
    "def tf_idf(df):\n",
    "    \n",
    "    stemmer = PorterStemmer()\n",
    "    \n",
    "    # stem stop words before removing\n",
    "    stop_stem = [stemming_tokenizer(t) for t in stopwords.words('english')]\n",
    "    stop_stem = [item for sublist in stop_stem for item in sublist]\n",
    "    \n",
    "    # tfidf: stop word removal, tokenize and stem\n",
    "    # set max number of features else memory issues\n",
    "    tfidf = TfidfVectorizer(stop_words = stop_stem, tokenizer = stemming_tokenizer, max_features = 5000)\n",
    "    # fit tfidf to corpus\n",
    "    m = tfidf.fit_transform(df['text'])\n",
    "    \n",
    "    # record words in corpus with index\n",
    "    feature_names = tfidf.get_feature_names() \n",
    "\n",
    "    return m, feature_names"
   ]
  },
  {
   "cell_type": "markdown",
   "metadata": {},
   "source": [
    "### Remove Search from TF-IDF Matrix  \n",
    "Else will often present the search query as a good label for a cluster. Also do not want to include as a clustering factor. "
   ]
  },
  {
   "cell_type": "code",
   "execution_count": 4,
   "metadata": {},
   "outputs": [],
   "source": [
    "def remove_search(tfidf, feature_names, search):\n",
    "    try: # sometimes search already removed (ex stop word)\n",
    "        # find index of search in feature_names\n",
    "        search_index = feature_names.index(search)\n",
    "        \n",
    "        # delete from feature_names and tfidf matrix \n",
    "        cols = list(range(0,len(feature_names)))\n",
    "        del cols[cols.index(search_index)]\n",
    "        tfidf = tfidf[:,cols]\n",
    "        del feature_names[search_index]\n",
    "        \n",
    "    # if error, should be a value error because search not in feature_names\n",
    "    except ValueError: \n",
    "        pass\n",
    "    except:\n",
    "        raise 'unknown error'\n",
    "    \n",
    "    return tfidf, feature_names"
   ]
  },
  {
   "cell_type": "markdown",
   "metadata": {},
   "source": [
    "### PCA Dimensionality Reduction\n",
    "Reduce tfidf matrix"
   ]
  },
  {
   "cell_type": "code",
   "execution_count": 5,
   "metadata": {},
   "outputs": [],
   "source": [
    "def pca_reduce(tfidf):\n",
    "    pca = PCA(n_components = 0.8) # keep 80% of variance \n",
    "    pca_tfidf = pca.fit_transform(tfidf.toarray()) \n",
    "    return pca_tfidf"
   ]
  },
  {
   "cell_type": "markdown",
   "metadata": {},
   "source": [
    "### Distance Matrix: Euclidean Distance"
   ]
  },
  {
   "cell_type": "code",
   "execution_count": 6,
   "metadata": {},
   "outputs": [],
   "source": [
    "def dist_calculate(tfidf):\n",
    "    # Euclidean distance matrix\n",
    "    dist = euclidean_distances(tfidf)\n",
    "    # Need flat euclidean distance for linkage matrix \n",
    "    flat_dist = scipy.spatial.distance.pdist(tfidf, 'euclidean') \n",
    "\n",
    "    return dist, flat_dist"
   ]
  },
  {
   "cell_type": "markdown",
   "metadata": {},
   "source": [
    "### Linkage Matrix\n",
    "Create linkage matrix from distance matrix. Ward metric to calculate distance between clusters."
   ]
  },
  {
   "cell_type": "code",
   "execution_count": 7,
   "metadata": {
    "scrolled": true
   },
   "outputs": [],
   "source": [
    "def linkage_calculate(dist):\n",
    "    linkage_matrix = linkage(dist, method = 'ward') \n",
    "    return linkage_matrix"
   ]
  },
  {
   "cell_type": "markdown",
   "metadata": {},
   "source": [
    "## Create Clusters"
   ]
  },
  {
   "cell_type": "markdown",
   "metadata": {},
   "source": [
    "__Merge top-level cluster labels with data frame__"
   ]
  },
  {
   "cell_type": "code",
   "execution_count": 8,
   "metadata": {},
   "outputs": [],
   "source": [
    "def frame_merge(df, f):\n",
    "    # f is top level clusters. indicate cluster assignments of documents in dataframe\n",
    "    frameh = pd.DataFrame(df.index, index = [f], columns = ['index_search'])\n",
    "    frameh = pd.merge(frameh, df, right_index = True, left_on = 'index_search')\n",
    "    frameh['cluster'] = frameh.index.str[0]\n",
    "    frameh = frameh.reset_index()\n",
    "    return frameh"
   ]
  },
  {
   "cell_type": "markdown",
   "metadata": {},
   "source": [
    "__Find Cluster Centroids and Cluster Labels__"
   ]
  },
  {
   "cell_type": "code",
   "execution_count": 9,
   "metadata": {},
   "outputs": [],
   "source": [
    "def centroid_label(frameh, tfidf_pca, tfidf, feature_names):\n",
    "    # most common words in clusters (based on tf-idf not just frequency)\n",
    "    centroid = dict()\n",
    "    labels = dict()\n",
    "    \n",
    "    # loop through clusters \n",
    "    for c in list(frameh.cluster.unique()):\n",
    "        \n",
    "        # identify documents in each cluster\n",
    "        cluster1 = list(frameh[frameh.cluster == c].index.unique())\n",
    "        # mean vector of tf-idf vectors of documents in cluster\n",
    "        tfidf1_pca = tfidf_pca[cluster1,:]\n",
    "        tfidf1_pca = tfidf1_pca.mean(axis = 0)\n",
    "        centroid[c] = tfidf1_pca\n",
    "\n",
    "        # label each cluster: 3 largest values words in the centroid\n",
    "        # use non-reduced tfidf matrix to get actual words\n",
    "        tfidf1 = tfidf[cluster1,:]\n",
    "        # take mean vector among all documents\n",
    "        tfidf1 = tfidf1.mean(axis = 0)\n",
    "        \n",
    "        # max values in mean vector \n",
    "        lst = []\n",
    "        for i in np.argsort(np.asarray(tfidf1)[0])[::-1][:3]:  \n",
    "            lst.append(feature_names[i])\n",
    "        labels[c] = lst\n",
    "        \n",
    "    return labels, centroid"
   ]
  },
  {
   "cell_type": "markdown",
   "metadata": {},
   "source": [
    "__Find K Top Level Clusters__   \n",
    "Find clusters, merge into dataframe, and find both centroids and labels"
   ]
  },
  {
   "cell_type": "code",
   "execution_count": 10,
   "metadata": {},
   "outputs": [],
   "source": [
    "def find_clusters(k, linkage_matrix, tfidf_pca, tfidf, df, feature_names, search):\n",
    "    # cut dendrogram/linkage matrix to get k top level clusters \n",
    "    f = fcluster(linkage_matrix, k, criterion = 'maxclust')\n",
    "    # merge those clusters into dataframe\n",
    "    frameh = frame_merge(df, f)\n",
    "    # find centroids and labels of clusters \n",
    "    labels, centroid = centroid_label(frameh, tfidf_pca, tfidf, feature_names)\n",
    "\n",
    "    return frameh, labels, centroid"
   ]
  },
  {
   "cell_type": "markdown",
   "metadata": {},
   "source": [
    "__Calculate Silhouette Score__  \n",
    "Return cluster level and overall average"
   ]
  },
  {
   "cell_type": "code",
   "execution_count": 11,
   "metadata": {},
   "outputs": [],
   "source": [
    "# calculate individual silhouette for each point \n",
    "def silhouette_individ(frameh, dist):\n",
    "    \n",
    "    # average distance to points in own cluster\n",
    "    sil_a = dict()\n",
    "    # loop through clusters\n",
    "    for c in list(frameh.cluster.unique()):\n",
    "        sil_a[c] = dict()\n",
    "        # all documents in cluster c \n",
    "        docs_i = list(frameh[frameh.cluster == c].index.unique())\n",
    "        # if one document in cluster, then avg distance = 0\n",
    "        if len(docs_i) == 1:\n",
    "            sil_a[c][docs_i[0]] = 0\n",
    "        else:\n",
    "            # loop through points in each cluster and take mean distance from other points in documents\n",
    "            for i in docs_i:\n",
    "                docs_i.remove(i)\n",
    "                sil_a[c][i] = np.nanmean(dist[i, docs_i].tolist())\n",
    "\n",
    "    # minimum average distance to points in other clusters \n",
    "    # for each point, create list of average distances to points in each other cluster. Take minimum of list\n",
    "    sil_b = dict()\n",
    "    # loop through clusters\n",
    "    for c in list(frameh.cluster.unique()):\n",
    "        sil_b[c] = dict()\n",
    "        # all documents in cluster c\n",
    "        docs_in = list(frameh[frameh.cluster == c].index.unique())\n",
    "        # loop through points in each cluster -> loop through other clusters -> loop through documents in that cluster \n",
    "        for i in docs_in:\n",
    "            lst = []\n",
    "            for c2 in list(frameh.cluster.unique()):\n",
    "                if c2 != c:\n",
    "                    docs_out = list(frameh[frameh.cluster == c2].index.unique())\n",
    "                    # loop through documents in other cluster and find average distance\n",
    "                    lst.append(np.nanmean(dist[i,docs_out].tolist()))\n",
    "        \n",
    "            # take minimum of average distance to other clusters\n",
    "            sil_b[c][i] = np.min(lst)\n",
    "            \n",
    "    return sil_a, sil_b"
   ]
  },
  {
   "cell_type": "code",
   "execution_count": 12,
   "metadata": {},
   "outputs": [],
   "source": [
    "def silhouette_avg_calculate(frameh, dist):\n",
    "    # silhouette components from each individual point\n",
    "    sil_a, sil_b = silhouette_individ(frameh, dist)\n",
    "    \n",
    "    # take average among points in same cluster to get cluster-level silhouette\n",
    "    sil_scores = dict()\n",
    "    for k,v in sil_a.items():\n",
    "        lst = []\n",
    "        for i in range(len(v.values())):\n",
    "            max_ab = max(list(sil_b[k].values())[i], list(sil_a[k].values())[i])\n",
    "            min_ab = min(list(sil_b[k].values())[i], list(sil_a[k].values())[i])\n",
    "            # calculate silhouette score \n",
    "            lst.append(1 - min_ab/max_ab)\n",
    "        sil_scores[k] = np.nanmean(lst) \n",
    "       \n",
    "    # take average among all clusters to get overall silhouette\n",
    "    # return cluster level and overall \n",
    "    return sil_scores, np.nanmean(list(sil_scores.values()))"
   ]
  },
  {
   "cell_type": "markdown",
   "metadata": {},
   "source": [
    "__Calculate Distortion__   \n",
    "Calculate total and average distortion of a clustering "
   ]
  },
  {
   "cell_type": "code",
   "execution_count": 13,
   "metadata": {},
   "outputs": [],
   "source": [
    "def distortion_calculate(tfidf, centroid, frameh):\n",
    "    sumd = 0\n",
    "    # sum together distortion for each cluster \n",
    "    for i in list(frameh.index.unique()):\n",
    "        c = int(frameh[frameh.index == i].cluster)\n",
    "        sumd += (np.linalg.norm(tfidf[i]-centroid[c]))**2\n",
    "        \n",
    "    return sumd, sumd / len(frameh)"
   ]
  },
  {
   "cell_type": "markdown",
   "metadata": {},
   "source": [
    "## Choose K Value: Elbow in ROC of Distortion"
   ]
  },
  {
   "cell_type": "code",
   "execution_count": 82,
   "metadata": {
    "scrolled": true
   },
   "outputs": [],
   "source": [
    "def distortion_kvalues(linkage_matrix, tfidf_pca, tfidf, dist, df, feature_names, search):\n",
    "\n",
    "    distortion = dict()\n",
    "\n",
    "    # limit to k between 2 and 10. 10 is # search results in Google per page. \n",
    "    for k in range(2, 11):\n",
    "        # find top-level clusters with each k\n",
    "        frameh, labels, centroid = find_clusters(k, linkage_matrix, tfidf_pca, tfidf, df, feature_names, search)\n",
    "        # calculate distortion of clusters\n",
    "        sumd, sumd_avg = distortion_calculate(tfidf_pca, centroid, frameh)\n",
    "        # record distortion for each k \n",
    "        distortion[k] = sumd\n",
    "        \n",
    "    return distortion"
   ]
  },
  {
   "cell_type": "markdown",
   "metadata": {},
   "source": [
    "__ROC of Distortion__"
   ]
  },
  {
   "cell_type": "code",
   "execution_count": 15,
   "metadata": {},
   "outputs": [],
   "source": [
    "def distortion_roc(distortion):\n",
    "    # list of ROC of distortion at k values\n",
    "    roc = []\n",
    "    for k,v in distortion.items(): \n",
    "        if k+1 in distortion:\n",
    "            roc.append(abs(distortion[k+1] - distortion[k]) / distortion[k])\n",
    "            \n",
    "    return roc"
   ]
  },
  {
   "cell_type": "markdown",
   "metadata": {},
   "source": [
    "__Find K Based on Distortion ROC Elbow__"
   ]
  },
  {
   "cell_type": "code",
   "execution_count": 16,
   "metadata": {},
   "outputs": [],
   "source": [
    "def find_k(roc):\n",
    "    # if one value in ROC, then automatically 2 clusters \n",
    "    if len(roc) == 1:\n",
    "        return 2 \n",
    "    \n",
    "    # find k using knee method \n",
    "    kn = KneeLocator(range(len(roc)), roc, curve='convex', direction='decreasing')\n",
    "    if kn.knee == None: # sometimes there is no knee, just take the max k in that case\n",
    "        return len(roc) + 1 # starts at 2. If length = 1, then that's k = 2 to k = 3 --> k = 2 \n",
    "    k = kn.knee + 2 # index started at 0 and k starts at 2 \n",
    "                    # if choose index 1 roc that is the second value and going from k = 3 to k = 4 --> k = 3 \n",
    "    \n",
    "    return k "
   ]
  },
  {
   "cell_type": "markdown",
   "metadata": {},
   "source": [
    "## Clean Clusters for Presentation"
   ]
  },
  {
   "cell_type": "markdown",
   "metadata": {},
   "source": [
    "__Un-Stem Labels__   \n",
    "Find the most frequent word corresponding to each stem out of the documents returned for a search   \n",
    "Replace stems in labels with that word    \n",
    "Else stems are not always human readable"
   ]
  },
  {
   "cell_type": "code",
   "execution_count": 17,
   "metadata": {},
   "outputs": [],
   "source": [
    "def labels_unstem_create(df, labels, t):\n",
    "    \n",
    "    stemmer = PorterStemmer()\n",
    "    \n",
    "    # generate fresh tfidf without stemming\n",
    "    tfidf = TfidfVectorizer(stop_words = stopwords.words('english'))\n",
    "    tfidf_norm = tfidf.fit_transform(df['text'])\n",
    "    words = tfidf.get_feature_names()\n",
    "\n",
    "    # record stemmed versions of all words in a df\n",
    "    aux = pd.DataFrame(words, columns =['word'] )\n",
    "    aux['word_stemmed'] = aux['word'].apply(lambda x : stemmer.stem(x))\n",
    "    \n",
    "    # count the frequency of all words \n",
    "    vec = sklearn.feature_extraction.text.CountVectorizer().fit(df['text'])\n",
    "    bag_of_words = vec.transform(df['text'])\n",
    "    sum_words = bag_of_words.sum(axis=0) \n",
    "    words_freq = [(word, sum_words[0, idx]) for word, idx in vec.vocabulary_.items()]\n",
    "    words_freq = pd.DataFrame(words_freq)\n",
    "    words_freq.columns = ['word', 'num']\n",
    "    \n",
    "    # merge frequency of words with stemming. \n",
    "    # sort such that first instance of a stem corresponds to the most frequent variation of that stemmed word\n",
    "    aux = pd.merge(aux, words_freq, on = 'word', how = 'left')\n",
    "    aux = aux.sort_values(['word_stemmed', 'num'], ascending = False)\n",
    "            \n",
    "    # loop through labels and grab the most frequent un-stemmed word for each stem encountered\n",
    "    # two versions: 'flat' for regular clusters. 'sub' for sub clusters found in hierarchical function (different structure)\n",
    "    if t == 'flat':\n",
    "        labels_unstem = dict()\n",
    "        # loop through labels\n",
    "        for i in labels.keys():\n",
    "            labels_unstem[i] = []\n",
    "            # loop through words in a each label\n",
    "            for j in labels[i]:\n",
    "                if len(aux[aux.word_stemmed == j]) == 0:\n",
    "                    labels_unstem[i].append(j)\n",
    "                    continue\n",
    "                # else take most frequent unstemmed word\n",
    "                labels_unstem[i].append(aux[aux.word_stemmed == j].word.values[0])\n",
    "            \n",
    "    if t == 'sub': \n",
    "        labels_unstem = dict()\n",
    "        for i in labels.keys():\n",
    "            labels_unstem[i] = []\n",
    "            ct = 0\n",
    "            for j in labels[i]:\n",
    "                labels_unstem[i].append([])\n",
    "                # additional layer of sublist because each top-cluster has a list of sub-cluster labels\n",
    "                for k in j:\n",
    "                    if len(aux[aux.word_stemmed == k]) == 0:\n",
    "                        labels_unstem[i][ct].append(k)\n",
    "                        continue\n",
    "                    labels_unstem[i][ct].append(aux[aux.word_stemmed == k].word.values[0])\n",
    "                ct += 1\n",
    "            \n",
    "    return labels_unstem"
   ]
  },
  {
   "cell_type": "markdown",
   "metadata": {},
   "source": [
    "__Sort Labels and thus Clusters based on Silhouette Scores * Size of Clusters__"
   ]
  },
  {
   "cell_type": "code",
   "execution_count": 18,
   "metadata": {},
   "outputs": [],
   "source": [
    "def label_sort(labels, sil_score, frame):\n",
    "    # multiply silhouette score by number of documents for each cluster: prefer large and well separated clusters \n",
    "    for k,v in sil_score.items():\n",
    "        sil_score[k] = sil_score[k] * len(frame[frame.cluster == k])\n",
    "    \n",
    "    # sort revised score\n",
    "    sil_score = sorted(sil_score.items(), key=operator.itemgetter(1), reverse = True)\n",
    "    \n",
    "    # add values in sorted order to labels: ordered dictionary\n",
    "    labels_sorted = collections.OrderedDict()\n",
    "    for i in sil_score:\n",
    "        labels_sorted[i[0]] = labels[i[0]]\n",
    "        \n",
    "    return labels_sorted"
   ]
  },
  {
   "cell_type": "markdown",
   "metadata": {},
   "source": [
    "## Hierarchy: Sub-Clusters    \n",
    "Create directed graph that allows us to navigate subclusters for a search term: maps how clusters are merged together.   \n",
    "Additionally, label subclusters and enable ability to extract subclusters for a top-level cluster"
   ]
  },
  {
   "cell_type": "markdown",
   "metadata": {},
   "source": [
    "__Transform Linkage Matrix such that can understand node linkages__"
   ]
  },
  {
   "cell_type": "code",
   "execution_count": 19,
   "metadata": {},
   "outputs": [],
   "source": [
    "# raw linkage matrix indicates the linked nodes and then creates an aggregated node with a new index \n",
    "# but does not record what that aggregated number is in the same observation as the linkage\n",
    "# Thus difficult to trace which clusters node x is in all the way up the \"tree\"\n",
    "def linkage_df(linkage_matrix, frameh):\n",
    "    links = pd.DataFrame(linkage_matrix) \n",
    "    links.columns = ['source1', 'source2', 'd', 'n']\n",
    "\n",
    "    # for each linked nodes/documents (source 1 and source 2), indicate the aggregated node it creates \n",
    "    links['target'] = 0\n",
    "    n = len(frameh)-1\n",
    "    for i, row in links.iterrows():\n",
    "        n += 1\n",
    "        links.at[i,'target'] = n\n",
    "        \n",
    "    return links"
   ]
  },
  {
   "cell_type": "code",
   "execution_count": 20,
   "metadata": {},
   "outputs": [],
   "source": [
    "# Helper function: flatten irregular nested lists\n",
    "    # ex [[a,b], [c], [d, e, f]] -> [a, b, c, d, e, f]\n",
    "def flatten(l):\n",
    "    for el in l:\n",
    "        if isinstance(el, collections.Iterable) and not isinstance(el, (str, bytes)):\n",
    "            yield from flatten(el)\n",
    "        else:\n",
    "            yield el"
   ]
  },
  {
   "cell_type": "markdown",
   "metadata": {},
   "source": [
    "__Indicate which documents are at each sub-cluster as traverse up linkages__"
   ]
  },
  {
   "cell_type": "code",
   "execution_count": 21,
   "metadata": {},
   "outputs": [],
   "source": [
    "def merge_docs(merge, source):\n",
    "    # merge ids into the given source node\n",
    "    merge = pd.merge(merge, merge[['target', 'docs']], left_on = source, right_on = 'target',  how = 'left')\n",
    "    \n",
    "    # combine docs from merge into a single docs list column\n",
    "    merge.docs_x = np.where(merge.docs_x.isnull(), '', merge.docs_x)\n",
    "    merge.docs_y = np.where(merge.docs_y.isnull(), '', merge.docs_y)\n",
    "    merge['docs'] = merge[['docs_x', 'docs_y']].values.tolist()\n",
    "    merge = merge.drop(columns = ['docs_x', 'docs_y'])\n",
    "    merge = merge.rename(columns = {'target_x':'target'})\n",
    "    \n",
    "    # flatten docs list column \n",
    "    merge.docs = list(merge.docs.apply(lambda row: flatten(row)))\n",
    "    merge.docs = merge.docs.apply(lambda row: [i for i in row if i != ''])\n",
    "\n",
    "    return merge"
   ]
  },
  {
   "cell_type": "code",
   "execution_count": 22,
   "metadata": {
    "scrolled": true
   },
   "outputs": [],
   "source": [
    "# iteratively merge document ids with the nodes/ids being linked in the linkage matrix\n",
    "# iterative because need to walk up the \"tree\" to the more aggregated nodes and indicate all documents in each \n",
    "def assign_docs(frameh, links):\n",
    "    \n",
    "    # initial merge between frame ids and source1/source2\n",
    "    merge = pd.merge(links, frameh[['ids']], left_on = 'source1', right_index = True, how = 'left')\n",
    "    merge = pd.merge(merge, frameh[['ids']], left_on = 'source2', right_index = True, how = 'left')\n",
    "    \n",
    "    # combine docs from the merges into a single docs list column \n",
    "    merge = merge.rename(columns = {'ids_x':'docs1', 'ids_y':'docs2'})\n",
    "    merge.docs2 = np.where(merge.docs2.isnull(), '', merge.docs2)\n",
    "    merge.docs1 = np.where(merge.docs1.isnull(), '', merge.docs1)\n",
    "    merge['docs']= merge[['docs1', 'docs2']].values.tolist()\n",
    "    merge = merge.drop(columns = ['docs1', 'docs2'])\n",
    "    \n",
    "    # flattern docs list column\n",
    "    merge.docs = merge.docs.apply(lambda row: [i for i in row if i != ''])\n",
    "    # calculate length\n",
    "    merge['len'] = merge.docs.apply(lambda row: len(set(row)))\n",
    "\n",
    "    # linkage matrix indicates number of documents at each combined node\n",
    "    # iterate until number of document ids assigned to each combined node equals total \n",
    "    while int(merge[merge.target == merge.target.max()].len) != int(merge[merge.target == merge.target.max()].n): \n",
    "        merge = merge_docs(merge, 'source1')\n",
    "        merge = merge_docs(merge, 'source2')\n",
    "        merge['len'] = merge.docs.apply(lambda row: len(set(row)))\n",
    "        \n",
    "        merge = merge.drop(columns = ['target_y'])\n",
    "\n",
    "    merge.docs = merge.docs.apply(lambda row: set(row))\n",
    "    \n",
    "    return merge "
   ]
  },
  {
   "cell_type": "markdown",
   "metadata": {},
   "source": [
    "__Assign Graph Attributes: Documents IDs at each Graph Node/Hierarchy Node__"
   ]
  },
  {
   "cell_type": "code",
   "execution_count": 23,
   "metadata": {
    "scrolled": true
   },
   "outputs": [],
   "source": [
    "def attributes_docs(G, merge, frameh, links):\n",
    "    # for each node created by combining documents, add doc list to each target node \n",
    "    for i in list(merge.target.unique()):\n",
    "        G.nodes[i]['docs'] = merge[merge.target == i].docs.values[0]\n",
    "\n",
    "    # for each original, uncombined node, indicate which document it represents\n",
    "    origdocs = pd.merge(links, frameh[['ids']], left_on = 'source1', right_index = True, how = 'left')\n",
    "    origdocs = pd.merge(ogdocs, frameh[['ids']], left_on = 'source2', right_index = True, how = 'left')\n",
    "    for i in range(len(frameh)):\n",
    "        if len(origdocs[origdocs.source1 == i].ids_x) != 0:\n",
    "            G.nodes[i]['docs'] = origdocs[origdocs.source1 == i].ids_x.values[0]\n",
    "        if len(origdocs[origdocs.source2 == i].ids_y) != 0:\n",
    "            G.nodes[i]['docs'] = origdocs[origdocs.source2 == i].ids_y.values[0]\n",
    "            \n",
    "    return G"
   ]
  },
  {
   "cell_type": "markdown",
   "metadata": {},
   "source": [
    "__Mark the k Top Level Clusters in the Graph__"
   ]
  },
  {
   "cell_type": "code",
   "execution_count": 24,
   "metadata": {},
   "outputs": [],
   "source": [
    "def top_cluster(G, frameh):\n",
    "    nx.set_node_attributes(G, 0, 'cluster')\n",
    "    # loop through clusters\n",
    "    for c in list(frameh.cluster.unique()):\n",
    "        # set of all documents in cluster c based on frameh, which records top level clusters\n",
    "        # if is exactly equal to the set of documents at a graph node, then top level cluster\n",
    "        try:\n",
    "            c_ids = set(frameh[frameh.cluster == c].ids.unique())\n",
    "            node = [x for x,y in G.nodes(data=True) if y['docs']==c_ids][0] \n",
    "        except:\n",
    "            c_ids = frameh[frameh.cluster == c].ids.unique()\n",
    "            node = [x for x,y in G.nodes(data=True) if y['docs']==c_ids][0]\n",
    "        G.nodes[node]['cluster'] = c\n",
    "        \n",
    "    return G "
   ]
  },
  {
   "cell_type": "markdown",
   "metadata": {},
   "source": [
    "__Create Hierarchy Graph__"
   ]
  },
  {
   "cell_type": "code",
   "execution_count": 25,
   "metadata": {},
   "outputs": [],
   "source": [
    "def create_graph(links, merge, frameh):\n",
    "    \n",
    "    # add nodes for each original document and merged clusters in the linkage matrix \n",
    "    G = nx.DiGraph()\n",
    "    G.add_nodes_from(links.source1)\n",
    "    G.add_nodes_from(links.source2)\n",
    "    G.add_nodes_from(links.target)\n",
    "\n",
    "    # add edges from each document/cluster to its next merged cluster\n",
    "    subset = links[['source1', 'target']]\n",
    "    G.add_edges_from([tuple(x) for x in subset.values])\n",
    "    subset = links[['source2', 'target']]\n",
    "    G.add_edges_from([tuple(x) for x in subset.values])\n",
    "    \n",
    "    # add document IDs\n",
    "    G = attributes_docs(G, merge, frameh, links)\n",
    "    \n",
    "    # mark top clusters\n",
    "    G = top_cluster(G, frameh)\n",
    "    \n",
    "    return G "
   ]
  },
  {
   "cell_type": "markdown",
   "metadata": {},
   "source": [
    "__Transform linkage matrix into hierarchy graph__"
   ]
  },
  {
   "cell_type": "code",
   "execution_count": 26,
   "metadata": {},
   "outputs": [],
   "source": [
    "def create_hierarchy(linkage_matrix, frameh):\n",
    "    \n",
    "    # create df from linkage matrix that indicates combined clusters\n",
    "    links = linkage_df(linkage_matrix, frameh)\n",
    "    \n",
    "    # find documents at each cluster\n",
    "    merge = assign_docs(frameh, links)\n",
    "    \n",
    "    # create hierarchy graph\n",
    "    G = create_graph(links, merge, frameh)\n",
    "                     \n",
    "    return G, links"
   ]
  },
  {
   "cell_type": "markdown",
   "metadata": {},
   "source": [
    "__Labels for all Sub Clusters__"
   ]
  },
  {
   "cell_type": "code",
   "execution_count": 27,
   "metadata": {},
   "outputs": [],
   "source": [
    "def sub_labels(links, tfidf, frameh, G, feature_names):\n",
    "    labels_sub = []\n",
    "    # loop through each sub cluster\n",
    "    for i in list(range(links.target.max())):\n",
    "        # list of documents in that sub cluster\n",
    "        if i < len(frameh):\n",
    "            cluster1 = list(frameh[frameh.ids == list(G.nodes[i].values())[0]].index.unique())\n",
    "        else:\n",
    "            cluster1 = list(frameh[frameh.ids.isin(list(list(G.nodes[i].values())[0]))].index.unique())\n",
    "        # find mean vector among all tfidf vectors of documents in cluster\n",
    "        tfidf1 = tfidf[cluster1,:]\n",
    "        tfidf1 = tfidf1.mean(axis = 0)\n",
    "\n",
    "        # 3 max values in mean vector = labels\n",
    "        lst = []\n",
    "        for i in np.argsort(np.asarray(tfidf1)[0])[::-1][:3]:\n",
    "            lst.append(feature_names[i])\n",
    "\n",
    "        labels_sub.append(lst)\n",
    "    \n",
    "    return labels_sub        "
   ]
  },
  {
   "cell_type": "markdown",
   "metadata": {},
   "source": [
    "__Return labels for subclusters one layer down from the top-level clusters__"
   ]
  },
  {
   "cell_type": "code",
   "execution_count": 28,
   "metadata": {},
   "outputs": [],
   "source": [
    "# get labels for subclusters 1 layer down from top flat clusters\n",
    "def labels_layerdown(G, frameh, labels_sub):\n",
    "    # identify the top-level cluster nodes\n",
    "    topnodes = []\n",
    "    for c in list(frameh.cluster.unique()):\n",
    "        topnodes.append([x for x,y in G.nodes(data=True) if y['cluster']==c][0])\n",
    "        \n",
    "    # find subcluster labels: 1 level down from topnodes \n",
    "    labels1 = dict()\n",
    "    for i in range(len(topnodes)):\n",
    "        sub = list(G.predecessors(topnodes[i]))\n",
    "        labels1[i] = [labels_sub[int(j)] for j in sub]\n",
    "        \n",
    "    return labels1"
   ]
  },
  {
   "cell_type": "markdown",
   "metadata": {},
   "source": [
    "## Main Hierarchy Function: Get Labels of all sub-clusters 1 down from top"
   ]
  },
  {
   "cell_type": "code",
   "execution_count": 29,
   "metadata": {
    "scrolled": true
   },
   "outputs": [],
   "source": [
    "def hierarchy_main(linkage_matrix, frameh, tfidf_unreduced, df_subset, feature_names):\n",
    "    # create graph of hierarchical relationships\n",
    "    G, links = create_hierarchy(linkage_matrix, frameh)\n",
    "    # find labels of all subclusters\n",
    "    labels_sub = sub_labels(links, tfidf_unreduced, frameh, G, feature_names)\n",
    "    # extract labels from 1 layer down subclusters\n",
    "    labels1 = labels_layerdown(G, frameh, labels_sub)\n",
    "    # unstem subclusters\n",
    "    labels1 = labels_unstem_create(df_subset, labels1, t = 'sub')\n",
    "    \n",
    "    return labels1 "
   ]
  },
  {
   "cell_type": "markdown",
   "metadata": {},
   "source": [
    "# Main Function"
   ]
  },
  {
   "cell_type": "code",
   "execution_count": 83,
   "metadata": {},
   "outputs": [],
   "source": [
    "# options: if want to explore subclusters of a search term, specifcy hierarchy = True and hsearch = 'desired search'\n",
    "def main(hierarchy = False, hsearch = False):\n",
    "    \n",
    "    # read in processed data\n",
    "    df = pd.read_pickle('reuters_processed')\n",
    "    \n",
    "    # set of topics/search terms\n",
    "    topics = list(df.categories)\n",
    "    topics = [item for sublist in topics for item in sublist]\n",
    "    topics = list(set(topics))\n",
    "    \n",
    "    # initialize data structures to store stats for each search query/topic's clustering\n",
    "    distortion_dict = dict()\n",
    "    silhouette_dict = dict()\n",
    "    linkage_dict = dict()\n",
    "    k_dict = dict()\n",
    "    labels_dict = dict()\n",
    "    dist_dict = dict()\n",
    "    cluster1 = list()\n",
    "    df_final = pd.DataFrame()\n",
    "    \n",
    "    if hierarchy: \n",
    "        topics = [hsearch]\n",
    "    \n",
    "    # loop through all search queries\n",
    "    for search in topics:\n",
    "        # skip two search terms that return a large number of serach tera\n",
    "        if search == 'earn' or search == 'acq': # too big to deal with\n",
    "            continue\n",
    "        \n",
    "        gc.collect()\n",
    "\n",
    "        # subset of dataframe for search\n",
    "        df_subset = df[df.categories.map(set([search]).issubset)] \n",
    "        df_subset = df_subset.reset_index()\n",
    "        \n",
    "        # if less than 5 documents in search, enforce 1 cluster\n",
    "        if len(df_subset) < 5:\n",
    "            cluster1.append(search)\n",
    "            continue\n",
    "            \n",
    "        print(search)\n",
    "        \n",
    "        # TF-IDF matrix\n",
    "        tfidf, feature_names = tf_idf(df_subset)\n",
    "\n",
    "        # remove search from tf-idf matrix so is not a clustering factor or a label \n",
    "        tfidf, feature_names = remove_search(tfidf, feature_names, search)\n",
    "\n",
    "        # PCA dimensionality reduction of tfidf matrix \n",
    "        tfidf_unreduced = tfidf.copy() # store unreduced tfidf to use for labeling\n",
    "        tfidf = pca_reduce(tfidf)\n",
    "                    \n",
    "        # Euclidean distance \n",
    "        dist, dist_flat = dist_calculate(tfidf)\n",
    "                \n",
    "        # linkage matrix\n",
    "        linkage_matrix = linkage_calculate(dist_flat)\n",
    "        \n",
    "        # find K \n",
    "        # if less than 7 documents for search, enforce 2 clusters (only reasonable number)\n",
    "        if len(df_subset) < 7: \n",
    "            k = 2\n",
    "        else:\n",
    "            # use non-reduced tfidf to find labels. reduced for everything else. \n",
    "            \n",
    "            # loop through possible k in a restricted range and calculate distortion and silhouette for each\n",
    "            distortion_lst = distortion_kvalues(linkage_matrix, tfidf, tfidf_unreduced, dist, df_subset,\n",
    "                                                                       feature_names, search)\n",
    "            # calculate rate of change in distortion\n",
    "            roc = distortion_roc(distortion_lst)\n",
    "            # find k based on elbow in distortion rate of change \n",
    "            k = find_k(roc)\n",
    "            \n",
    "        # final flat clusters. Annotate dataframe with cluster assignments, determine labels, and calculate centroids \n",
    "        frameh, labels, centroid = find_clusters(k, linkage_matrix, tfidf, tfidf_unreduced, \n",
    "                                                     df_subset, feature_names, search)\n",
    "            \n",
    "        # if this process only returned 1 cluster, skip the rest of the calculations\n",
    "            # even if give cut function k = 2, it considers that an upper bound, so occassionally still only returns 1\n",
    "        if frameh.cluster.nunique() == 1:   \n",
    "            cluster1.append(search)\n",
    "            continue\n",
    "                \n",
    "        # calculate distortion and silhouette for final clusters\n",
    "        distortion, distortion_avg = distortion_calculate(tfidf, centroid, frameh) # sum of distortion and avg distortion\n",
    "        silhouette_cluster, silhouette_avg = silhouette_avg_calculate(frameh, dist) # cluster level and overall \n",
    "\n",
    "        # un-stem labels\n",
    "        labels = labels_unstem_create(df_subset, labels, t = 'flat')\n",
    "        \n",
    "        # sort clusters (labels) based on cluster silhouette score and size \n",
    "        labels = label_sort(labels, silhouette_cluster, frameh)\n",
    "\n",
    "        # record statistics for this search\n",
    "        distortion_dict[search] = distortion_avg\n",
    "        silhouette_dict[search] = silhouette_avg\n",
    "        linkage_dict[search] = linkage_matrix\n",
    "        k_dict[search] = k\n",
    "        labels_dict[search] = labels\n",
    "        dist_dict[search] = dist\n",
    "\n",
    "        frameh['search'] = search\n",
    "        df_final = df_final.append(frameh)\n",
    "        \n",
    "        # if hierarchy option selected, \n",
    "            # after calculating clusters for this search term, run through hierarchy process to find next level of subclusters\n",
    "        if hierarchy: \n",
    "            labels1 = hierarchy_main(linkage_matrix, frameh, tfidf_unreduced, df_subset, feature_names)\n",
    "            return labels1\n",
    "\n",
    "    return distortion_dict, silhouette_dict, k_dict, labels_dict, df_final, dist_dict, linkage_dict, cluster1"
   ]
  },
  {
   "cell_type": "code",
   "execution_count": 84,
   "metadata": {
    "scrolled": true
   },
   "outputs": [
    {
     "name": "stdout",
     "output_type": "stream",
     "text": [
      "cocoa\n",
      "retail\n"
     ]
    },
    {
     "name": "stderr",
     "output_type": "stream",
     "text": [
      "C:\\Users\\Gimli\\Anaconda3\\lib\\site-packages\\kneed\\knee_locator.py:134: RuntimeWarning: No local maxima found in the difference curve\n",
      "The line is probably not polynomial, try plotting\n",
      "the difference curve with plt.plot(knee.x_difference, knee.y_difference)\n",
      "Also check that you aren't mistakenly setting the curve argument\n",
      "  RuntimeWarning,\n"
     ]
    },
    {
     "name": "stdout",
     "output_type": "stream",
     "text": [
      "tin\n",
      "corn\n",
      "pet-chem\n",
      "income\n",
      "jobs\n",
      "instal-debt\n",
      "meal-feed\n",
      "carcass\n",
      "potato\n",
      "rapeseed\n",
      "jet\n",
      "alum\n",
      "l-cattle\n",
      "zinc\n",
      "nickel\n",
      "wpi\n",
      "rape-oil\n",
      "rubber\n",
      "heat\n",
      "trade\n",
      "soy-oil\n",
      "crude\n",
      "naphtha\n",
      "cotton\n",
      "tea\n",
      "money-supply\n",
      "iron-steel\n",
      "grain\n",
      "soybean\n",
      "propane\n",
      "oat\n",
      "ipi\n",
      "fuel\n",
      "wheat\n",
      "sun-oil\n",
      "groundnut\n",
      "money-fx\n",
      "hog\n",
      "reserves\n",
      "yen\n",
      "sunseed\n",
      "strategic-metal\n",
      "sugar\n",
      "dmk\n",
      "coconut\n",
      "orange\n",
      "barley\n",
      "housing\n",
      "rice\n",
      "soy-meal\n",
      "gold\n",
      "sorghum\n",
      "livestock\n",
      "bop\n",
      "gas\n",
      "dlr\n",
      "interest\n",
      "lead\n",
      "silver\n",
      "nat-gas\n",
      "platinum\n",
      "coconut-oil\n",
      "lei\n",
      "gnp\n",
      "ship\n",
      "coffee\n",
      "copper\n",
      "palm-oil\n",
      "veg-oil\n",
      "oilseed\n",
      "lumber\n",
      "cpi\n"
     ]
    }
   ],
   "source": [
    "distortion_dict, silhouette_dict, k_dict, labels_dict, df_final, dist_dict, linkage_dict, cluster1 = main()"
   ]
  },
  {
   "cell_type": "code",
   "execution_count": 88,
   "metadata": {},
   "outputs": [],
   "source": [
    "# save data locally\n",
    "with open('hierarchial', \"wb\") as f:\n",
    "    pickle.dump(df_final, f)\n",
    "    pickle.dump(labels_dict, f)\n",
    "    pickle.dump(k_dict, f)\n",
    "    pickle.dump(distortion_dict, f)\n",
    "    pickle.dump(silhouette_dict, f)\n",
    "    pickle.dump(cluster1, f)"
   ]
  },
  {
   "cell_type": "code",
   "execution_count": null,
   "metadata": {},
   "outputs": [],
   "source": [
    "# example call of main function to get sub clusters for a search term \n",
    "linkage_matrix, frameh = main(hierarchy = True, hsearch = 'corn')"
   ]
  },
  {
   "cell_type": "markdown",
   "metadata": {},
   "source": [
    "## Visualization"
   ]
  },
  {
   "cell_type": "markdown",
   "metadata": {},
   "source": [
    "### Dendrogram"
   ]
  },
  {
   "cell_type": "code",
   "execution_count": 90,
   "metadata": {},
   "outputs": [
    {
     "data": {
      "text/plain": [
       "([], <a list of 0 Text yticklabel objects>)"
      ]
     },
     "execution_count": 90,
     "metadata": {},
     "output_type": "execute_result"
    },
    {
     "data": {
      "image/png": "[encoded data removed]",
      "text/plain": [
       "<matplotlib.figure.Figure at 0x1d0ea970>"
      ]
     },
     "metadata": {},
     "output_type": "display_data"
    }
   ],
   "source": [
    "# search cluster we are visualizing \n",
    "search = 'corn'\n",
    "\n",
    "fig, ax = plt.subplots(figsize=(10, 5))\n",
    "dendrogram(linkage_dict[search], orientation=\"right\", labels = df_final[df_final.search == search].ids.unique())\n",
    "# manually draw in cut line for presentation\n",
    "plt.axvline(3.25, color = 'black', linewidth = 2)\n",
    "plt.text(3.3, 1800, 'Top-Level \\nCluster Cut', fontsize = 12)\n",
    "ax.set_xlabel('Euclidean Distance')\n",
    "ax.set_ylabel('Documents')\n",
    "plt.yticks([], [])"
   ]
  },
  {
   "cell_type": "markdown",
   "metadata": {},
   "source": [
    "### Visualize 2-D clusters using t-SNE"
   ]
  },
  {
   "cell_type": "code",
   "execution_count": 89,
   "metadata": {
    "scrolled": false
   },
   "outputs": [
    {
     "data": {
      "image/png": "[encoded data removed]",
      "text/plain": [
       "<matplotlib.figure.Figure at 0x1d11ee50>"
      ]
     },
     "metadata": {},
     "output_type": "display_data"
    }
   ],
   "source": [
    "# specify search clusters we are visualizing \n",
    "search = 'corn'\n",
    "\n",
    "# Calculate t-SNE 2D embedding\n",
    "embed = TSNE(n_components=2).fit_transform(dist_dict[search], 'precomputed')\n",
    "xs, ys = embed[:, 0], embed[:, 1]\n",
    "\n",
    "# Create dataframe of embedding and cluster labels  \n",
    "clusters = df_final[df_final.search == search].cluster.tolist()\n",
    "df_vis = pd.DataFrame(dict(x = xs, y = ys, cluster = clusters))\n",
    "\n",
    "# plot\n",
    "fig, ax = plt.subplots(figsize=(9, 9)) \n",
    "# loop through so legend ordered by labels \n",
    "for c in labels_dict[search].keys():\n",
    "    ax.scatter(df_vis[df_vis.cluster == int(c)].x, df_vis[df_vis.cluster == int(c)].y, label = labels_dict[search][c])\n",
    "    plt.legend(bbox_to_anchor=(1.04,1), loc=\"upper left\", prop = {'size':20})"
   ]
  }
 ],
 "metadata": {
  "kernelspec": {
   "display_name": "Python 3",
   "language": "python",
   "name": "python3"
  },
  "language_info": {
   "codemirror_mode": {
    "name": "ipython",
    "version": 3
   },
   "file_extension": ".py",
   "mimetype": "text/x-python",
   "name": "python",
   "nbconvert_exporter": "python",
   "pygments_lexer": "ipython3",
   "version": "3.6.4"
  }
 },
 "nbformat": 4,
 "nbformat_minor": 2
}
