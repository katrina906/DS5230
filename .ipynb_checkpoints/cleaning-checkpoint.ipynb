{
 "cells": [
  {
   "cell_type": "markdown",
   "metadata": {},
   "source": [
    "## Preprocessing NLTK; Create TF-IDF Vector Space Model"
   ]
  },
  {
   "cell_type": "code",
   "execution_count": 1,
   "metadata": {
    "scrolled": true
   },
   "outputs": [],
   "source": [
    "#!pip install nltk\n",
    "#!pip install sklearn\n",
    "#!pip install gensim\n",
    "#!pip install matplotlib\n",
    "#!pip install networkx\n",
    "#!pip install kneed"
   ]
  },
  {
   "cell_type": "code",
   "execution_count": 2,
   "metadata": {},
   "outputs": [
    {
     "name": "stdout",
     "output_type": "stream",
     "text": [
      "[nltk_data] Downloading package stopwords to\n",
      "[nltk_data]     C:\\Users\\Gimli\\AppData\\Roaming\\nltk_data...\n",
      "[nltk_data]   Package stopwords is already up-to-date!\n"
     ]
    }
   ],
   "source": [
    "import nltk\n",
    "from nltk.corpus import reuters\n",
    "import re\n",
    "import numpy as np\n",
    "import pandas as pd\n",
    "from gensim.models import TfidfModel\n",
    "from gensim.corpora import Dictionary\n",
    "import string\n",
    "from nltk.corpus import stopwords\n",
    "nltk.download('stopwords')\n",
    "from sklearn.feature_extraction.text import TfidfVectorizer\n",
    "import matplotlib.pyplot as plt\n",
    "import collections\n",
    "import math\n",
    "import operator"
   ]
  },
  {
   "cell_type": "markdown",
   "metadata": {},
   "source": [
    "### Import Data"
   ]
  },
  {
   "cell_type": "code",
   "execution_count": 3,
   "metadata": {},
   "outputs": [],
   "source": [
    "# Extract fileids from the reuters corpus\n",
    "fileids = reuters.fileids()\n",
    "\n",
    "# Initialize empty lists to store categories and raw text\n",
    "categories = []\n",
    "text = []\n",
    "\n",
    "# Loop through each file id and collect each files categories and raw text\n",
    "for file in fileids:\n",
    "    categories.append(reuters.categories(file))\n",
    "    text.append(reuters.raw(file))\n",
    "\n",
    "# Combine lists into pandas dataframe. reutersDf is the final dataframe. \n",
    "og = pd.DataFrame({'ids':fileids, 'categories':categories, 'text':text})"
   ]
  },
  {
   "cell_type": "code",
   "execution_count": 4,
   "metadata": {},
   "outputs": [],
   "source": [
    "df = og.copy()"
   ]
  },
  {
   "cell_type": "markdown",
   "metadata": {},
   "source": [
    "### Text Processing"
   ]
  },
  {
   "cell_type": "code",
   "execution_count": 9,
   "metadata": {},
   "outputs": [
    {
     "ename": "KeyboardInterrupt",
     "evalue": "",
     "output_type": "error",
     "traceback": [
      "\u001b[1;31m---------------------------------------------------------------------------\u001b[0m",
      "\u001b[1;31mKeyboardInterrupt\u001b[0m                         Traceback (most recent call last)",
      "\u001b[1;32m<ipython-input-9-5802b7a1cebb>\u001b[0m in \u001b[0;36m<module>\u001b[1;34m()\u001b[0m\n\u001b[0;32m     26\u001b[0m \u001b[1;32mfor\u001b[0m \u001b[0mw\u001b[0m \u001b[1;32min\u001b[0m \u001b[0mdelete_words\u001b[0m\u001b[1;33m:\u001b[0m\u001b[1;33m\u001b[0m\u001b[0m\n\u001b[0;32m     27\u001b[0m     \u001b[0mdf\u001b[0m\u001b[1;33m.\u001b[0m\u001b[0mtext\u001b[0m \u001b[1;33m=\u001b[0m \u001b[0mdf\u001b[0m\u001b[1;33m.\u001b[0m\u001b[0mtext\u001b[0m\u001b[1;33m.\u001b[0m\u001b[0mstr\u001b[0m\u001b[1;33m.\u001b[0m\u001b[0mreplace\u001b[0m\u001b[1;33m(\u001b[0m\u001b[1;34m' '\u001b[0m \u001b[1;33m+\u001b[0m \u001b[0mw\u001b[0m \u001b[1;33m+\u001b[0m \u001b[1;34m' '\u001b[0m\u001b[1;33m,\u001b[0m \u001b[1;34m' '\u001b[0m\u001b[1;33m)\u001b[0m\u001b[1;33m\u001b[0m\u001b[0m\n\u001b[1;32m---> 28\u001b[1;33m     \u001b[0mdf\u001b[0m\u001b[1;33m.\u001b[0m\u001b[0mtext\u001b[0m \u001b[1;33m=\u001b[0m \u001b[0mdf\u001b[0m\u001b[1;33m.\u001b[0m\u001b[0mtext\u001b[0m\u001b[1;33m.\u001b[0m\u001b[0mstr\u001b[0m\u001b[1;33m.\u001b[0m\u001b[0mreplace\u001b[0m\u001b[1;33m(\u001b[0m\u001b[1;34m' '\u001b[0m \u001b[1;33m+\u001b[0m \u001b[0mw\u001b[0m \u001b[1;33m+\u001b[0m \u001b[1;34m'\\\\.'\u001b[0m\u001b[1;33m,\u001b[0m \u001b[1;34m'.'\u001b[0m\u001b[1;33m)\u001b[0m\u001b[1;33m\u001b[0m\u001b[0m\n\u001b[0m\u001b[0;32m     29\u001b[0m \u001b[1;33m\u001b[0m\u001b[0m\n\u001b[0;32m     30\u001b[0m \u001b[1;31m# collapse words to acronyms so recognized as one concept/token (and currently they are mixed)\u001b[0m\u001b[1;33m\u001b[0m\u001b[1;33m\u001b[0m\u001b[0m\n",
      "\u001b[1;32m~\\Anaconda3\\lib\\site-packages\\pandas\\core\\strings.py\u001b[0m in \u001b[0;36mreplace\u001b[1;34m(self, pat, repl, n, case, flags)\u001b[0m\n\u001b[0;32m   1578\u001b[0m         result = str_replace(self._data, pat, repl, n=n, case=case,\n\u001b[0;32m   1579\u001b[0m                              flags=flags)\n\u001b[1;32m-> 1580\u001b[1;33m         \u001b[1;32mreturn\u001b[0m \u001b[0mself\u001b[0m\u001b[1;33m.\u001b[0m\u001b[0m_wrap_result\u001b[0m\u001b[1;33m(\u001b[0m\u001b[0mresult\u001b[0m\u001b[1;33m)\u001b[0m\u001b[1;33m\u001b[0m\u001b[0m\n\u001b[0m\u001b[0;32m   1581\u001b[0m \u001b[1;33m\u001b[0m\u001b[0m\n\u001b[0;32m   1582\u001b[0m     \u001b[1;33m@\u001b[0m\u001b[0mcopy\u001b[0m\u001b[1;33m(\u001b[0m\u001b[0mstr_repeat\u001b[0m\u001b[1;33m)\u001b[0m\u001b[1;33m\u001b[0m\u001b[0m\n",
      "\u001b[1;32m~\\Anaconda3\\lib\\site-packages\\pandas\\core\\strings.py\u001b[0m in \u001b[0;36m_wrap_result\u001b[1;34m(self, result, use_codes, name, expand)\u001b[0m\n\u001b[0;32m   1468\u001b[0m                 \u001b[1;31m# Must be a Series\u001b[0m\u001b[1;33m\u001b[0m\u001b[1;33m\u001b[0m\u001b[0m\n\u001b[0;32m   1469\u001b[0m                 \u001b[0mcons\u001b[0m \u001b[1;33m=\u001b[0m \u001b[0mself\u001b[0m\u001b[1;33m.\u001b[0m\u001b[0m_orig\u001b[0m\u001b[1;33m.\u001b[0m\u001b[0m_constructor\u001b[0m\u001b[1;33m\u001b[0m\u001b[0m\n\u001b[1;32m-> 1470\u001b[1;33m                 \u001b[1;32mreturn\u001b[0m \u001b[0mcons\u001b[0m\u001b[1;33m(\u001b[0m\u001b[0mresult\u001b[0m\u001b[1;33m,\u001b[0m \u001b[0mname\u001b[0m\u001b[1;33m=\u001b[0m\u001b[0mname\u001b[0m\u001b[1;33m,\u001b[0m \u001b[0mindex\u001b[0m\u001b[1;33m=\u001b[0m\u001b[0mindex\u001b[0m\u001b[1;33m)\u001b[0m\u001b[1;33m\u001b[0m\u001b[0m\n\u001b[0m\u001b[0;32m   1471\u001b[0m \u001b[1;33m\u001b[0m\u001b[0m\n\u001b[0;32m   1472\u001b[0m     \u001b[1;33m@\u001b[0m\u001b[0mcopy\u001b[0m\u001b[1;33m(\u001b[0m\u001b[0mstr_cat\u001b[0m\u001b[1;33m)\u001b[0m\u001b[1;33m\u001b[0m\u001b[0m\n",
      "\u001b[1;32m~\\Anaconda3\\lib\\site-packages\\pandas\\core\\series.py\u001b[0m in \u001b[0;36m__init__\u001b[1;34m(self, data, index, dtype, name, copy, fastpath)\u001b[0m\n\u001b[0;32m    262\u001b[0m             \u001b[1;32melse\u001b[0m\u001b[1;33m:\u001b[0m\u001b[1;33m\u001b[0m\u001b[0m\n\u001b[0;32m    263\u001b[0m                 data = _sanitize_array(data, index, dtype, copy,\n\u001b[1;32m--> 264\u001b[1;33m                                        raise_cast_failure=True)\n\u001b[0m\u001b[0;32m    265\u001b[0m \u001b[1;33m\u001b[0m\u001b[0m\n\u001b[0;32m    266\u001b[0m                 \u001b[0mdata\u001b[0m \u001b[1;33m=\u001b[0m \u001b[0mSingleBlockManager\u001b[0m\u001b[1;33m(\u001b[0m\u001b[0mdata\u001b[0m\u001b[1;33m,\u001b[0m \u001b[0mindex\u001b[0m\u001b[1;33m,\u001b[0m \u001b[0mfastpath\u001b[0m\u001b[1;33m=\u001b[0m\u001b[1;32mTrue\u001b[0m\u001b[1;33m)\u001b[0m\u001b[1;33m\u001b[0m\u001b[0m\n",
      "\u001b[1;32m~\\Anaconda3\\lib\\site-packages\\pandas\\core\\series.py\u001b[0m in \u001b[0;36m_sanitize_array\u001b[1;34m(data, index, dtype, copy, raise_cast_failure)\u001b[0m\n\u001b[0;32m   3193\u001b[0m             \u001b[0msubarr\u001b[0m \u001b[1;33m=\u001b[0m \u001b[0m_sanitize_index\u001b[0m\u001b[1;33m(\u001b[0m\u001b[0mdata\u001b[0m\u001b[1;33m,\u001b[0m \u001b[0mindex\u001b[0m\u001b[1;33m,\u001b[0m \u001b[0mcopy\u001b[0m\u001b[1;33m=\u001b[0m\u001b[1;32mTrue\u001b[0m\u001b[1;33m)\u001b[0m\u001b[1;33m\u001b[0m\u001b[0m\n\u001b[0;32m   3194\u001b[0m         \u001b[1;32melse\u001b[0m\u001b[1;33m:\u001b[0m\u001b[1;33m\u001b[0m\u001b[0m\n\u001b[1;32m-> 3195\u001b[1;33m             \u001b[0msubarr\u001b[0m \u001b[1;33m=\u001b[0m \u001b[0m_try_cast\u001b[0m\u001b[1;33m(\u001b[0m\u001b[0mdata\u001b[0m\u001b[1;33m,\u001b[0m \u001b[1;32mTrue\u001b[0m\u001b[1;33m)\u001b[0m\u001b[1;33m\u001b[0m\u001b[0m\n\u001b[0m\u001b[0;32m   3196\u001b[0m \u001b[1;33m\u001b[0m\u001b[0m\n\u001b[0;32m   3197\u001b[0m         \u001b[1;32mif\u001b[0m \u001b[0mcopy\u001b[0m\u001b[1;33m:\u001b[0m\u001b[1;33m\u001b[0m\u001b[0m\n",
      "\u001b[1;32m~\\Anaconda3\\lib\\site-packages\\pandas\\core\\series.py\u001b[0m in \u001b[0;36m_try_cast\u001b[1;34m(arr, take_fast_path)\u001b[0m\n\u001b[0;32m   3159\u001b[0m \u001b[1;33m\u001b[0m\u001b[0m\n\u001b[0;32m   3160\u001b[0m         \u001b[1;32mtry\u001b[0m\u001b[1;33m:\u001b[0m\u001b[1;33m\u001b[0m\u001b[0m\n\u001b[1;32m-> 3161\u001b[1;33m             \u001b[0msubarr\u001b[0m \u001b[1;33m=\u001b[0m \u001b[0mmaybe_cast_to_datetime\u001b[0m\u001b[1;33m(\u001b[0m\u001b[0marr\u001b[0m\u001b[1;33m,\u001b[0m \u001b[0mdtype\u001b[0m\u001b[1;33m)\u001b[0m\u001b[1;33m\u001b[0m\u001b[0m\n\u001b[0m\u001b[0;32m   3162\u001b[0m             \u001b[1;32mif\u001b[0m \u001b[1;32mnot\u001b[0m \u001b[0mis_extension_type\u001b[0m\u001b[1;33m(\u001b[0m\u001b[0msubarr\u001b[0m\u001b[1;33m)\u001b[0m\u001b[1;33m:\u001b[0m\u001b[1;33m\u001b[0m\u001b[0m\n\u001b[0;32m   3163\u001b[0m                 \u001b[0msubarr\u001b[0m \u001b[1;33m=\u001b[0m \u001b[0mnp\u001b[0m\u001b[1;33m.\u001b[0m\u001b[0marray\u001b[0m\u001b[1;33m(\u001b[0m\u001b[0msubarr\u001b[0m\u001b[1;33m,\u001b[0m \u001b[0mdtype\u001b[0m\u001b[1;33m=\u001b[0m\u001b[0mdtype\u001b[0m\u001b[1;33m,\u001b[0m \u001b[0mcopy\u001b[0m\u001b[1;33m=\u001b[0m\u001b[0mcopy\u001b[0m\u001b[1;33m)\u001b[0m\u001b[1;33m\u001b[0m\u001b[0m\n",
      "\u001b[1;32m~\\Anaconda3\\lib\\site-packages\\pandas\\core\\dtypes\\cast.py\u001b[0m in \u001b[0;36mmaybe_cast_to_datetime\u001b[1;34m(value, dtype, errors)\u001b[0m\n\u001b[0;32m   1042\u001b[0m         elif not (is_array and not (issubclass(value.dtype.type, np.integer) or\n\u001b[0;32m   1043\u001b[0m                                     value.dtype == np.object_)):\n\u001b[1;32m-> 1044\u001b[1;33m             \u001b[0mvalue\u001b[0m \u001b[1;33m=\u001b[0m \u001b[0mmaybe_infer_to_datetimelike\u001b[0m\u001b[1;33m(\u001b[0m\u001b[0mvalue\u001b[0m\u001b[1;33m)\u001b[0m\u001b[1;33m\u001b[0m\u001b[0m\n\u001b[0m\u001b[0;32m   1045\u001b[0m \u001b[1;33m\u001b[0m\u001b[0m\n\u001b[0;32m   1046\u001b[0m     \u001b[1;32mreturn\u001b[0m \u001b[0mvalue\u001b[0m\u001b[1;33m\u001b[0m\u001b[0m\n",
      "\u001b[1;32m~\\Anaconda3\\lib\\site-packages\\pandas\\core\\dtypes\\cast.py\u001b[0m in \u001b[0;36mmaybe_infer_to_datetimelike\u001b[1;34m(value, convert_dates)\u001b[0m\n\u001b[0;32m    915\u001b[0m     \u001b[1;32melif\u001b[0m \u001b[0minferred_type\u001b[0m \u001b[1;33m==\u001b[0m \u001b[1;34m'timedelta'\u001b[0m\u001b[1;33m:\u001b[0m\u001b[1;33m\u001b[0m\u001b[0m\n\u001b[0;32m    916\u001b[0m         \u001b[0mvalue\u001b[0m \u001b[1;33m=\u001b[0m \u001b[0mtry_timedelta\u001b[0m\u001b[1;33m(\u001b[0m\u001b[0mv\u001b[0m\u001b[1;33m)\u001b[0m\u001b[1;33m\u001b[0m\u001b[0m\n\u001b[1;32m--> 917\u001b[1;33m     \u001b[1;32melif\u001b[0m \u001b[0minferred_type\u001b[0m \u001b[1;33m==\u001b[0m \u001b[1;34m'nat'\u001b[0m\u001b[1;33m:\u001b[0m\u001b[1;33m\u001b[0m\u001b[0m\n\u001b[0m\u001b[0;32m    918\u001b[0m \u001b[1;33m\u001b[0m\u001b[0m\n\u001b[0;32m    919\u001b[0m         \u001b[1;31m# if all NaT, return as datetime\u001b[0m\u001b[1;33m\u001b[0m\u001b[1;33m\u001b[0m\u001b[0m\n",
      "\u001b[1;31mKeyboardInterrupt\u001b[0m: "
     ]
    }
   ],
   "source": [
    "# processing text\n",
    "df.text = df.text.str.replace('\\n', ' ')\n",
    "df.text = df.text.str.replace('&lt;', '<')\n",
    "df.text = df.text.str.replace(\"&amp;\", \"&\")\n",
    "\n",
    "# down case all\n",
    "df.text = df.text.str.lower()\n",
    "\n",
    "# remove symbols\n",
    "df.text = df.text.str.replace('<', ' ')\n",
    "df.text = df.text.str.replace('>', ' ')\n",
    "#df.text = df.text.str.replace('-', ' ')\n",
    "\n",
    "# remove punctuation\n",
    "#p = string.punctuation\n",
    "#p = p.replace('-', '') # keep dash - semantic meaning\n",
    "df.text = df.text.apply(lambda row: row.translate(str.maketrans('','', string.punctuation)))\n",
    "\n",
    "# delete content specific \"stop words\"\n",
    "delete_words = ['qtr', 'pct', 'jan', 'feb', 'mar', 'apr', 'may', 'jun', 'jul', 'aug', 'sep', 'oct', 'nov', 'dec', 'bil', 'mln',\n",
    "               'quarter', 'percent', 'million', 'billion', 'january', 'february', 'march', 'april', 'may', 'june', 'july', \n",
    "                'august', 'september', 'october', 'november', 'december', 'janurary', 'said', 'year', 'month', 'v', 'iv', 'vi',\n",
    "               'shr', 'cts', 'januarys', 'februarys', 'marchs', 'aprils', 'mays', 'junes', 'julys', 'thous',\n",
    "                'augusts', 'septembers', 'octobers', 'novembers', 'decembers', 'previous', 'prev', 'also', 'say', 'says',\n",
    "               'feet', 'ounces', 'ounce', 'foot', 'ton', 'tons', 'tonnes', 'vs', 'nil', 'pound', 'thou', 'tonne', 'week', 'wk']\n",
    "for w in delete_words:\n",
    "    df.text = df.text.str.replace(' ' + w + ' ', ' ')\n",
    "    df.text = df.text.str.replace(' ' + w + '\\\\.', '.')\n",
    "\n",
    "# collapse words to acronyms so recognized as one concept/token (and currently they are mixed)\n",
    "df.text = df.text.str.replace('united states', 'us')\n",
    "df.text = df.text.str.replace('new zealand', 'nz')\n",
    "df.text = df.text.str.replace('hong kong', 'hk')\n",
    "df.text = df.text.str.replace('united kingdom', 'uk')\n",
    "df.text = df.text.str.replace('dlrs', 'dollars')\n",
    "\n",
    "# remove all numbers that start a word or have a number before it \n",
    "    # originally removing number words\n",
    "#df.text = df.text.apply(lambda row: re.sub(' \\d* ', ' ', row)) ### going back to number words\n",
    "df.text = df.text.apply(lambda row: re.sub('\\d*', '', row))\n",
    "\n",
    "# final pass on delete words in case any are now surfaced from other deletions \n",
    "for w in delete_words:\n",
    "    df.text = df.text.str.replace(' ' + w + ' ', ' ')\n",
    "    df.text = df.text.str.replace(' ' + w + '\\\\.', '.')\n",
    "for w in ['th']:\n",
    "    df.text = df.text.str.replace(' ' + w + ' ', ' ')\n",
    "    df.text = df.text.str.replace(' ' + w + '\\\\.', '.')\n",
    "# 4th, 1st etc. - number now gone\n",
    "#for num_words in ['1st', '2nd', '3rd', '4th', '5th', '6th', '7th', '8th', '9th', '10th']:\n",
    "#    df.text = df.text.str.replace(' 1st ', ' ')\n",
    "#    df.text = df.text.str.replace(' th ', ' ')"
   ]
  },
  {
   "cell_type": "code",
   "execution_count": 6,
   "metadata": {},
   "outputs": [],
   "source": [
    "df.to_pickle('reuters_processed') "
   ]
  },
  {
   "cell_type": "code",
   "execution_count": 7,
   "metadata": {
    "scrolled": true
   },
   "outputs": [
    {
     "data": {
      "text/plain": [
       "array(['net change in export commitments  usda   the us agriculture department gave   the net change in export commitments including sales   cancellations foreign purchases and cumulative exports in the   current seasons through the ended  with   comparisons as follows in except as noted                                             all wheat                           corn                     soybeans                   soy cakemeal                   soybean oil     x                   cottony                xminus total yrunning bales       the indicated totals include reported commitments to both   named and unnamed destinations sales on exporters own account   and optional origin sales plus actual exports already made   during the respective marketing seasons       the usda cautions that reported outstanding sales are   subject to modification deferral or cancellation and it is   unlikely that all reported quantities will be exported       usda gave detailed breakdowns for the  and    seasons as follows in thousand unless stated     a  firm sales to a declared destination    b  ultimate destination not yet declared    c  sales made on exporters own account    d  exporter holds option to fill commitment with supplies    from origins other than us    e  accumulated exports since season began based on data    reported by exporters    f  indicated total for season    g  usdaprojected exports for season    note  totals not add due to rounding        all wheat                                                        nameda             unnamedb                     eoac                          oopd                        gr total            ay expde       ind ttlf       usdaprjg          soybeans                                                          nameda                  unnamedb                      eoac                         oopd                         gr total                 ay expde      ind ttlf      usdaprjg         corn                                                          nameda                  unnamedb                      eoac                          oopd                        gr total                 ay expde       ind ttlf       usdaprjg          sorghum                                                        nameda                       unnamedb             x      eoac                         oopd                       gr total          x      ay expde        ind ttlf        usdaprjg        xminus total        wheat products                                                       nameda                     unnamedb                     eoac                      oopd                      gr total                    ay expde          ind ttlf       note  includes bulgur semolina farina rolled cracked and   crushed wheat       soybean oil                                                     nameda                       unnamedb                     eoac                      oopd                      gr total                     ay expde         ind ttlf         usdaprjg            soybean cake and meal                                                         nameda                        unnamedb                        eoac                            oopd                          gr total                       ay expde        ind ttlf        usdaprjg            cottonseed oil                                                       nameda                         unnamedb                       eoac                      oopd                        gr total                         all upland domestic raw cottony                                                         nameda                  unnamedb                        eoac                          oopc                          gr total                 ay expde        ind ttlf        usdaprjg         yin thousand running bales       barley                                                          nameda                        unnamedb                        eoac                         oopd                         gr total                       ay expte        ind ttlf        usdaprjg           oats                                                   nameda                    unnamedb                  eoac                   oopd                   gr total                   ay expde           ind ttlf           usdaprjg            rice                                                         nameda                       unnamedb                         eoac                         oopd                         gr total                      ay expde        ind ttlf        usdaprjg           hard red winter wheat                                                        nameda                 unnamedb                      eoac                        oopd                        gr total            ay expe        ind tlf         white wheat                                                        nameda                      unnamedb    x   x    x   x    eoac                       oopd                       gr total                     ay expe        ind tlf         x  denotes minus figure       hard red spring wheat                                                       nameda                   unnamedb                     eoac                        oopd                      gr total                  ay expe       ind tlf           durum wheat                                                        nameda                     unnamedb                     eoac                        oopd                      gr total                    ay expe       ind tlf          soft red winter wheat                                                         nameda                    unnamedb              x  x    eoac                         oopd                       gr total                   ay expe        ind tlf        xminus figure       country and destinations of the identified sales of   commodities reported by exporters in ended  for   the respective marketing seasons were detailed by the usda as   follows with comparisons for the in thousands   of except where noted     all wheat                                                           ec                           other west    europe                       east europe                     all wheat continued                                                          ussr                            japan                         china                         taiwan                      other asia and    oceania                       africa                    western    hemisphere                  soybeans                                              ec                          other west    europe                          east europe                   japan                         china                           taiwan                        other asia and    oceania                       africa                          western    hemisphere                       soybean oil                                                  ec                          india                       other asia and    oceania                     africa                      western    hemisphere                       soybean cakemeal                                                          ec                       other west    europe                       east europe                  japan                         other asia and    oceania                      africa                       western    hemisphere                      corn                                                ec                                other west    europe                             e europe                         ussr                        japan                       china                           taiwan                        other asia and    oceania                        africa                          westhem                        upland cotton in thousand bales                                                        ec                         other west    europe                           e europe                        japan                        taiwan                       other asia and    oceania                    africa                         western    hemisphere                        '],\n",
       "      dtype=object)"
      ]
     },
     "execution_count": 7,
     "metadata": {},
     "output_type": "execute_result"
    }
   ],
   "source": [
    "df[df.ids == 'test/15871'].text.unique()"
   ]
  },
  {
   "cell_type": "code",
   "execution_count": 8,
   "metadata": {},
   "outputs": [
    {
     "data": {
      "text/html": [
       "<div>\n",
       "<style scoped>\n",
       "    .dataframe tbody tr th:only-of-type {\n",
       "        vertical-align: middle;\n",
       "    }\n",
       "\n",
       "    .dataframe tbody tr th {\n",
       "        vertical-align: top;\n",
       "    }\n",
       "\n",
       "    .dataframe thead th {\n",
       "        text-align: right;\n",
       "    }\n",
       "</style>\n",
       "<table border=\"1\" class=\"dataframe\">\n",
       "  <thead>\n",
       "    <tr style=\"text-align: right;\">\n",
       "      <th></th>\n",
       "      <th>categories</th>\n",
       "      <th>ids</th>\n",
       "      <th>text</th>\n",
       "    </tr>\n",
       "  </thead>\n",
       "  <tbody>\n",
       "    <tr>\n",
       "      <th>299</th>\n",
       "      <td>[yen]</td>\n",
       "      <td>test/15400</td>\n",
       "      <td>japan business leaders g accord is worrying   ...</td>\n",
       "    </tr>\n",
       "  </tbody>\n",
       "</table>\n",
       "</div>"
      ],
      "text/plain": [
       "    categories         ids                                               text\n",
       "299      [yen]  test/15400  japan business leaders g accord is worrying   ..."
      ]
     },
     "execution_count": 8,
     "metadata": {},
     "output_type": "execute_result"
    }
   ],
   "source": [
    "df[df.ids == 'test/15400']"
   ]
  }
 ],
 "metadata": {
  "kernelspec": {
   "display_name": "Python 3",
   "language": "python",
   "name": "python3"
  },
  "language_info": {
   "codemirror_mode": {
    "name": "ipython",
    "version": 3
   },
   "file_extension": ".py",
   "mimetype": "text/x-python",
   "name": "python",
   "nbconvert_exporter": "python",
   "pygments_lexer": "ipython3",
   "version": "3.6.4"
  }
 },
 "nbformat": 4,
 "nbformat_minor": 2
}
