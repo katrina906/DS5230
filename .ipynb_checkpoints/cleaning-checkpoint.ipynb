{
 "cells": [
  {
   "cell_type": "markdown",
   "metadata": {},
   "source": [
    "TO DO hierarchial:\n",
    "- Try dimensionality reduction before clustering\n",
    "- Analyze sub clusters and look at their performance \n",
    "- Change metric when calculating clusters (currently ward) \n",
    "- Check with professor that euclidean makes sense because tf-idf is normalized   \n",
    "- Scale up to multiple search terms. Figure out metrics to evaluate between. (silhouette etc.)\n",
    "- Visualization with tsne or umap rather than mds -- tsne works. can't get umap to install. \n",
    "\n",
    "TO DO in general:\n",
    "- score and rank clusters "
   ]
  },
  {
   "cell_type": "code",
   "execution_count": 1,
   "metadata": {},
   "outputs": [],
   "source": [
    "%reset -f"
   ]
  },
  {
   "cell_type": "code",
   "execution_count": 1,
   "metadata": {
    "scrolled": true
   },
   "outputs": [
    {
     "name": "stdout",
     "output_type": "stream",
     "text": [
      "Requirement already satisfied: nltk in c:\\users\\gimli\\appdata\\local\\programs\\python\\python37-32\\lib\\site-packages (3.4.5)\n",
      "Requirement already satisfied: six in c:\\users\\gimli\\appdata\\local\\programs\\python\\python37-32\\lib\\site-packages (from nltk) (1.11.0)\n",
      "Requirement already satisfied: sklearn in c:\\users\\gimli\\appdata\\local\\programs\\python\\python37-32\\lib\\site-packages (0.0)\n",
      "Requirement already satisfied: scikit-learn in c:\\users\\gimli\\appdata\\local\\programs\\python\\python37-32\\lib\\site-packages (from sklearn) (0.21.3)\n",
      "Requirement already satisfied: scipy>=0.17.0 in c:\\users\\gimli\\appdata\\local\\programs\\python\\python37-32\\lib\\site-packages (from scikit-learn->sklearn) (1.3.1)\n",
      "Requirement already satisfied: joblib>=0.11 in c:\\users\\gimli\\appdata\\local\\programs\\python\\python37-32\\lib\\site-packages (from scikit-learn->sklearn) (0.14.0)\n",
      "Requirement already satisfied: numpy>=1.11.0 in c:\\users\\gimli\\appdata\\local\\programs\\python\\python37-32\\lib\\site-packages (from scikit-learn->sklearn) (1.15.0)\n",
      "Requirement already satisfied: gensim in c:\\users\\gimli\\appdata\\local\\programs\\python\\python37-32\\lib\\site-packages (3.8.1)\n",
      "Requirement already satisfied: scipy>=0.18.1 in c:\\users\\gimli\\appdata\\local\\programs\\python\\python37-32\\lib\\site-packages (from gensim) (1.3.1)\n",
      "Requirement already satisfied: smart-open>=1.8.1 in c:\\users\\gimli\\appdata\\local\\programs\\python\\python37-32\\lib\\site-packages (from gensim) (1.8.4)\n",
      "Requirement already satisfied: six>=1.5.0 in c:\\users\\gimli\\appdata\\local\\programs\\python\\python37-32\\lib\\site-packages (from gensim) (1.11.0)\n",
      "Requirement already satisfied: numpy>=1.11.3 in c:\\users\\gimli\\appdata\\local\\programs\\python\\python37-32\\lib\\site-packages (from gensim) (1.15.0)\n",
      "Requirement already satisfied: boto>=2.32 in c:\\users\\gimli\\appdata\\local\\programs\\python\\python37-32\\lib\\site-packages (from smart-open>=1.8.1->gensim) (2.49.0)\n",
      "Requirement already satisfied: boto3 in c:\\users\\gimli\\appdata\\local\\programs\\python\\python37-32\\lib\\site-packages (from smart-open>=1.8.1->gensim) (1.10.5)\n",
      "Requirement already satisfied: requests in c:\\users\\gimli\\appdata\\local\\programs\\python\\python37-32\\lib\\site-packages (from smart-open>=1.8.1->gensim) (2.19.1)\n",
      "Requirement already satisfied: s3transfer<0.3.0,>=0.2.0 in c:\\users\\gimli\\appdata\\local\\programs\\python\\python37-32\\lib\\site-packages (from boto3->smart-open>=1.8.1->gensim) (0.2.1)\n",
      "Requirement already satisfied: botocore<1.14.0,>=1.13.5 in c:\\users\\gimli\\appdata\\local\\programs\\python\\python37-32\\lib\\site-packages (from boto3->smart-open>=1.8.1->gensim) (1.13.5)\n",
      "Requirement already satisfied: jmespath<1.0.0,>=0.7.1 in c:\\users\\gimli\\appdata\\local\\programs\\python\\python37-32\\lib\\site-packages (from boto3->smart-open>=1.8.1->gensim) (0.9.4)\n",
      "Requirement already satisfied: urllib3<1.24,>=1.21.1 in c:\\users\\gimli\\appdata\\local\\programs\\python\\python37-32\\lib\\site-packages (from requests->smart-open>=1.8.1->gensim) (1.23)\n",
      "Requirement already satisfied: certifi>=2017.4.17 in c:\\users\\gimli\\appdata\\local\\programs\\python\\python37-32\\lib\\site-packages (from requests->smart-open>=1.8.1->gensim) (2018.8.13)\n",
      "Requirement already satisfied: idna<2.8,>=2.5 in c:\\users\\gimli\\appdata\\local\\programs\\python\\python37-32\\lib\\site-packages (from requests->smart-open>=1.8.1->gensim) (2.7)\n",
      "Requirement already satisfied: chardet<3.1.0,>=3.0.2 in c:\\users\\gimli\\appdata\\local\\programs\\python\\python37-32\\lib\\site-packages (from requests->smart-open>=1.8.1->gensim) (3.0.4)\n",
      "Requirement already satisfied: python-dateutil<3.0.0,>=2.1; python_version >= \"2.7\" in c:\\users\\gimli\\appdata\\local\\programs\\python\\python37-32\\lib\\site-packages (from botocore<1.14.0,>=1.13.5->boto3->smart-open>=1.8.1->gensim) (2.7.3)\n",
      "Requirement already satisfied: docutils<0.16,>=0.10 in c:\\users\\gimli\\appdata\\local\\programs\\python\\python37-32\\lib\\site-packages (from botocore<1.14.0,>=1.13.5->boto3->smart-open>=1.8.1->gensim) (0.15.2)\n",
      "Requirement already satisfied: matplotlib in c:\\users\\gimli\\appdata\\local\\programs\\python\\python37-32\\lib\\site-packages (3.1.1)\n",
      "Requirement already satisfied: numpy>=1.11 in c:\\users\\gimli\\appdata\\local\\programs\\python\\python37-32\\lib\\site-packages (from matplotlib) (1.15.0)\n",
      "Requirement already satisfied: python-dateutil>=2.1 in c:\\users\\gimli\\appdata\\local\\programs\\python\\python37-32\\lib\\site-packages (from matplotlib) (2.7.3)\n",
      "Requirement already satisfied: pyparsing!=2.0.4,!=2.1.2,!=2.1.6,>=2.0.1 in c:\\users\\gimli\\appdata\\local\\programs\\python\\python37-32\\lib\\site-packages (from matplotlib) (2.4.2)\n",
      "Requirement already satisfied: kiwisolver>=1.0.1 in c:\\users\\gimli\\appdata\\local\\programs\\python\\python37-32\\lib\\site-packages (from matplotlib) (1.1.0)\n",
      "Requirement already satisfied: cycler>=0.10 in c:\\users\\gimli\\appdata\\local\\programs\\python\\python37-32\\lib\\site-packages (from matplotlib) (0.10.0)\n",
      "Requirement already satisfied: six>=1.5 in c:\\users\\gimli\\appdata\\local\\programs\\python\\python37-32\\lib\\site-packages (from python-dateutil>=2.1->matplotlib) (1.11.0)\n",
      "Requirement already satisfied: setuptools in c:\\users\\gimli\\appdata\\local\\programs\\python\\python37-32\\lib\\site-packages (from kiwisolver>=1.0.1->matplotlib) (39.0.1)\n",
      "Requirement already satisfied: networkx in c:\\users\\gimli\\appdata\\local\\programs\\python\\python37-32\\lib\\site-packages (2.4)\n",
      "Requirement already satisfied: decorator>=4.3.0 in c:\\users\\gimli\\appdata\\local\\programs\\python\\python37-32\\lib\\site-packages (from networkx) (4.4.1)\n",
      "Requirement already satisfied: kneed in c:\\users\\gimli\\appdata\\local\\programs\\python\\python37-32\\lib\\site-packages (0.5.0)\n",
      "Requirement already satisfied: scikit-learn in c:\\users\\gimli\\appdata\\local\\programs\\python\\python37-32\\lib\\site-packages (from kneed) (0.21.3)\n",
      "Requirement already satisfied: numpy>=1.14.2 in c:\\users\\gimli\\appdata\\local\\programs\\python\\python37-32\\lib\\site-packages (from kneed) (1.15.0)\n",
      "Requirement already satisfied: matplotlib in c:\\users\\gimli\\appdata\\local\\programs\\python\\python37-32\\lib\\site-packages (from kneed) (3.1.1)\n",
      "Requirement already satisfied: scipy in c:\\users\\gimli\\appdata\\local\\programs\\python\\python37-32\\lib\\site-packages (from kneed) (1.3.1)\n",
      "Requirement already satisfied: joblib>=0.11 in c:\\users\\gimli\\appdata\\local\\programs\\python\\python37-32\\lib\\site-packages (from scikit-learn->kneed) (0.14.0)\n",
      "Requirement already satisfied: python-dateutil>=2.1 in c:\\users\\gimli\\appdata\\local\\programs\\python\\python37-32\\lib\\site-packages (from matplotlib->kneed) (2.7.3)\n",
      "Requirement already satisfied: cycler>=0.10 in c:\\users\\gimli\\appdata\\local\\programs\\python\\python37-32\\lib\\site-packages (from matplotlib->kneed) (0.10.0)\n",
      "Requirement already satisfied: pyparsing!=2.0.4,!=2.1.2,!=2.1.6,>=2.0.1 in c:\\users\\gimli\\appdata\\local\\programs\\python\\python37-32\\lib\\site-packages (from matplotlib->kneed) (2.4.2)\n",
      "Requirement already satisfied: kiwisolver>=1.0.1 in c:\\users\\gimli\\appdata\\local\\programs\\python\\python37-32\\lib\\site-packages (from matplotlib->kneed) (1.1.0)\n",
      "Requirement already satisfied: six>=1.5 in c:\\users\\gimli\\appdata\\local\\programs\\python\\python37-32\\lib\\site-packages (from python-dateutil>=2.1->matplotlib->kneed) (1.11.0)\n",
      "Requirement already satisfied: setuptools in c:\\users\\gimli\\appdata\\local\\programs\\python\\python37-32\\lib\\site-packages (from kiwisolver>=1.0.1->matplotlib->kneed) (39.0.1)\n"
     ]
    }
   ],
   "source": [
    "#!pip install nltk\n",
    "#!pip install sklearn\n",
    "#!pip install gensim\n",
    "#!pip install matplotlib\n",
    "#!pip install networkx\n",
    "#!pip install kneed"
   ]
  },
  {
   "cell_type": "code",
   "execution_count": 22,
   "metadata": {},
   "outputs": [
    {
     "name": "stderr",
     "output_type": "stream",
     "text": [
      "[nltk_data] Downloading package stopwords to\n",
      "[nltk_data]     C:\\Users\\Gimli\\AppData\\Roaming\\nltk_data...\n",
      "[nltk_data]   Package stopwords is already up-to-date!\n"
     ]
    }
   ],
   "source": [
    "import nltk\n",
    "from nltk.corpus import reuters\n",
    "import re\n",
    "import numpy as np\n",
    "import pandas as pd\n",
    "from gensim.models import TfidfModel\n",
    "from gensim.corpora import Dictionary\n",
    "import string\n",
    "from nltk.corpus import stopwords\n",
    "nltk.download('stopwords')\n",
    "from sklearn.feature_extraction.text import TfidfVectorizer\n",
    "from nltk.stem.porter import PorterStemmer\n",
    "from sklearn.cluster import AgglomerativeClustering\n",
    "import matplotlib.pyplot as plt\n",
    "from sklearn.manifold import MDS\n",
    "import sklearn\n",
    "from scipy.cluster.hierarchy import dendrogram, linkage, ward, fcluster\n",
    "import networkx as nx\n",
    "import collections\n",
    "import math\n",
    "import operator\n",
    "from sklearn.metrics.pairwise import cosine_similarity, euclidean_distances\n",
    "from sklearn.decomposition import PCA\n",
    "from kneed import KneeLocator\n",
    "from sklearn.manifold import TSNE"
   ]
  },
  {
   "cell_type": "markdown",
   "metadata": {},
   "source": [
    "### Import Data"
   ]
  },
  {
   "cell_type": "code",
   "execution_count": 2,
   "metadata": {},
   "outputs": [],
   "source": [
    "# Extract fileids from the reuters corpus\n",
    "fileids = reuters.fileids()\n",
    "\n",
    "# Initialize empty lists to store categories and raw text\n",
    "categories = []\n",
    "text = []\n",
    "\n",
    "# Loop through each file id and collect each files categories and raw text\n",
    "for file in fileids:\n",
    "    categories.append(reuters.categories(file))\n",
    "    text.append(reuters.raw(file))\n",
    "\n",
    "# Combine lists into pandas dataframe. reutersDf is the final dataframe. \n",
    "og = pd.DataFrame({'ids':fileids, 'categories':categories, 'text':text})"
   ]
  },
  {
   "cell_type": "code",
   "execution_count": 3,
   "metadata": {},
   "outputs": [],
   "source": [
    "df = og.copy()"
   ]
  },
  {
   "cell_type": "markdown",
   "metadata": {},
   "source": [
    "### Text Processing"
   ]
  },
  {
   "cell_type": "code",
   "execution_count": 4,
   "metadata": {},
   "outputs": [],
   "source": [
    "# processing text\n",
    "df.text = df.text.str.replace('\\n', ' ')\n",
    "df.text = df.text.str.replace('&lt;', '<')\n",
    "df.text = df.text.str.replace(\"&amp;\", \"&\")\n",
    "\n",
    "# down case all\n",
    "df.text = df.text.str.lower()\n",
    "\n",
    "# remove symbols\n",
    "df.text = df.text.str.replace('<', ' ')\n",
    "df.text = df.text.str.replace('>', ' ')\n",
    "df.text = df.text.str.replace('-', ' ')\n",
    "\n",
    "# delete content specific \"stop words\"\n",
    "delete_words = ['qtr', 'pct', 'jan', 'feb', 'mar', 'apr', 'may', 'jun', 'jul', 'aug', 'sep', 'oct', 'nov', 'dec', 'bil', 'mln',\n",
    "               'quarter', 'percent', 'million', 'billion', 'january', 'february', 'march', 'april', 'may', 'june', 'july', \n",
    "                'august', 'september', 'october', 'november', 'december', 'janurary', 'said', 'year', 'month',\n",
    "               'shr', 'cts', 'january\\'s', 'february\\'s', 'march\\'s', 'april\\'s', 'may\\'s', 'june\\'s', 'july\\'s', \n",
    "                'august\\'s', 'september\\'s', 'october\\'s', 'november\\'s', 'december\\'s']\n",
    "for w in delete_words:\n",
    "    df.text = df.text.str.replace(' ' + w + ' ', ' ')\n",
    "    df.text = df.text.str.replace(' ' + w + '\\\\.', '.')\n",
    "\n",
    "# remove punctuation\n",
    "df.text = df.text.apply(lambda row: row.translate(str.maketrans('','',string.punctuation)))\n",
    "\n",
    "# collapse words to acronyms so recognized as one concept/token (and currently they are mixed)\n",
    "df.text = df.text.str.replace('united states', 'us')\n",
    "df.text = df.text.str.replace('new zealand', 'nz')\n",
    "df.text = df.text.str.replace('hong kong', 'hk')\n",
    "df.text = df.text.str.replace('united kingdom', 'uk')\n",
    "df.text = df.text.str.replace('dlrs', 'dollars')\n",
    "\n",
    "# remove all numbers\n",
    "    # originally removing number words\n",
    "df.text = df.text.apply(lambda row: re.sub('\\d*', '', row))"
   ]
  },
  {
   "cell_type": "code",
   "execution_count": 5,
   "metadata": {},
   "outputs": [],
   "source": [
    "df_retail = df[df.categories.map(set(['ship']).issubset)] # subset to start with \n",
    "df_retail = df_retail.reset_index()"
   ]
  },
  {
   "cell_type": "code",
   "execution_count": 8,
   "metadata": {
    "scrolled": true
   },
   "outputs": [],
   "source": [
    "### done by tfidfvectorizer\n",
    "# tokenize words\n",
    "#df['tokens'] = df.text.apply(lambda row: nltk.word_tokenize(row))\n",
    "# remove stopwords\n",
    "#df.tokens = df.tokens.apply(lambda row: [w for w in row if not w in stopwords.words('english')])\n",
    "\n",
    "# stemming? Maybe for clutering, but not for finding common words. "
   ]
  },
  {
   "cell_type": "markdown",
   "metadata": {},
   "source": [
    "## Tf-Idf Matrix"
   ]
  },
  {
   "cell_type": "code",
   "execution_count": 6,
   "metadata": {},
   "outputs": [],
   "source": [
    "# tfidf. stop word removal. word tokenizer. \n",
    "tfidf = TfidfVectorizer(stop_words = 'english', analyzer = 'word')\n",
    "m = tfidf.fit_transform(df_retail['text'])\n",
    "\n",
    "# get words and scores in document 0\n",
    "feature_names = tfidf.get_feature_names() # words \n",
    "#feature_index = m[0,:].nonzero()[1] # non zero words for first document\n",
    "#tfidf_scores = zip(feature_index, [m[0, x] for x in feature_index]) # scores and words\n",
    "\n",
    "#for w, s in [(feature_names[i], s) for (i, s) in tfidf_scores]:\n",
    "#    print(w, s)\n",
    "    \n",
    "#tfidf.vocabulary_ "
   ]
  },
  {
   "cell_type": "code",
   "execution_count": 7,
   "metadata": {},
   "outputs": [],
   "source": [
    "dist = 1 - cosine_similarity(m)\n",
    "# the diagonals are numbers very close to, but not quite zero (very small negative number)\n",
    "# problematic for some functions that don't expect negative numbers\n",
    "for i in range(len(dist)):\n",
    "    dist[i][i] = 0\n",
    "    \n",
    "    \n",
    "dist_e = euclidean_distances(m)  ## I think its ok to use euclidean because tf-idf normalizes\n",
    "# euclidean can be innaccurate if documents are different lengths such that vectors are different lengths \n",
    "# I would prefer to use euclidean because then more sensicl to calculate centroids\n",
    "# ask professor?? "
   ]
  },
  {
   "cell_type": "markdown",
   "metadata": {},
   "source": [
    "__Dimensionality Reduction__"
   ]
  },
  {
   "cell_type": "code",
   "execution_count": 8,
   "metadata": {},
   "outputs": [],
   "source": [
    "pca = PCA(n_components = 0.8) # keep 95% of variance \n",
    "pcam = pca.fit_transform(m.toarray())\n",
    "\n",
    "dist_e_pca = euclidean_distances(pcam)"
   ]
  },
  {
   "cell_type": "markdown",
   "metadata": {},
   "source": [
    "### Hierarchial Clustering"
   ]
  },
  {
   "cell_type": "code",
   "execution_count": 39,
   "metadata": {
    "scrolled": true
   },
   "outputs": [
    {
     "name": "stderr",
     "output_type": "stream",
     "text": [
      "c:\\users\\gimli\\appdata\\local\\programs\\python\\python37-32\\lib\\site-packages\\ipykernel_launcher.py:4: ClusterWarning: scipy.cluster: The symmetric non-negative hollow observation matrix looks suspiciously like an uncondensed distance matrix\n",
      "  after removing the cwd from sys.path.\n",
      "c:\\users\\gimli\\appdata\\local\\programs\\python\\python37-32\\lib\\site-packages\\ipykernel_launcher.py:7: ClusterWarning: scipy.cluster: The symmetric non-negative hollow observation matrix looks suspiciously like an uncondensed distance matrix\n",
      "  import sys\n"
     ]
    }
   ],
   "source": [
    "# hieararchial clusters with children \n",
    "linkage_matrix = linkage(dist, method = 'ward') # try different methods\n",
    "    # https://docs.scipy.org/doc/scipy/reference/generated/scipy.cluster.hierarchy.linkage.html\n",
    "linkage_matrix_e = linkage(dist_e, method = 'ward') # try different methods\n",
    "\n",
    "# dimensionality reduction\n",
    "linkage_matrix_e_pca = linkage(dist_e_pca, method = 'ward') \n",
    "\n",
    "\n",
    "# plot dendogram\n",
    "#fig, ax = plt.subplots(figsize=(15, 20))\n",
    "#ax = dendrogram(linkage_matrix, orientation=\"right\", labels = df_retail.ids.unique())"
   ]
  },
  {
   "cell_type": "code",
   "execution_count": 13,
   "metadata": {
    "scrolled": true
   },
   "outputs": [],
   "source": [
    "#score = dict()\n",
    "#for k in range(2 , min(math.floor(len(df_retail) / 3), 10)): # want min(minimum avg 3 documents per cluster OR 10% docs)\n",
    "#    f = fcluster(linkage_matrix, k, criterion = 'maxclust')\n",
    "#    score[k] = sklearn.metrics.silhouette_score(m, f, metric = 'cosine')\n",
    "    \n",
    "# cluster number with max score\n",
    "#k = np.argmax(score) + 2\n",
    "#k = max(score.items(), key=operator.itemgetter(1))[0] + 2\n",
    "#f = fcluster(linkage_matrix, k, criterion = 'maxclust')\n",
    "\n",
    "## this seemingly doesn't calculate silhouette score right...."
   ]
  },
  {
   "cell_type": "code",
   "execution_count": 14,
   "metadata": {},
   "outputs": [],
   "source": [
    "# https://stackoverflow.com/questions/21638130/tutorial-for-scipy-cluster-hierarchy\n",
    "# idea for scree plot to determine number of clusters in fcluster using 'maxclust' in criterion"
   ]
  },
  {
   "cell_type": "code",
   "execution_count": 40,
   "metadata": {},
   "outputs": [],
   "source": [
    "def frame_merge(df, f):\n",
    "    # merge in with original data via pandas\n",
    "    frameh = pd.DataFrame(df.index, index = [f], columns = ['index_retail'])\n",
    "    frameh = pd.merge(frameh, df, right_index = True, left_on = 'index_retail')\n",
    "    frameh['cluster'] = frameh.index.str[0]\n",
    "    frameh = frameh.reset_index()\n",
    "    return frameh"
   ]
  },
  {
   "cell_type": "code",
   "execution_count": 41,
   "metadata": {},
   "outputs": [],
   "source": [
    "def centroid_label(frameh, m, feature_names):\n",
    "    # most common words in clusters (based on tf-idf not just frequency)\n",
    "    centroid = dict()\n",
    "    labels = []\n",
    "    for c in list(frameh.cluster.unique()):\n",
    "        print()\n",
    "        # most common words\n",
    "        cluster1 = list(frameh[frameh.cluster == c].index.unique())\n",
    "        # find documents cluster\n",
    "        m1 = m[cluster1,:]\n",
    "        # take mean vector among all documents\n",
    "        m1 = m1.mean(axis = 0)\n",
    "        # record mean vector: centroids of each sub cluster\n",
    "        centroid[c] = m1\n",
    "\n",
    "        # max values in mean vector \n",
    "        lst = []\n",
    "        \n",
    "        feature_names = tfidf.get_feature_names() # words \n",
    "\n",
    "        for i in np.argsort(np.asarray(m1)[0])[::-1][:6]:\n",
    "            lst.append(feature_names[i])\n",
    "\n",
    "        labels.append(lst)\n",
    "        \n",
    "    return labels, centroid"
   ]
  },
  {
   "cell_type": "code",
   "execution_count": 42,
   "metadata": {},
   "outputs": [],
   "source": [
    "def silhouette_individ(frameh):\n",
    "    sil_a = dict()\n",
    "    for c in list(frameh.cluster.unique()):\n",
    "        sil_a[c] = dict()\n",
    "        docs_i = list(frameh[frameh.cluster == c].index.unique())\n",
    "        for i in docs_i:\n",
    "            lst = []\n",
    "            for j in docs_i: \n",
    "                if i != j:\n",
    "                    lst.append(np.linalg.norm(m[i].toarray()-m[j].toarray()))\n",
    "            sil_a[c][i] = np.mean(lst)\n",
    "\n",
    "    sil_b = dict()\n",
    "    for c in list(frameh.cluster.unique()):\n",
    "        sil_b[c] = dict()\n",
    "        docs_in = list(frameh[frameh.cluster == c].index.unique())\n",
    "        docs_out = list(frameh[frameh.cluster != c].index.unique())\n",
    "        for i in docs_in:\n",
    "            lst = []\n",
    "            for j in docs_out: \n",
    "                lst.append(np.linalg.norm(m[i].toarray()-m[j].toarray()))\n",
    "            sil_b[c][i] = np.mean(lst)\n",
    "            \n",
    "    return sil_a, sil_b"
   ]
  },
  {
   "cell_type": "code",
   "execution_count": 43,
   "metadata": {},
   "outputs": [],
   "source": [
    "def silhouette_take_avg(sil):\n",
    "    avg = []\n",
    "    for v in sil.values():\n",
    "        avg.append(list(v.values()))\n",
    "    avg = [item for sublist in avg for item in sublist]\n",
    "    avg = [0 if math.isnan(i) else i for i in avg]\n",
    "    avg = np.mean(avg)\n",
    "    \n",
    "    return avg"
   ]
  },
  {
   "cell_type": "code",
   "execution_count": 44,
   "metadata": {},
   "outputs": [],
   "source": [
    "def silhouette_avg(frameh):\n",
    "    sil_a, sil_b = silhouette_individ(frameh)\n",
    "    avga = silhouette_take_avg(sil_a)\n",
    "    avgb = silhouette_take_avg(sil_b)\n",
    "\n",
    "    return (avgb - avga) / max(avgb, avga)"
   ]
  },
  {
   "cell_type": "markdown",
   "metadata": {},
   "source": [
    "distortion is only within cluster but is good because can measure rate of change  \n",
    "silhouette captures within and without cluster"
   ]
  },
  {
   "cell_type": "code",
   "execution_count": 45,
   "metadata": {
    "scrolled": true
   },
   "outputs": [
    {
     "name": "stdout",
     "output_type": "stream",
     "text": [
      "\n",
      "\n",
      "\n",
      "\n",
      "\n",
      "\n",
      "\n",
      "\n",
      "\n",
      "\n",
      "\n",
      "\n",
      "\n",
      "\n",
      "\n",
      "\n",
      "\n",
      "\n",
      "\n",
      "\n",
      "\n",
      "\n",
      "\n",
      "\n",
      "\n",
      "\n",
      "\n",
      "\n",
      "\n",
      "\n",
      "\n",
      "\n",
      "\n",
      "\n",
      "\n",
      "\n",
      "\n",
      "\n",
      "\n",
      "\n",
      "\n",
      "\n",
      "\n",
      "\n"
     ]
    }
   ],
   "source": [
    "# distortion - sum of squared errors between points and its centroid \n",
    "# barely varies with different cluster numbers\n",
    "distortion = dict()\n",
    "silhouette = dict()\n",
    "\n",
    "# min # clusters: want maximum 25 documents per cluster \n",
    "#if len(df_retail) / 3 > 10:\n",
    "#    min_k = 3 \n",
    "#else:\n",
    "#    min_k = 2\n",
    "    \n",
    "for k in range(2, min(math.floor(len(df_retail) / 3), 10)): \n",
    "    # max # clusters: 1/3 of documents as long as get on average 10 docs per. Else limit to 1/2 of documents. \n",
    "    # min # clusters: 2 \n",
    "    f = fcluster(linkage_matrix_e_pca, k, criterion = 'maxclust') ## using euclidean distance \n",
    "    frameh = frame_merge(df_retail, f)\n",
    "    labels, centroid = centroid_label(frameh, pcam, feature_names)\n",
    "    \n",
    "    # calculate silhouette \n",
    "    silhouette[k] = silhouette_avg(frameh)\n",
    "\n",
    "    # calculate distortion\n",
    "    sumd = 0\n",
    "    for i in list(frameh.index.unique()):\n",
    "        c = int(frameh[frameh.index == i].cluster)\n",
    "        sumd += np.linalg.norm(pcam[i]-centroid[c])\n",
    "        \n",
    "    # take average \n",
    "    distortion[k] = sumd"
   ]
  },
  {
   "cell_type": "code",
   "execution_count": 46,
   "metadata": {},
   "outputs": [
    {
     "data": {
      "text/plain": [
       "{2: -0.2602736692573754,\n",
       " 3: 0.005325019290951146,\n",
       " 4: 0.024970938986597146,\n",
       " 5: 0.04113166566670499,\n",
       " 6: 0.04795843876474935,\n",
       " 7: 0.05481809493838913,\n",
       " 8: 0.06366157685663407,\n",
       " 9: 0.06900955485239799}"
      ]
     },
     "execution_count": 46,
     "metadata": {},
     "output_type": "execute_result"
    }
   ],
   "source": [
    "silhouette # mehhhh just increases as number of clusters increases\n",
    "# maybe use for evaluation between topics rather than for selection "
   ]
  },
  {
   "cell_type": "code",
   "execution_count": 47,
   "metadata": {},
   "outputs": [],
   "source": [
    "# relative rate of change \n",
    "roc = []\n",
    "for k,v in distortion.items(): \n",
    "    if k+1 in distortion:\n",
    "        roc.append(abs(distortion[k+1] - distortion[k]) / distortion[k])"
   ]
  },
  {
   "cell_type": "code",
   "execution_count": 82,
   "metadata": {
    "scrolled": false
   },
   "outputs": [
    {
     "name": "stdout",
     "output_type": "stream",
     "text": [
      "1\n",
      "0.008796509638786944\n"
     ]
    }
   ],
   "source": [
    "# find k \n",
    "#for i in range(len(roc)):\n",
    "#    if i == 0:\n",
    "#        continue\n",
    "#    print(i)\n",
    "#    print(abs(roc[i] - roc[i-1]))\n",
    "#    if abs(roc[i] - roc[i-1]) >  .005: # threshold in change of roc -- this threshold might be too tight? \n",
    "                                        # tried roc threshold, but magnitude changes for different topics \n",
    "#        k = i+1 # number of clusters\n",
    "#        break"
   ]
  },
  {
   "cell_type": "code",
   "execution_count": 48,
   "metadata": {},
   "outputs": [],
   "source": [
    "# find k using knee method \n",
    "from kneed import KneeLocator\n",
    "kn = KneeLocator(range(len(roc)), roc, curve='convex', direction='decreasing')\n",
    "k = kn.knee + 1 # index started at 0 "
   ]
  },
  {
   "cell_type": "code",
   "execution_count": 49,
   "metadata": {},
   "outputs": [
    {
     "data": {
      "text/plain": [
       "4"
      ]
     },
     "execution_count": 49,
     "metadata": {},
     "output_type": "execute_result"
    }
   ],
   "source": [
    "k"
   ]
  },
  {
   "cell_type": "code",
   "execution_count": 50,
   "metadata": {},
   "outputs": [
    {
     "data": {
      "text/plain": [
       "<matplotlib.lines.Line2D at 0xccb030>"
      ]
     },
     "execution_count": 50,
     "metadata": {},
     "output_type": "execute_result"
    },
    {
     "data": {
      "image/png": "[encoded data removed]",
      "text/plain": [
       "<Figure size 432x288 with 1 Axes>"
      ]
     },
     "metadata": {
      "needs_background": "light"
     },
     "output_type": "display_data"
    }
   ],
   "source": [
    "# plot distortion\n",
    "fig, ax = plt.subplots()\n",
    "\n",
    "distortion = sorted(distortion.items()) # sorted by key, return a list of tuples\n",
    "x, y = zip(*distortion) # unpack a list of pairs into two tuples\n",
    "ax.plot(x,y)\n",
    "ax.axvline(k, color = 'black')\n"
   ]
  },
  {
   "cell_type": "code",
   "execution_count": 51,
   "metadata": {},
   "outputs": [
    {
     "name": "stdout",
     "output_type": "stream",
     "text": [
      "\n",
      "\n",
      "\n",
      "\n"
     ]
    }
   ],
   "source": [
    "# use this number of clusters to form final clusters\n",
    "f = fcluster(linkage_matrix, k, criterion = 'maxclust')\n",
    "frameh = frame_merge(df_retail, f)\n",
    "labels, centroid = centroid_label(frameh, m, feature_names)"
   ]
  },
  {
   "cell_type": "code",
   "execution_count": 52,
   "metadata": {},
   "outputs": [
    {
     "data": {
      "text/plain": [
       "[['port', 'tonnes', 'dollars', 'cargo', 'union', 'vessel'],\n",
       " ['portland', 'grain', 'loading', 'ships', 'waiting', 'load'],\n",
       " ['gulf', 'iran', 'iranian', 'attack', 'oil', 'kuwait'],\n",
       " ['seamen', 'strike', 'pay', 'national', 'brazilian', 'brazils']]"
      ]
     },
     "execution_count": 52,
     "metadata": {},
     "output_type": "execute_result"
    }
   ],
   "source": [
    "labels"
   ]
  },
  {
   "cell_type": "markdown",
   "metadata": {},
   "source": [
    "__Find Documents at Each Level of Hierarchy__"
   ]
  },
  {
   "cell_type": "code",
   "execution_count": 53,
   "metadata": {},
   "outputs": [],
   "source": [
    "# in linkage matrix, indicate the aggregated node for each node pair\n",
    "links = pd.DataFrame(linkage_matrix_e) # using euclidean \n",
    "links.columns = ['source1', 'source2', 'd', 'n']\n",
    "\n",
    "links['target'] = 0\n",
    "n = 24 \n",
    "for i, row in links.iterrows():\n",
    "    n += 1\n",
    "    links.at[i,'target'] = n"
   ]
  },
  {
   "cell_type": "code",
   "execution_count": 54,
   "metadata": {},
   "outputs": [],
   "source": [
    "# flatten irregular nested lists\n",
    "def flatten(l):\n",
    "    for el in l:\n",
    "        if isinstance(el, collections.Iterable) and not isinstance(el, (str, bytes)):\n",
    "            yield from flatten(el)\n",
    "        else:\n",
    "            yield el"
   ]
  },
  {
   "cell_type": "code",
   "execution_count": 55,
   "metadata": {},
   "outputs": [],
   "source": [
    "def merge_docs(merge, source):\n",
    "    merge = pd.merge(merge, merge[['target', 'docs']], left_on = source, right_on = 'target',  how = 'left')\n",
    "    merge.docs_x = np.where(merge.docs_x.isnull(), '', merge.docs_x)\n",
    "    merge.docs_y = np.where(merge.docs_y.isnull(), '', merge.docs_y)\n",
    "    merge['docs'] = merge[['docs_x', 'docs_y']].values.tolist()\n",
    "    merge = merge.drop(columns = ['docs_x', 'docs_y'])\n",
    "    #merge.docs = merge.docs.apply(np.ravel)\n",
    "    merge = merge.rename(columns = {'target_x':'target'})\n",
    "    merge.docs = list(merge.docs.apply(lambda row: flatten(row)))\n",
    "    merge.docs = merge.docs.apply(lambda row: [i for i in row if i != ''])\n",
    "\n",
    "    return merge"
   ]
  },
  {
   "cell_type": "code",
   "execution_count": 56,
   "metadata": {
    "scrolled": true
   },
   "outputs": [
    {
     "ename": "KeyboardInterrupt",
     "evalue": "",
     "output_type": "error",
     "traceback": [
      "\u001b[1;31m---------------------------------------------------------------------------\u001b[0m",
      "\u001b[1;31mKeyboardInterrupt\u001b[0m                         Traceback (most recent call last)",
      "\u001b[1;32m<ipython-input-56-36f3cc872e88>\u001b[0m in \u001b[0;36m<module>\u001b[1;34m\u001b[0m\n\u001b[0;32m     16\u001b[0m \u001b[1;31m# loop until have one id per document at node (n)\u001b[0m\u001b[1;33m\u001b[0m\u001b[1;33m\u001b[0m\u001b[0m\n\u001b[0;32m     17\u001b[0m \u001b[1;32mwhile\u001b[0m \u001b[0mint\u001b[0m\u001b[1;33m(\u001b[0m\u001b[0mmerge\u001b[0m\u001b[1;33m[\u001b[0m\u001b[0mmerge\u001b[0m\u001b[1;33m.\u001b[0m\u001b[0mtarget\u001b[0m \u001b[1;33m==\u001b[0m \u001b[0mmerge\u001b[0m\u001b[1;33m.\u001b[0m\u001b[0mtarget\u001b[0m\u001b[1;33m.\u001b[0m\u001b[0mmax\u001b[0m\u001b[1;33m(\u001b[0m\u001b[1;33m)\u001b[0m\u001b[1;33m]\u001b[0m\u001b[1;33m.\u001b[0m\u001b[0mlen\u001b[0m\u001b[1;33m)\u001b[0m \u001b[1;33m!=\u001b[0m \u001b[0mint\u001b[0m\u001b[1;33m(\u001b[0m\u001b[0mmerge\u001b[0m\u001b[1;33m[\u001b[0m\u001b[0mmerge\u001b[0m\u001b[1;33m.\u001b[0m\u001b[0mtarget\u001b[0m \u001b[1;33m==\u001b[0m \u001b[0mmerge\u001b[0m\u001b[1;33m.\u001b[0m\u001b[0mtarget\u001b[0m\u001b[1;33m.\u001b[0m\u001b[0mmax\u001b[0m\u001b[1;33m(\u001b[0m\u001b[1;33m)\u001b[0m\u001b[1;33m]\u001b[0m\u001b[1;33m.\u001b[0m\u001b[0mn\u001b[0m\u001b[1;33m)\u001b[0m\u001b[1;33m:\u001b[0m\u001b[1;33m\u001b[0m\u001b[0m\n\u001b[1;32m---> 18\u001b[1;33m     \u001b[0mmerge\u001b[0m \u001b[1;33m=\u001b[0m \u001b[0mmerge_docs\u001b[0m\u001b[1;33m(\u001b[0m\u001b[0mmerge\u001b[0m\u001b[1;33m,\u001b[0m \u001b[1;34m'source1'\u001b[0m\u001b[1;33m)\u001b[0m\u001b[1;33m\u001b[0m\u001b[0m\n\u001b[0m\u001b[0;32m     19\u001b[0m     \u001b[0mmerge\u001b[0m \u001b[1;33m=\u001b[0m \u001b[0mmerge_docs\u001b[0m\u001b[1;33m(\u001b[0m\u001b[0mmerge\u001b[0m\u001b[1;33m,\u001b[0m \u001b[1;34m'source2'\u001b[0m\u001b[1;33m)\u001b[0m\u001b[1;33m\u001b[0m\u001b[0m\n\u001b[0;32m     20\u001b[0m     \u001b[0mmerge\u001b[0m\u001b[1;33m[\u001b[0m\u001b[1;34m'len'\u001b[0m\u001b[1;33m]\u001b[0m \u001b[1;33m=\u001b[0m \u001b[0mmerge\u001b[0m\u001b[1;33m.\u001b[0m\u001b[0mdocs\u001b[0m\u001b[1;33m.\u001b[0m\u001b[0mapply\u001b[0m\u001b[1;33m(\u001b[0m\u001b[1;32mlambda\u001b[0m \u001b[0mrow\u001b[0m\u001b[1;33m:\u001b[0m \u001b[0mlen\u001b[0m\u001b[1;33m(\u001b[0m\u001b[0mset\u001b[0m\u001b[1;33m(\u001b[0m\u001b[0mrow\u001b[0m\u001b[1;33m)\u001b[0m\u001b[1;33m)\u001b[0m\u001b[1;33m)\u001b[0m\u001b[1;33m\u001b[0m\u001b[0m\n",
      "\u001b[1;32m<ipython-input-55-39ced3f4dd0d>\u001b[0m in \u001b[0;36mmerge_docs\u001b[1;34m(merge, source)\u001b[0m\n\u001b[0;32m      8\u001b[0m     \u001b[0mmerge\u001b[0m \u001b[1;33m=\u001b[0m \u001b[0mmerge\u001b[0m\u001b[1;33m.\u001b[0m\u001b[0mrename\u001b[0m\u001b[1;33m(\u001b[0m\u001b[0mcolumns\u001b[0m \u001b[1;33m=\u001b[0m \u001b[1;33m{\u001b[0m\u001b[1;34m'target_x'\u001b[0m\u001b[1;33m:\u001b[0m\u001b[1;34m'target'\u001b[0m\u001b[1;33m}\u001b[0m\u001b[1;33m)\u001b[0m\u001b[1;33m\u001b[0m\u001b[0m\n\u001b[0;32m      9\u001b[0m     \u001b[0mmerge\u001b[0m\u001b[1;33m.\u001b[0m\u001b[0mdocs\u001b[0m \u001b[1;33m=\u001b[0m \u001b[0mlist\u001b[0m\u001b[1;33m(\u001b[0m\u001b[0mmerge\u001b[0m\u001b[1;33m.\u001b[0m\u001b[0mdocs\u001b[0m\u001b[1;33m.\u001b[0m\u001b[0mapply\u001b[0m\u001b[1;33m(\u001b[0m\u001b[1;32mlambda\u001b[0m \u001b[0mrow\u001b[0m\u001b[1;33m:\u001b[0m \u001b[0mflatten\u001b[0m\u001b[1;33m(\u001b[0m\u001b[0mrow\u001b[0m\u001b[1;33m)\u001b[0m\u001b[1;33m)\u001b[0m\u001b[1;33m)\u001b[0m\u001b[1;33m\u001b[0m\u001b[0m\n\u001b[1;32m---> 10\u001b[1;33m     \u001b[0mmerge\u001b[0m\u001b[1;33m.\u001b[0m\u001b[0mdocs\u001b[0m \u001b[1;33m=\u001b[0m \u001b[0mmerge\u001b[0m\u001b[1;33m.\u001b[0m\u001b[0mdocs\u001b[0m\u001b[1;33m.\u001b[0m\u001b[0mapply\u001b[0m\u001b[1;33m(\u001b[0m\u001b[1;32mlambda\u001b[0m \u001b[0mrow\u001b[0m\u001b[1;33m:\u001b[0m \u001b[1;33m[\u001b[0m\u001b[0mi\u001b[0m \u001b[1;32mfor\u001b[0m \u001b[0mi\u001b[0m \u001b[1;32min\u001b[0m \u001b[0mrow\u001b[0m \u001b[1;32mif\u001b[0m \u001b[0mi\u001b[0m \u001b[1;33m!=\u001b[0m \u001b[1;34m''\u001b[0m\u001b[1;33m]\u001b[0m\u001b[1;33m)\u001b[0m\u001b[1;33m\u001b[0m\u001b[0m\n\u001b[0m\u001b[0;32m     11\u001b[0m \u001b[1;33m\u001b[0m\u001b[0m\n\u001b[0;32m     12\u001b[0m     \u001b[1;32mreturn\u001b[0m \u001b[0mmerge\u001b[0m\u001b[1;33m\u001b[0m\u001b[0m\n",
      "\u001b[1;32mc:\\users\\gimli\\appdata\\local\\programs\\python\\python37-32\\lib\\site-packages\\pandas\\core\\series.py\u001b[0m in \u001b[0;36mapply\u001b[1;34m(self, func, convert_dtype, args, **kwds)\u001b[0m\n\u001b[0;32m   3192\u001b[0m             \u001b[1;32melse\u001b[0m\u001b[1;33m:\u001b[0m\u001b[1;33m\u001b[0m\u001b[0m\n\u001b[0;32m   3193\u001b[0m                 \u001b[0mvalues\u001b[0m \u001b[1;33m=\u001b[0m \u001b[0mself\u001b[0m\u001b[1;33m.\u001b[0m\u001b[0mastype\u001b[0m\u001b[1;33m(\u001b[0m\u001b[0mobject\u001b[0m\u001b[1;33m)\u001b[0m\u001b[1;33m.\u001b[0m\u001b[0mvalues\u001b[0m\u001b[1;33m\u001b[0m\u001b[0m\n\u001b[1;32m-> 3194\u001b[1;33m                 \u001b[0mmapped\u001b[0m \u001b[1;33m=\u001b[0m \u001b[0mlib\u001b[0m\u001b[1;33m.\u001b[0m\u001b[0mmap_infer\u001b[0m\u001b[1;33m(\u001b[0m\u001b[0mvalues\u001b[0m\u001b[1;33m,\u001b[0m \u001b[0mf\u001b[0m\u001b[1;33m,\u001b[0m \u001b[0mconvert\u001b[0m\u001b[1;33m=\u001b[0m\u001b[0mconvert_dtype\u001b[0m\u001b[1;33m)\u001b[0m\u001b[1;33m\u001b[0m\u001b[0m\n\u001b[0m\u001b[0;32m   3195\u001b[0m \u001b[1;33m\u001b[0m\u001b[0m\n\u001b[0;32m   3196\u001b[0m         \u001b[1;32mif\u001b[0m \u001b[0mlen\u001b[0m\u001b[1;33m(\u001b[0m\u001b[0mmapped\u001b[0m\u001b[1;33m)\u001b[0m \u001b[1;32mand\u001b[0m \u001b[0misinstance\u001b[0m\u001b[1;33m(\u001b[0m\u001b[0mmapped\u001b[0m\u001b[1;33m[\u001b[0m\u001b[1;36m0\u001b[0m\u001b[1;33m]\u001b[0m\u001b[1;33m,\u001b[0m \u001b[0mSeries\u001b[0m\u001b[1;33m)\u001b[0m\u001b[1;33m:\u001b[0m\u001b[1;33m\u001b[0m\u001b[0m\n",
      "\u001b[1;32mpandas/_libs/src\\inference.pyx\u001b[0m in \u001b[0;36mpandas._libs.lib.map_infer\u001b[1;34m()\u001b[0m\n",
      "\u001b[1;32m<ipython-input-55-39ced3f4dd0d>\u001b[0m in \u001b[0;36m<lambda>\u001b[1;34m(row)\u001b[0m\n\u001b[0;32m      8\u001b[0m     \u001b[0mmerge\u001b[0m \u001b[1;33m=\u001b[0m \u001b[0mmerge\u001b[0m\u001b[1;33m.\u001b[0m\u001b[0mrename\u001b[0m\u001b[1;33m(\u001b[0m\u001b[0mcolumns\u001b[0m \u001b[1;33m=\u001b[0m \u001b[1;33m{\u001b[0m\u001b[1;34m'target_x'\u001b[0m\u001b[1;33m:\u001b[0m\u001b[1;34m'target'\u001b[0m\u001b[1;33m}\u001b[0m\u001b[1;33m)\u001b[0m\u001b[1;33m\u001b[0m\u001b[0m\n\u001b[0;32m      9\u001b[0m     \u001b[0mmerge\u001b[0m\u001b[1;33m.\u001b[0m\u001b[0mdocs\u001b[0m \u001b[1;33m=\u001b[0m \u001b[0mlist\u001b[0m\u001b[1;33m(\u001b[0m\u001b[0mmerge\u001b[0m\u001b[1;33m.\u001b[0m\u001b[0mdocs\u001b[0m\u001b[1;33m.\u001b[0m\u001b[0mapply\u001b[0m\u001b[1;33m(\u001b[0m\u001b[1;32mlambda\u001b[0m \u001b[0mrow\u001b[0m\u001b[1;33m:\u001b[0m \u001b[0mflatten\u001b[0m\u001b[1;33m(\u001b[0m\u001b[0mrow\u001b[0m\u001b[1;33m)\u001b[0m\u001b[1;33m)\u001b[0m\u001b[1;33m)\u001b[0m\u001b[1;33m\u001b[0m\u001b[0m\n\u001b[1;32m---> 10\u001b[1;33m     \u001b[0mmerge\u001b[0m\u001b[1;33m.\u001b[0m\u001b[0mdocs\u001b[0m \u001b[1;33m=\u001b[0m \u001b[0mmerge\u001b[0m\u001b[1;33m.\u001b[0m\u001b[0mdocs\u001b[0m\u001b[1;33m.\u001b[0m\u001b[0mapply\u001b[0m\u001b[1;33m(\u001b[0m\u001b[1;32mlambda\u001b[0m \u001b[0mrow\u001b[0m\u001b[1;33m:\u001b[0m \u001b[1;33m[\u001b[0m\u001b[0mi\u001b[0m \u001b[1;32mfor\u001b[0m \u001b[0mi\u001b[0m \u001b[1;32min\u001b[0m \u001b[0mrow\u001b[0m \u001b[1;32mif\u001b[0m \u001b[0mi\u001b[0m \u001b[1;33m!=\u001b[0m \u001b[1;34m''\u001b[0m\u001b[1;33m]\u001b[0m\u001b[1;33m)\u001b[0m\u001b[1;33m\u001b[0m\u001b[0m\n\u001b[0m\u001b[0;32m     11\u001b[0m \u001b[1;33m\u001b[0m\u001b[0m\n\u001b[0;32m     12\u001b[0m     \u001b[1;32mreturn\u001b[0m \u001b[0mmerge\u001b[0m\u001b[1;33m\u001b[0m\u001b[0m\n",
      "\u001b[1;32m<ipython-input-55-39ced3f4dd0d>\u001b[0m in \u001b[0;36m<listcomp>\u001b[1;34m(.0)\u001b[0m\n\u001b[0;32m      8\u001b[0m     \u001b[0mmerge\u001b[0m \u001b[1;33m=\u001b[0m \u001b[0mmerge\u001b[0m\u001b[1;33m.\u001b[0m\u001b[0mrename\u001b[0m\u001b[1;33m(\u001b[0m\u001b[0mcolumns\u001b[0m \u001b[1;33m=\u001b[0m \u001b[1;33m{\u001b[0m\u001b[1;34m'target_x'\u001b[0m\u001b[1;33m:\u001b[0m\u001b[1;34m'target'\u001b[0m\u001b[1;33m}\u001b[0m\u001b[1;33m)\u001b[0m\u001b[1;33m\u001b[0m\u001b[0m\n\u001b[0;32m      9\u001b[0m     \u001b[0mmerge\u001b[0m\u001b[1;33m.\u001b[0m\u001b[0mdocs\u001b[0m \u001b[1;33m=\u001b[0m \u001b[0mlist\u001b[0m\u001b[1;33m(\u001b[0m\u001b[0mmerge\u001b[0m\u001b[1;33m.\u001b[0m\u001b[0mdocs\u001b[0m\u001b[1;33m.\u001b[0m\u001b[0mapply\u001b[0m\u001b[1;33m(\u001b[0m\u001b[1;32mlambda\u001b[0m \u001b[0mrow\u001b[0m\u001b[1;33m:\u001b[0m \u001b[0mflatten\u001b[0m\u001b[1;33m(\u001b[0m\u001b[0mrow\u001b[0m\u001b[1;33m)\u001b[0m\u001b[1;33m)\u001b[0m\u001b[1;33m)\u001b[0m\u001b[1;33m\u001b[0m\u001b[0m\n\u001b[1;32m---> 10\u001b[1;33m     \u001b[0mmerge\u001b[0m\u001b[1;33m.\u001b[0m\u001b[0mdocs\u001b[0m \u001b[1;33m=\u001b[0m \u001b[0mmerge\u001b[0m\u001b[1;33m.\u001b[0m\u001b[0mdocs\u001b[0m\u001b[1;33m.\u001b[0m\u001b[0mapply\u001b[0m\u001b[1;33m(\u001b[0m\u001b[1;32mlambda\u001b[0m \u001b[0mrow\u001b[0m\u001b[1;33m:\u001b[0m \u001b[1;33m[\u001b[0m\u001b[0mi\u001b[0m \u001b[1;32mfor\u001b[0m \u001b[0mi\u001b[0m \u001b[1;32min\u001b[0m \u001b[0mrow\u001b[0m \u001b[1;32mif\u001b[0m \u001b[0mi\u001b[0m \u001b[1;33m!=\u001b[0m \u001b[1;34m''\u001b[0m\u001b[1;33m]\u001b[0m\u001b[1;33m)\u001b[0m\u001b[1;33m\u001b[0m\u001b[0m\n\u001b[0m\u001b[0;32m     11\u001b[0m \u001b[1;33m\u001b[0m\u001b[0m\n\u001b[0;32m     12\u001b[0m     \u001b[1;32mreturn\u001b[0m \u001b[0mmerge\u001b[0m\u001b[1;33m\u001b[0m\u001b[0m\n",
      "\u001b[1;32m<ipython-input-54-080fc6ac86a6>\u001b[0m in \u001b[0;36mflatten\u001b[1;34m(l)\u001b[0m\n\u001b[0;32m      3\u001b[0m     \u001b[1;32mfor\u001b[0m \u001b[0mel\u001b[0m \u001b[1;32min\u001b[0m \u001b[0ml\u001b[0m\u001b[1;33m:\u001b[0m\u001b[1;33m\u001b[0m\u001b[0m\n\u001b[0;32m      4\u001b[0m         \u001b[1;32mif\u001b[0m \u001b[0misinstance\u001b[0m\u001b[1;33m(\u001b[0m\u001b[0mel\u001b[0m\u001b[1;33m,\u001b[0m \u001b[0mcollections\u001b[0m\u001b[1;33m.\u001b[0m\u001b[0mIterable\u001b[0m\u001b[1;33m)\u001b[0m \u001b[1;32mand\u001b[0m \u001b[1;32mnot\u001b[0m \u001b[0misinstance\u001b[0m\u001b[1;33m(\u001b[0m\u001b[0mel\u001b[0m\u001b[1;33m,\u001b[0m \u001b[1;33m(\u001b[0m\u001b[0mstr\u001b[0m\u001b[1;33m,\u001b[0m \u001b[0mbytes\u001b[0m\u001b[1;33m)\u001b[0m\u001b[1;33m)\u001b[0m\u001b[1;33m:\u001b[0m\u001b[1;33m\u001b[0m\u001b[0m\n\u001b[1;32m----> 5\u001b[1;33m             \u001b[1;32myield\u001b[0m \u001b[1;32mfrom\u001b[0m \u001b[0mflatten\u001b[0m\u001b[1;33m(\u001b[0m\u001b[0mel\u001b[0m\u001b[1;33m)\u001b[0m\u001b[1;33m\u001b[0m\u001b[0m\n\u001b[0m\u001b[0;32m      6\u001b[0m         \u001b[1;32melse\u001b[0m\u001b[1;33m:\u001b[0m\u001b[1;33m\u001b[0m\u001b[0m\n\u001b[0;32m      7\u001b[0m             \u001b[1;32myield\u001b[0m \u001b[0mel\u001b[0m\u001b[1;33m\u001b[0m\u001b[0m\n",
      "\u001b[1;32m<ipython-input-54-080fc6ac86a6>\u001b[0m in \u001b[0;36mflatten\u001b[1;34m(l)\u001b[0m\n\u001b[0;32m      2\u001b[0m \u001b[1;32mdef\u001b[0m \u001b[0mflatten\u001b[0m\u001b[1;33m(\u001b[0m\u001b[0ml\u001b[0m\u001b[1;33m)\u001b[0m\u001b[1;33m:\u001b[0m\u001b[1;33m\u001b[0m\u001b[0m\n\u001b[0;32m      3\u001b[0m     \u001b[1;32mfor\u001b[0m \u001b[0mel\u001b[0m \u001b[1;32min\u001b[0m \u001b[0ml\u001b[0m\u001b[1;33m:\u001b[0m\u001b[1;33m\u001b[0m\u001b[0m\n\u001b[1;32m----> 4\u001b[1;33m         \u001b[1;32mif\u001b[0m \u001b[0misinstance\u001b[0m\u001b[1;33m(\u001b[0m\u001b[0mel\u001b[0m\u001b[1;33m,\u001b[0m \u001b[0mcollections\u001b[0m\u001b[1;33m.\u001b[0m\u001b[0mIterable\u001b[0m\u001b[1;33m)\u001b[0m \u001b[1;32mand\u001b[0m \u001b[1;32mnot\u001b[0m \u001b[0misinstance\u001b[0m\u001b[1;33m(\u001b[0m\u001b[0mel\u001b[0m\u001b[1;33m,\u001b[0m \u001b[1;33m(\u001b[0m\u001b[0mstr\u001b[0m\u001b[1;33m,\u001b[0m \u001b[0mbytes\u001b[0m\u001b[1;33m)\u001b[0m\u001b[1;33m)\u001b[0m\u001b[1;33m:\u001b[0m\u001b[1;33m\u001b[0m\u001b[0m\n\u001b[0m\u001b[0;32m      5\u001b[0m             \u001b[1;32myield\u001b[0m \u001b[1;32mfrom\u001b[0m \u001b[0mflatten\u001b[0m\u001b[1;33m(\u001b[0m\u001b[0mel\u001b[0m\u001b[1;33m)\u001b[0m\u001b[1;33m\u001b[0m\u001b[0m\n\u001b[0;32m      6\u001b[0m         \u001b[1;32melse\u001b[0m\u001b[1;33m:\u001b[0m\u001b[1;33m\u001b[0m\u001b[0m\n",
      "\u001b[1;32mc:\\users\\gimli\\appdata\\local\\programs\\python\\python37-32\\lib\\abc.py\u001b[0m in \u001b[0;36m__instancecheck__\u001b[1;34m(cls, instance)\u001b[0m\n\u001b[0;32m    135\u001b[0m             \u001b[1;32mreturn\u001b[0m \u001b[0m_abc_register\u001b[0m\u001b[1;33m(\u001b[0m\u001b[0mcls\u001b[0m\u001b[1;33m,\u001b[0m \u001b[0msubclass\u001b[0m\u001b[1;33m)\u001b[0m\u001b[1;33m\u001b[0m\u001b[0m\n\u001b[0;32m    136\u001b[0m \u001b[1;33m\u001b[0m\u001b[0m\n\u001b[1;32m--> 137\u001b[1;33m         \u001b[1;32mdef\u001b[0m \u001b[0m__instancecheck__\u001b[0m\u001b[1;33m(\u001b[0m\u001b[0mcls\u001b[0m\u001b[1;33m,\u001b[0m \u001b[0minstance\u001b[0m\u001b[1;33m)\u001b[0m\u001b[1;33m:\u001b[0m\u001b[1;33m\u001b[0m\u001b[0m\n\u001b[0m\u001b[0;32m    138\u001b[0m             \u001b[1;34m\"\"\"Override for isinstance(instance, cls).\"\"\"\u001b[0m\u001b[1;33m\u001b[0m\u001b[0m\n\u001b[0;32m    139\u001b[0m             \u001b[1;32mreturn\u001b[0m \u001b[0m_abc_instancecheck\u001b[0m\u001b[1;33m(\u001b[0m\u001b[0mcls\u001b[0m\u001b[1;33m,\u001b[0m \u001b[0minstance\u001b[0m\u001b[1;33m)\u001b[0m\u001b[1;33m\u001b[0m\u001b[0m\n",
      "\u001b[1;31mKeyboardInterrupt\u001b[0m: "
     ]
    }
   ],
   "source": [
    "# initial merge between frame ids and source1/source2\n",
    "merge = pd.merge(links, frameh[['ids']], left_on = 'source1', right_index = True, how = 'left')\n",
    "merge = pd.merge(merge, frameh[['ids']], left_on = 'source2', right_index = True, how = 'left')\n",
    "# create single docs list column \n",
    "merge = merge.rename(columns = {'ids_x':'docs1', 'ids_y':'docs2'})\n",
    "merge.docs2 = np.where(merge.docs2.isnull(), '', merge.docs2)\n",
    "merge.docs1 = np.where(merge.docs1.isnull(), '', merge.docs1)\n",
    "merge['docs']= merge[['docs1', 'docs2']].values.tolist()\n",
    "merge = merge.drop(columns = ['docs1', 'docs2'])\n",
    "# flattern docs list column\n",
    "merge.docs = merge.docs.apply(lambda row: [i for i in row if i != ''])\n",
    "merge['len'] = merge.docs.apply(lambda row: len(set(row)))\n",
    "\n",
    "merge1 = merge.copy()\n",
    "\n",
    "# loop until have one id per document at node (n)\n",
    "while int(merge[merge.target == merge.target.max()].len) != int(merge[merge.target == merge.target.max()].n): \n",
    "    merge = merge_docs(merge, 'source1')\n",
    "    merge = merge_docs(merge, 'source2')\n",
    "    merge['len'] = merge.docs.apply(lambda row: len(set(row)))\n",
    "    \n",
    "merge.docs = merge.docs.apply(lambda row: set(row))"
   ]
  },
  {
   "cell_type": "code",
   "execution_count": null,
   "metadata": {},
   "outputs": [],
   "source": [
    "# create graph reflecting hierarchy\n",
    "G = nx.DiGraph()\n",
    "G.add_nodes_from(links.source1)\n",
    "G.add_nodes_from(links.source2)\n",
    "G.add_nodes_from(links.target)\n",
    "\n",
    "subset = links[['source1', 'target']]\n",
    "G.add_edges_from([tuple(x) for x in subset.values])\n",
    "subset = links[['source2', 'target']]\n",
    "G.add_edges_from([tuple(x) for x in subset.values])"
   ]
  },
  {
   "cell_type": "code",
   "execution_count": null,
   "metadata": {
    "scrolled": true
   },
   "outputs": [],
   "source": [
    "# add docs to each target node so know which docs exist at each target \n",
    "for i in list(merge.target.unique()):\n",
    "    G.nodes[i]['docs'] = merge[merge.target == i].docs.values[0]\n",
    "    \n",
    "# add docs to origianl nodes as well \n",
    "ogdocs = pd.merge(links, frameh[['ids']], left_on = 'source1', right_index = True, how = 'left')\n",
    "ogdocs = pd.merge(ogdocs, frameh[['ids']], left_on = 'source2', right_index = True, how = 'left')\n",
    "for i in range(25):\n",
    "    if len(ogdocs[ogdocs.source1 == i].ids_x) != 0:\n",
    "        G.nodes[i]['docs'] = ogdocs[ogdocs.source1 == i].ids_x.values[0]\n",
    "    if len(ogdocs[ogdocs.source2 == i].ids_y) != 0:\n",
    "        G.nodes[i]['docs'] = ogdocs[ogdocs.source2 == i].ids_y.values[0]"
   ]
  },
  {
   "cell_type": "code",
   "execution_count": null,
   "metadata": {
    "scrolled": true
   },
   "outputs": [],
   "source": [
    "# labels and centroids for every sub cluster \n",
    "labelsh = []\n",
    "centroidh = []\n",
    "for i in list(range(links.target.max())):\n",
    "    # most common words\n",
    "    if i < 25:\n",
    "        cluster1 = list(frameh[frameh.ids == list(G.nodes[i].values())[0]].index.unique())\n",
    "    else:\n",
    "        cluster1 = list(frameh[frameh.ids.isin(list(list(G.nodes[i].values())[0]))].index.unique())\n",
    "    # find documents cluster\n",
    "    m1 = m[cluster1,:]\n",
    "    # take mean vector among all documents\n",
    "    m1 = m1.mean(axis = 0)\n",
    "    # record mean vector: centroids of each sub cluster\n",
    "    centroidh.append(m1)\n",
    "    \n",
    "    # max values in mean vector: labels\n",
    "    lst = []\n",
    "    for i in np.argsort(np.asarray(m1)[0])[::-1][:3]:\n",
    "        lst.append(feature_names[i])\n",
    "        \n",
    "    labelsh.append(lst)"
   ]
  },
  {
   "cell_type": "code",
   "execution_count": null,
   "metadata": {},
   "outputs": [],
   "source": [
    "# find top level clusters and mark as such - determined by fcluster above \n",
    "nx.set_node_attributes(G, 0, 'cluster')\n",
    "for c in list(frameh.cluster.unique()):\n",
    "    try:\n",
    "        c_ids = set(frameh[frameh.cluster == c].ids.unique())\n",
    "        node = [x for x,y in G.nodes(data=True) if y['docs']==c_ids][0]\n",
    "    except:\n",
    "        c_ids = frameh[frameh.cluster == c].ids.unique()\n",
    "        node = [x for x,y in G.nodes(data=True) if y['docs']==c_ids][0]\n",
    "    G.nodes[node]['cluster'] = c"
   ]
  },
  {
   "cell_type": "code",
   "execution_count": null,
   "metadata": {},
   "outputs": [],
   "source": [
    "# labels for top nodes\n",
    "topnodes = []\n",
    "for c in list(frameh.cluster.unique()):\n",
    "    topnodes.append( [x for x,y in G.nodes(data=True) if y['cluster']==c][0])\n",
    "[labelsh[int(i)] for i in topnodes]"
   ]
  },
  {
   "cell_type": "code",
   "execution_count": null,
   "metadata": {},
   "outputs": [],
   "source": [
    "# centroids for the top leve clusters\n",
    "[centroidh[int(i)] for i in topnodes]"
   ]
  },
  {
   "cell_type": "code",
   "execution_count": null,
   "metadata": {},
   "outputs": [],
   "source": []
  },
  {
   "cell_type": "code",
   "execution_count": 57,
   "metadata": {},
   "outputs": [],
   "source": [
    "# visualization based on distances: x and y coordinates  \n",
    "\n",
    "###### should use tsne or umap in reality \n",
    "\n",
    "MDS()\n",
    "\n",
    "# convert two components as we're plotting points in a two-dimensional plane\n",
    "# \"precomputed\" because we provide a distance matrix\n",
    "# we will also specify `random_state` so the plot is reproducible.\n",
    "mds = MDS(n_components=2, dissimilarity=\"precomputed\", random_state=1)\n",
    "\n",
    "pos = mds.fit_transform(dist_e_pca)  # shape (n_components, n_samples) \n",
    "# trying pca dimensionality reduced \n",
    "\n",
    "xs, ys = pos[:, 0], pos[:, 1]"
   ]
  },
  {
   "cell_type": "code",
   "execution_count": null,
   "metadata": {},
   "outputs": [],
   "source": []
  },
  {
   "cell_type": "code",
   "execution_count": 58,
   "metadata": {
    "scrolled": true
   },
   "outputs": [],
   "source": [
    "df_vis = pd.DataFrame(dict(x = xs, y = ys, cluster = f))\n",
    "df_vis.cluster = df_vis.cluster - 1 # want clusters to start at 0 "
   ]
  },
  {
   "cell_type": "code",
   "execution_count": 60,
   "metadata": {
    "scrolled": false
   },
   "outputs": [
    {
     "name": "stdout",
     "output_type": "stream",
     "text": [
      "0\n",
      "1\n",
      "2\n",
      "3\n"
     ]
    },
    {
     "data": {
      "image/png": "[encoded data removed]",
      "text/plain": [
       "<Figure size 1224x648 with 1 Axes>"
      ]
     },
     "metadata": {
      "needs_background": "light"
     },
     "output_type": "display_data"
    }
   ],
   "source": [
    "fig, ax = plt.subplots(figsize=(17, 9)) \n",
    "\n",
    "groups = df_vis.groupby('cluster')\n",
    "\n",
    "for name, group in groups:\n",
    "    ax.scatter(group.x, group.y, label = labels[name])\n",
    "    ax.legend()\n",
    "    \n",
    "### everything is far apart! curse of dimensionality "
   ]
  },
  {
   "cell_type": "code",
   "execution_count": 63,
   "metadata": {},
   "outputs": [],
   "source": [
    "#  try tsne\n",
    "embed = TSNE(n_components=2).fit_transform(dist_e_pca)\n",
    "xs, ys = embed[:, 0], embed[:, 1]"
   ]
  },
  {
   "cell_type": "code",
   "execution_count": 64,
   "metadata": {},
   "outputs": [
    {
     "data": {
      "image/png": "[encoded data removed]",
      "text/plain": [
       "<Figure size 1224x648 with 1 Axes>"
      ]
     },
     "metadata": {
      "needs_background": "light"
     },
     "output_type": "display_data"
    }
   ],
   "source": [
    "df_vis = pd.DataFrame(dict(x = xs, y = ys, cluster = f))\n",
    "df_vis.cluster = df_vis.cluster - 1 # want clusters to start at 0 \n",
    "\n",
    "fig, ax = plt.subplots(figsize=(17, 9)) \n",
    "\n",
    "groups = df_vis.groupby('cluster')\n",
    "\n",
    "for name, group in groups:\n",
    "    ax.scatter(group.x, group.y, label = labels[name])\n",
    "    ax.legend()\n",
    "    \n",
    "### everything is far apart! curse of dimensionality "
   ]
  },
  {
   "cell_type": "code",
   "execution_count": null,
   "metadata": {},
   "outputs": [],
   "source": []
  },
  {
   "cell_type": "code",
   "execution_count": null,
   "metadata": {},
   "outputs": [],
   "source": []
  },
  {
   "cell_type": "code",
   "execution_count": null,
   "metadata": {},
   "outputs": [],
   "source": []
  },
  {
   "cell_type": "code",
   "execution_count": null,
   "metadata": {},
   "outputs": [],
   "source": []
  },
  {
   "cell_type": "code",
   "execution_count": null,
   "metadata": {},
   "outputs": [],
   "source": []
  },
  {
   "cell_type": "code",
   "execution_count": null,
   "metadata": {},
   "outputs": [],
   "source": []
  },
  {
   "cell_type": "code",
   "execution_count": 89,
   "metadata": {},
   "outputs": [
    {
     "name": "stdout",
     "output_type": "stream",
     "text": [
      "Wall time: 1.12 s\n"
     ]
    }
   ],
   "source": [
    "# kmeans \n",
    "# need to research and mess with paramters \n",
    "from sklearn.cluster import KMeans\n",
    "\n",
    "num_clusters = 3\n",
    "\n",
    "km = KMeans(n_clusters=num_clusters)\n",
    "\n",
    "%time km.fit(m)\n",
    "\n",
    "clusters = km.labels_.tolist()"
   ]
  },
  {
   "cell_type": "code",
   "execution_count": null,
   "metadata": {
    "scrolled": true
   },
   "outputs": [],
   "source": [
    "# merge in with original data via pandas\n",
    "frame = pd.DataFrame(df_retail.index, index = [clusters], columns = ['index_retail'])\n",
    "frame = pd.merge(frame, df_retail, right_index = True, left_on = 'index_retail')\n",
    "frame['cluster'] = frame.index.str[0]\n",
    "frame = frame.reset_index()"
   ]
  },
  {
   "cell_type": "code",
   "execution_count": null,
   "metadata": {},
   "outputs": [],
   "source": [
    "#sort cluster centers by proximity to centroid\n",
    "order_centroids = km.cluster_centers_.argsort()[:, ::-1] \n",
    "order_centroids"
   ]
  },
  {
   "cell_type": "code",
   "execution_count": null,
   "metadata": {
    "scrolled": true
   },
   "outputs": [],
   "source": [
    "frame.cluster.value_counts() # number of documents per cluster \n",
    "\n",
    "## http://brandonrose.org/clustering : more info on finding most common words in cluster, visualizing, hierarchial \n",
    "# also try taking average of tf-idf per cluster and using that way. "
   ]
  },
  {
   "cell_type": "code",
   "execution_count": null,
   "metadata": {
    "scrolled": true
   },
   "outputs": [],
   "source": [
    "# most common words in clusters \n",
    "\n",
    "labels = []\n",
    "for i in range(3):\n",
    "    # most common words\n",
    "    cluster1 = list(frame[frame.cluster == i].index.unique())\n",
    "    # find documents cluster\n",
    "    m1 = m[cluster1,:]\n",
    "    # take mean vector among all documents\n",
    "    m1 = m1.mean(axis = 0)\n",
    "    # max values in mean vector \n",
    "    lst = []\n",
    "\n",
    "    for i in np.argsort(np.asarray(m1)[0])[::-1][:3]:\n",
    "        lst.append(feature_names[i])\n",
    "        \n",
    "    labels.append(lst)"
   ]
  },
  {
   "cell_type": "code",
   "execution_count": null,
   "metadata": {},
   "outputs": [],
   "source": [
    "# visualization based on distances: x and y coordinates  \n",
    "\n",
    "###### should use tsne or umap in reality \n",
    "\n",
    "MDS()\n",
    "\n",
    "# convert two components as we're plotting points in a two-dimensional plane\n",
    "# \"precomputed\" because we provide a distance matrix\n",
    "# we will also specify `random_state` so the plot is reproducible.\n",
    "mds = MDS(n_components=2, dissimilarity=\"precomputed\", random_state=1)\n",
    "\n",
    "pos = mds.fit_transform(dist)  # shape (n_components, n_samples)\n",
    "\n",
    "xs, ys = pos[:, 0], pos[:, 1]"
   ]
  },
  {
   "cell_type": "code",
   "execution_count": null,
   "metadata": {
    "scrolled": true
   },
   "outputs": [],
   "source": [
    "df_vis = pd.DataFrame(dict(x = xs, y = ys, cluster = f))"
   ]
  },
  {
   "cell_type": "code",
   "execution_count": null,
   "metadata": {},
   "outputs": [],
   "source": [
    "cluster_labels = dict()\n",
    "for i in range(len(labels)):\n",
    "    cluster_labels[i] = labels[i]\n",
    "    \n",
    "cluster_colors = {0: '#1b9e77', 1: '#d95f02', 2: '#7570b3'}"
   ]
  },
  {
   "cell_type": "code",
   "execution_count": null,
   "metadata": {
    "scrolled": false
   },
   "outputs": [],
   "source": [
    "fig, ax = plt.subplots(figsize=(17, 9)) \n",
    "\n",
    "groups = df_vis.groupby('cluster')\n",
    "\n",
    "for name, group in groups:\n",
    "    ax.scatter(group.x, group.y, c  = cluster_colors[name], label = cluster_labels[name])\n",
    "    ax.legend()\n",
    "    \n",
    "### everything is far apart!"
   ]
  },
  {
   "cell_type": "code",
   "execution_count": null,
   "metadata": {},
   "outputs": [],
   "source": []
  },
  {
   "cell_type": "code",
   "execution_count": null,
   "metadata": {},
   "outputs": [],
   "source": []
  },
  {
   "cell_type": "code",
   "execution_count": null,
   "metadata": {},
   "outputs": [],
   "source": []
  },
  {
   "cell_type": "markdown",
   "metadata": {},
   "source": [
    "# SVD"
   ]
  },
  {
   "cell_type": "code",
   "execution_count": 9,
   "metadata": {},
   "outputs": [],
   "source": [
    "#svd\n",
    "# try following lingo algorithm as per paper\n",
    "U, S, Vt = np.linalg.svd(m.todense(), full_matrices = False) # full_matrices make dimensions work. Min(M,N) (why necessary??)\n",
    "V = Vt.T\n",
    "#s = np.diag(s)"
   ]
  },
  {
   "cell_type": "code",
   "execution_count": 10,
   "metadata": {},
   "outputs": [],
   "source": [
    "# ROC in variance based on number of singular values included\n",
    "true_var = 0\n",
    "for i in S: \n",
    "    true_var += i**2 \n",
    "    \n",
    "k_var_lst = []\n",
    "k_var = 0\n",
    "for i in S:\n",
    "    k_var += i**2\n",
    "    k_var_lst.append(k_var)\n",
    "    if k_var >= .8*true_var:\n",
    "        k = np.where(S == i)\n",
    "        break "
   ]
  },
  {
   "cell_type": "code",
   "execution_count": 11,
   "metadata": {},
   "outputs": [],
   "source": [
    "# rate of change of variance\n",
    "# retain too much if do 80% (140ish topics)\n",
    "roc = []\n",
    "for k in range(len(k_var_lst)):\n",
    "    if k+1 < len(k_var_lst):\n",
    "        roc.append(abs(k_var_lst[k+1] - k_var_lst[k]) / k_var_lst[k])"
   ]
  },
  {
   "cell_type": "code",
   "execution_count": 12,
   "metadata": {},
   "outputs": [],
   "source": [
    "# knee in variance ROC \n",
    "kn = KneeLocator(range(len(roc)), roc, curve='convex', direction='decreasing')\n",
    "k = kn.knee\n",
    "#https://raghavan.usc.edu//papers/kneedle-simplex11.pdf"
   ]
  },
  {
   "cell_type": "code",
   "execution_count": 13,
   "metadata": {},
   "outputs": [
    {
     "name": "stdout",
     "output_type": "stream",
     "text": [
      "11\n"
     ]
    },
    {
     "data": {
      "image/png": "[encoded data removed]",
      "text/plain": [
       "<Figure size 432x288 with 1 Axes>"
      ]
     },
     "metadata": {
      "needs_background": "light"
     },
     "output_type": "display_data"
    }
   ],
   "source": [
    "fig, ax = plt.subplots()\n",
    "ax.plot(roc)\n",
    "ax.axvline(k, color = 'black')\n",
    "print(k)"
   ]
  },
  {
   "cell_type": "code",
   "execution_count": 14,
   "metadata": {},
   "outputs": [],
   "source": [
    "# zero out non-selected k's\n",
    "S[k:] = 0\n",
    "V = V[:,:k] \n",
    "# V is term to concept. Because no phrases yet, no need to multiple by a term matrix. Currently T = identity "
   ]
  },
  {
   "cell_type": "code",
   "execution_count": 15,
   "metadata": {},
   "outputs": [],
   "source": [
    "# cosines of angles between each concept and phrase vector \n",
    "#P = np.matmul(V.T, m.toarray())  ## wrong. M should be t x (t+p) term/phrase matrix"
   ]
  },
  {
   "cell_type": "code",
   "execution_count": 16,
   "metadata": {},
   "outputs": [],
   "source": [
    "# find maximum 3 term vectors for each column (concept) in V\n",
    "\n",
    "# find top 3 with key = top 1, 2, 3\n",
    "max_w = dict()\n",
    "for i in range(1,4):\n",
    "    max_w[i] = []\n",
    "    for r in range(len(V.T)):\n",
    "        max_w[i].append(np.array(V.T[r])[0].argsort()[-i:][::-1][i-1])\n",
    "        \n",
    "# find top 3 with key = concept\n",
    "max_w3 = dict()\n",
    "for r in range(len(V.T)):\n",
    "    if r in max_w3:\n",
    "        max_w3[r].append(np.array(V.T[r])[0].argsort()[-3:][::-1])\n",
    "    else:\n",
    "        max_w3[r] = [np.array(V.T[r])[0].argsort()[-3:][::-1]]\n",
    "    \n",
    "# label overlap only if use phrases \n",
    "# TO DO: what about phrases? then could just use max "
   ]
  },
  {
   "cell_type": "code",
   "execution_count": 17,
   "metadata": {},
   "outputs": [],
   "source": [
    "# find corresponding words -> labels \n",
    "labels = dict()\n",
    "for k,v in max_w3.items():\n",
    "    labels[k] = []\n",
    "    for w in v[0]:\n",
    "        labels[k].append(feature_names[w])"
   ]
  },
  {
   "cell_type": "code",
   "execution_count": 18,
   "metadata": {},
   "outputs": [],
   "source": [
    "# term-concept label matrix \n",
    "# term-term matrix is identity because currently no phrases. \n",
    "\n",
    "# compute for each of the top 3 words \n",
    "# assign to cluster if any of those words exist in the document \n",
    "Q1 = np.identity(len(feature_names))[:,max_w[1]]\n",
    "Q2 = np.identity(len(feature_names))[:,max_w[2]]\n",
    "Q3 = np.identity(len(feature_names))[:,max_w[3]]\n",
    "\n",
    "# cij = strength of membership of jth document to ith concept \n",
    "C1 = np.matmul(Q1.T, m.T.toarray())\n",
    "C2 = np.matmul(Q2.T, m.T.toarray())\n",
    "C3 = np.matmul(Q3.T, m.T.toarray())"
   ]
  },
  {
   "cell_type": "code",
   "execution_count": 19,
   "metadata": {
    "scrolled": true
   },
   "outputs": [],
   "source": [
    "# choose documents for each cluster with strength > 0 aka exists in document\n",
    "# any of the top 3 words in the cluster \n",
    "docs = dict()\n",
    "for r in range(len(C1)):\n",
    "    docs[r] = []\n",
    "    for c in range(len(C1[r])): \n",
    "        if C1[r][c] > 0 or C2[r][c] > 0 or C3[r][c] > 0: # threshold \n",
    "            docs[r].append(c)\n",
    "            \n",
    "# documents can be in multiple clusters \n",
    "# documents can be in no clusters \n",
    "\n",
    "# drop clusters with only 1 document in it \n",
    "del_lst = []\n",
    "for k,v in docs.items():\n",
    "    if len(v) == 1:\n",
    "        del_lst.append(k)\n",
    "for i in del_lst:\n",
    "    del docs[i]"
   ]
  },
  {
   "cell_type": "code",
   "execution_count": 20,
   "metadata": {
    "scrolled": true
   },
   "outputs": [],
   "source": [
    "# create dataframe that indicates which documents belong to which cluster and labels. List of clusters. \n",
    "framesvd = df_retail\n",
    "#framesvd['label'] = ''\n",
    "framesvd['cluster'] = ''\n",
    "for k,v in docs.items():\n",
    "    for d in v: \n",
    "        framesvd.cluster = np.where(framesvd.index == d, framesvd.cluster + str(k) + ',', framesvd.cluster)\n",
    "        #framesvd.label = np.where(framesvd.index == d, str(labels[k]), framesvd.label)\n",
    "                # this only gets one of th clusters in the list. not all of them. \n",
    "        \n",
    "framesvd.cluster = framesvd.cluster.str.split(',')\n",
    "framesvd.cluster = framesvd.cluster.apply(lambda row: [i for i in row if i != ''])"
   ]
  },
  {
   "cell_type": "code",
   "execution_count": 21,
   "metadata": {},
   "outputs": [
    {
     "data": {
      "text/plain": [
       "0.2692307692307692"
      ]
     },
     "execution_count": 21,
     "metadata": {},
     "output_type": "execute_result"
    }
   ],
   "source": [
    "# percent of documents with no cluster\n",
    "framesvd['len']= framesvd.cluster.apply(lambda row: len(row))\n",
    "len(framesvd[framesvd.len == 0]) / len(framesvd)"
   ]
  },
  {
   "cell_type": "code",
   "execution_count": 25,
   "metadata": {},
   "outputs": [],
   "source": []
  },
  {
   "cell_type": "code",
   "execution_count": 37,
   "metadata": {},
   "outputs": [
    {
     "name": "stderr",
     "output_type": "stream",
     "text": [
      "c:\\users\\gimli\\appdata\\local\\programs\\python\\python37-32\\lib\\site-packages\\ipykernel_launcher.py:8: SettingWithCopyWarning: \n",
      "A value is trying to be set on a copy of a slice from a DataFrame.\n",
      "Try using .loc[row_indexer,col_indexer] = value instead\n",
      "\n",
      "See the caveats in the documentation: http://pandas.pydata.org/pandas-docs/stable/indexing.html#indexing-view-versus-copy\n",
      "  \n"
     ]
    }
   ],
   "source": [
    "# visualization based on distances: x and y coordinates  \n",
    "\n",
    "###### should use tsne or umap in reality \n",
    "\n",
    "# only use if belong to cluster\n",
    "# look at first cluster in list. don't know how to deal with multiple clusters via visualization\n",
    "framesvd_clust = framesvd[framesvd.len != 0]\n",
    "framesvd_clust['first_cluster'] = framesvd_clust.cluster.apply(lambda row: row[0])\n",
    "clusters = framesvd_clust.first_cluster.tolist()\n",
    "\n",
    "MDS()\n",
    "\n",
    "# convert two components as we're plotting points in a two-dimensional plane\n",
    "# \"precomputed\" because we provide a distance matrix\n",
    "# we will also specify `random_state` so the plot is reproducible.\n",
    "mds = MDS(n_components=2, dissimilarity=\"precomputed\", random_state=1)\n",
    "\n",
    "# distance only with documents that have a cluster\n",
    "dist_e_svd = euclidean_distances(m[framesvd_clust.index.tolist(),:])  \n",
    "pos = mds.fit_transform(dist_e_svd)  # shape (n_components, n_samples) \n",
    "\n",
    "xs, ys = pos[:, 0], pos[:, 1]"
   ]
  },
  {
   "cell_type": "code",
   "execution_count": 38,
   "metadata": {
    "scrolled": false
   },
   "outputs": [
    {
     "name": "stdout",
     "output_type": "stream",
     "text": [
      "1\n",
      "2\n",
      "3\n",
      "4\n",
      "5\n",
      "6\n",
      "7\n",
      "8\n",
      "9\n"
     ]
    },
    {
     "data": {
      "image/png": "[encoded data removed]",
      "text/plain": [
       "<Figure size 1224x648 with 1 Axes>"
      ]
     },
     "metadata": {
      "needs_background": "light"
     },
     "output_type": "display_data"
    }
   ],
   "source": [
    "fig, ax = plt.subplots(figsize=(17, 9)) \n",
    "\n",
    "df_vis = pd.DataFrame(dict(x = xs, y = ys, cluster = clusters))\n",
    "groups = df_vis.groupby('cluster')\n",
    "\n",
    "for name, group in groups:\n",
    "    print(name)\n",
    "    ax.scatter(group.x, group.y, label = labels[int(name)-1])\n",
    "    ax.legend()"
   ]
  },
  {
   "cell_type": "code",
   "execution_count": 35,
   "metadata": {},
   "outputs": [],
   "source": [
    "#  try tsne\n",
    "embed = TSNE(n_components=2).fit_transform(dist_e_svd)\n",
    "xs, ys = embed[:, 0], embed[:, 1]"
   ]
  },
  {
   "cell_type": "code",
   "execution_count": 36,
   "metadata": {},
   "outputs": [
    {
     "name": "stdout",
     "output_type": "stream",
     "text": [
      "1\n",
      "2\n",
      "3\n",
      "4\n",
      "5\n",
      "6\n",
      "7\n",
      "8\n",
      "9\n"
     ]
    },
    {
     "data": {
      "image/png": "[encoded data removed]",
      "text/plain": [
       "<Figure size 1224x648 with 1 Axes>"
      ]
     },
     "metadata": {
      "needs_background": "light"
     },
     "output_type": "display_data"
    }
   ],
   "source": [
    "fig, ax = plt.subplots(figsize=(17, 9)) \n",
    "\n",
    "df_vis = pd.DataFrame(dict(x = xs, y = ys, cluster = clusters))\n",
    "groups = df_vis.groupby('cluster')\n",
    "\n",
    "for name, group in groups:\n",
    "    print(name)\n",
    "    ax.scatter(group.x, group.y, label = labels[int(name)-1])\n",
    "    ax.legend()"
   ]
  },
  {
   "cell_type": "code",
   "execution_count": null,
   "metadata": {},
   "outputs": [],
   "source": []
  },
  {
   "cell_type": "code",
   "execution_count": null,
   "metadata": {},
   "outputs": [],
   "source": []
  },
  {
   "cell_type": "code",
   "execution_count": 6,
   "metadata": {},
   "outputs": [],
   "source": [
    "# get unique list of topics (categories)\n",
    "topics = list(df.categories)\n",
    "topics = [item for sublist in topics for item in sublist]\n",
    "topics = set(topics)\n",
    "\n",
    "\n",
    "df[df.categories.map(set(['earn']).issubset)]\n",
    "\n",
    "df['len'] = df.text.apply(lambda row: len(row))\n"
   ]
  }
 ],
 "metadata": {
  "kernelspec": {
   "display_name": "Python 3",
   "language": "python",
   "name": "python3"
  },
  "language_info": {
   "codemirror_mode": {
    "name": "ipython",
    "version": 3
   },
   "file_extension": ".py",
   "mimetype": "text/x-python",
   "name": "python",
   "nbconvert_exporter": "python",
   "pygments_lexer": "ipython3",
   "version": "3.7.0"
  }
 },
 "nbformat": 4,
 "nbformat_minor": 2
}
