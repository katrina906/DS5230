{
 "cells": [
  {
   "cell_type": "markdown",
   "metadata": {},
   "source": [
    "TO DO:\n",
    "- Analyze sub clusters and look at their performance \n",
    "- Change metric when calculating clusters (currently ward) \n",
    "- Change linkage metric when calculating \n",
    "- Check with professor that euclidean makes sense because tf-idf is normalized    \n",
    "- Try correlation as evaluation metric (correlation between incidence and distance matrix) \n",
    "    \n",
    "TO DO in general:\n",
    "- score and rank clusters \n",
    "- metrics to compare clusters for two methods\n",
    "- Visualization with tsne or umap rather than mds -- tsne works. can't get umap to install.   "
    
    "High run time, but argue ok because small subset of documents clustering within"  
   ]
  },
  {
   "cell_type": "code",
   "execution_count": 1,
   "metadata": {},
   "outputs": [
    {
     "name": "stderr",
     "output_type": "stream",
     "text": [
      "[nltk_data] Downloading package stopwords to\n",
      "[nltk_data]     C:\\Users\\Gimli\\AppData\\Roaming\\nltk_data...\n",
      "[nltk_data]   Package stopwords is already up-to-date!\n"
     ]
    }
   ],
   "source": [
    "import nltk\n",
    "from nltk.corpus import reuters\n",
    "import re\n",
    "import numpy as np\n",
    "import pandas as pd\n",
    "from gensim.models import TfidfModel\n",
    "from gensim.corpora import Dictionary\n",
    "import string\n",
    "from nltk.corpus import stopwords\n",
    "nltk.download('stopwords')\n",
    "from sklearn.feature_extraction.text import TfidfVectorizer\n",
    "from nltk.stem.porter import PorterStemmer\n",
    "from sklearn.cluster import AgglomerativeClustering\n",
    "import matplotlib.pyplot as plt\n",
    "from sklearn.manifold import MDS\n",
    "import sklearn\n",
    "from scipy.cluster.hierarchy import dendrogram, linkage, ward, fcluster\n",
    "import networkx as nx\n",
    "import collections\n",
    "import math\n",
    "import operator\n",
    "from sklearn.metrics.pairwise import cosine_similarity, euclidean_distances\n",
    "from sklearn.decomposition import PCA\n",
    "from kneed import KneeLocator\n",
    "from sklearn.manifold import TSNE\n",
    "import scipy.spatial.distance"
   ]
  },
  {
   "cell_type": "markdown",
   "metadata": {},
   "source": [
    "## Hierarchial Clustering"
   ]
  },
  {
   "cell_type": "markdown",
   "metadata": {},
   "source": [
    "### Tf-Idf Matrix"
   ]
  },
  {
   "cell_type": "code",
   "execution_count": 2,
   "metadata": {},
   "outputs": [],
   "source": [
    "def tf_idf(df):\n",
    "    # tfidf. stop word removal. word tokenizer. \n",
    "    tfidf = TfidfVectorizer(stop_words = 'english', analyzer = 'word')\n",
    "    m = tfidf.fit_transform(df['text'])\n",
    "    \n",
    "    feature_names = tfidf.get_feature_names() # words \n",
    "\n",
    "    return m, feature_names"
   ]
  },
  {
   "cell_type": "markdown",
   "metadata": {},
   "source": [
    "### Remove Search from TF-IDF Matrix"
   ]
  },
  {
   "cell_type": "code",
   "execution_count": 3,
   "metadata": {},
   "outputs": [],
   "source": [
    "def remove_search(tfidf, feature_names, search):\n",
    "    try: # sometimes search already removed (stop word)\n",
    "        # remove search from the tfidf matrix: do not want as a label or clustering factor\n",
    "        search_index = feature_names.index(search)\n",
    "        cols = list(range(0,len(feature_names)))\n",
    "        del cols[cols.index(search_index)]\n",
    "        tfidf = tfidf[:,cols]\n",
    "        del feature_names[search_index]\n",
    "    except ValueError: \n",
    "        pass\n",
    "    except:\n",
    "        raise 'unknown error'\n",
    "    \n",
    "    return tfidf, feature_names"
   ]
  },
  {
   "cell_type": "markdown",
   "metadata": {},
   "source": [
    "### Distance Matrix"
   ]
  },
  {
   "cell_type": "code",
   "execution_count": 4,
   "metadata": {},
   "outputs": [],
   "source": [
    "def dist_calculate(m):\n",
    "    dist = euclidean_distances(m)  ## I think its ok to use euclidean because tf-idf normalizes\n",
    "    flat_dist = scipy.spatial.distance.pdist(m, 'euclidean') # needed for linkage function\n",
    "    # euclidean can be innaccurate if documents are different lengths such that vectors are different lengths \n",
    "    # I would prefer to use euclidean because then more sensicl to calculate centroids\n",
    "    # ask professor?? \n",
    "    return dist, flat_dist"
   ]
  },
  {
   "cell_type": "markdown",
   "metadata": {},
   "source": [
    "### PCA Dimensionality Reduction"
   ]
  },
  {
   "cell_type": "code",
   "execution_count": 5,
   "metadata": {},
   "outputs": [],
   "source": [
    "def pca_reduce(m):\n",
    "    pca = PCA(n_components = 0.8) # keep 95% of variance \n",
    "    pcam = pca.fit_transform(m.toarray())\n",
    "\n",
    "    return pcam"
   ]
  },
  {
   "cell_type": "markdown",
   "metadata": {},
   "source": [
    "### Linkage Matrix"
   ]
  },
  {
   "cell_type": "code",
   "execution_count": 6,
   "metadata": {
    "scrolled": true
   },
   "outputs": [],
   "source": [
    "def linkage_calculate(dist):\n",
    "    linkage_matrix = linkage(dist, method = 'ward') \n",
    "    return linkage_matrix\n",
    "    \n",
    "# plot dendogram\n",
    "#fig, ax = plt.subplots(figsize=(15, 20))\n",
    "#ax = dendrogram(linkage_matrix, orientation=\"right\", labels = df_retail.ids.unique())"
   ]
  },
  {
   "cell_type": "markdown",
   "metadata": {},
   "source": [
    "### Choose K and Create Clusters"
   ]
  },
  {
   "cell_type": "code",
   "execution_count": 7,
   "metadata": {},
   "outputs": [],
   "source": [
    "def frame_merge(df, f):\n",
    "    # merge in with original data via pandas\n",
    "    frameh = pd.DataFrame(df.index, index = [f], columns = ['index_search'])\n",
    "    frameh = pd.merge(frameh, df, right_index = True, left_on = 'index_search')\n",
    "    frameh['cluster'] = frameh.index.str[0]\n",
    "    frameh = frameh.reset_index()\n",
    "    return frameh"
   ]
  },
  {
   "cell_type": "markdown",
   "metadata": {},
   "source": [
    "__Find Cluster Centroids and Cluster Labels__"
   ]
  },
  {
   "cell_type": "code",
   "execution_count": 8,
   "metadata": {},
   "outputs": [],
   "source": [
    "def centroid_label(frameh, m_pca, m, feature_names, search):\n",
    "    # most common words in clusters (based on tf-idf not just frequency)\n",
    "    centroid = dict()\n",
    "    labels = []\n",
    "    for c in list(frameh.cluster.unique()):\n",
    "        ## centroid ## \n",
    "        cluster1 = list(frameh[frameh.cluster == c].index.unique())\n",
    "        # find documents cluster\n",
    "        m1_pca = m_pca[cluster1,:]\n",
    "        # take mean vector among all documents\n",
    "        m1_pca = m1_pca.mean(axis = 0)\n",
    "        # record mean vector: centroids of each sub cluster\n",
    "        centroid[c] = m1_pca\n",
    "\n",
    "        ## labels ##\n",
    "        # redo mean vector with non-reduced tfidf matrix \n",
    "        m1 = m[cluster1,:]\n",
    "        # take mean vector among all documents\n",
    "        m1 = m1.mean(axis = 0)\n",
    "        \n",
    "        # max values in mean vector \n",
    "        lst = []\n",
    "\n",
    "        for i in np.argsort(np.asarray(m1)[0])[::-1][:6]:\n",
    "            if feature_names[i] == search: # don't record as label if it is the search\n",
    "                continue\n",
    "            lst.append(feature_names[i])\n",
    "            \n",
    "        labels.append(lst)\n",
    "        \n",
    "    return labels, centroid"
   ]
  },
  {
   "cell_type": "markdown",
   "metadata": {},
   "source": [
    "__Calculate Silhouette__"
   ]
  },
  {
   "cell_type": "code",
   "execution_count": 9,
   "metadata": {},
   "outputs": [],
   "source": [
    "def silhouette_individ(frameh, m):\n",
    "    sil_a = dict()\n",
    "    for c in list(frameh.cluster.unique()):\n",
    "        sil_a[c] = dict()\n",
    "        docs_i = list(frameh[frameh.cluster == c].index.unique())\n",
    "        for i in docs_i:\n",
    "            lst = []\n",
    "            for j in docs_i: \n",
    "                if i != j:\n",
    "                    if type(m) == np.ndarray: # if pca reduced, then ndarray instead of matrix\n",
    "                        lst.append(np.linalg.norm(m[i]-m[j]))\n",
    "                    else:\n",
    "                        lst.append(np.linalg.norm(m[i].toarray()-m[j].toarray()))\n",
    "            sil_a[c][i] = np.mean(lst)\n",
    "\n",
    "    sil_b = dict()\n",
    "    for c in list(frameh.cluster.unique()):\n",
    "        sil_b[c] = dict()\n",
    "        docs_in = list(frameh[frameh.cluster == c].index.unique())\n",
    "        docs_out = list(frameh[frameh.cluster != c].index.unique())\n",
    "        for i in docs_in:\n",
    "            lst = []\n",
    "            for j in docs_out: \n",
    "                if type(m) == np.ndarray:\n",
    "                    lst.append(np.linalg.norm(m[i]-m[j]))\n",
    "                else:\n",
    "                    lst.append(np.linalg.norm(m[i].toarray()-m[j].toarray()))\n",
    "            sil_b[c][i] = np.mean(lst)\n",
    "            \n",
    "    return sil_a, sil_b"
   ]
  },
  {
   "cell_type": "code",
   "execution_count": 10,
   "metadata": {},
   "outputs": [],
   "source": [
    "def silhouette_take_avg(sil):\n",
    "    avg = []\n",
    "    for v in sil.values():\n",
    "        avg.append(list(v.values()))\n",
    "    avg = [item for sublist in avg for item in sublist]\n",
    "    avg = [0 if math.isnan(i) else i for i in avg]\n",
    "    avg = np.mean(avg)\n",
    "    \n",
    "    return avg"
   ]
  },
  {
   "cell_type": "code",
   "execution_count": 11,
   "metadata": {},
   "outputs": [],
   "source": [
    "def silhouette_avg(frameh, m):\n",
    "    sil_a, sil_b = silhouette_individ(frameh, m)\n",
    "    avga = silhouette_take_avg(sil_a)\n",
    "    avgb = silhouette_take_avg(sil_b)\n",
    "\n",
    "    return (avgb - avga) / max(avgb, avga)"
   ]
  },
  {
   "cell_type": "markdown",
   "metadata": {},
   "source": [
    "__Clustering__"
   ]
  },
  {
   "cell_type": "code",
   "execution_count": 12,
   "metadata": {},
   "outputs": [],
   "source": [
    "def find_clusters(k, linkage_matrix, m_pca, m, df, feature_names, search):\n",
    "    f = fcluster(linkage_matrix, k, criterion = 'maxclust')\n",
    "    frameh = frame_merge(df, f)\n",
    "    labels, centroid = centroid_label(frameh, m_pca, m, feature_names, search)\n",
    "\n",
    "    return frameh, labels, centroid"
   ]
  },
  {
   "cell_type": "markdown",
   "metadata": {},
   "source": [
    "__Calculate Distortion__"
   ]
  },
  {
   "cell_type": "code",
   "execution_count": 13,
   "metadata": {},
   "outputs": [],
   "source": [
    "def distortion_calculate(m, centroid, frameh):\n",
    "    sumd = 0\n",
    "    for i in list(frameh.index.unique()):\n",
    "        c = int(frameh[frameh.index == i].cluster)\n",
    "        sumd += np.linalg.norm(m[i]-centroid[c])\n",
    "        \n",
    "    return sumd"
   ]
  },
  {
   "cell_type": "markdown",
   "metadata": {},
   "source": [
    "__Calculate Distortion, Silhouette at various k values__"
   ]
  },
  {
   "cell_type": "code",
   "execution_count": 14,
   "metadata": {
    "scrolled": true
   },
   "outputs": [],
   "source": [
    "def distortion_silhouette(linkage_matrix, m_pca, m, df, feature_names, search):\n",
    "    # distortion - sum of squared errors between points and its centroid \n",
    "    # barely varies with different cluster numbers\n",
    "    distortion = dict()\n",
    "    silhouette = dict()\n",
    "\n",
    "    for k in range(2, min(math.floor(len(df) / 3), 10)): \n",
    "        # max # clusters: 1/3 of documents as long as get on average 10 docs per. Else limit to 1/2 of documents. \n",
    "        # min # clusters: 2 \n",
    "        frameh, labels, centroid = find_clusters(k, linkage_matrix, m_pca, m, df, feature_names, search)\n",
    "\n",
    "        # calculate silhouette \n",
    "        silhouette[k] = silhouette_avg(frameh, m_pca)\n",
    "\n",
    "        # calculate distortion\n",
    "        sumd = distortion_calculate(m_pca, centroid, frameh)\n",
    "        # take average \n",
    "        distortion[k] = sumd\n",
    "        \n",
    "    return distortion, silhouette"
   ]
  },
  {
   "cell_type": "code",
   "execution_count": 15,
   "metadata": {},
   "outputs": [],
   "source": [
    "def distortion_roc(distortion):\n",
    "    # relative rate of change \n",
    "    roc = []\n",
    "    for k,v in distortion.items(): \n",
    "        if k+1 in distortion:\n",
    "            roc.append(abs(distortion[k+1] - distortion[k]) / distortion[k])\n",
    "            \n",
    "    return roc"
   ]
  },
  {
   "cell_type": "markdown",
   "metadata": {},
   "source": [
    "__Find K Based on Distortion ROC Elbow__"
   ]
  },
  {
   "cell_type": "code",
   "execution_count": 16,
   "metadata": {},
   "outputs": [],
   "source": [
    "def find_k(roc):\n",
    "    # find k using knee method \n",
    "    from kneed import KneeLocator\n",
    "    kn = KneeLocator(range(len(roc)), roc, curve='convex', direction='decreasing')\n",
    "    k = kn.knee + 1 # index started at 0 \n",
    "    \n",
    "    return k "
   ]
  },
  {
   "cell_type": "code",
   "execution_count": 17,
   "metadata": {},
   "outputs": [],
   "source": [
    "# plot distortion\n",
    "#fig, ax = plt.subplots()\n",
    "\n",
    "#distortion = sorted(distortion.items()) # sorted by key, return a list of tuples\n",
    "#x, y = zip(*distortion) # unpack a list of pairs into two tuples\n",
    "#ax.plot(x,y)\n",
    "#ax.axvline(k, color = 'black')"
   ]
  },
  {
   "cell_type": "markdown",
   "metadata": {},
   "source": [
    "### Hierarchy: Sub-Clusters"
   ]
  },
  {
   "cell_type": "markdown",
   "metadata": {},
   "source": [
    "__Linkage Matrix: Understand Node Linkages__"
   ]
  },
  {
   "cell_type": "code",
   "execution_count": 18,
   "metadata": {},
   "outputs": [],
   "source": [
    "def linkage_df(linkage_matrix):\n",
    "    # in linkage matrix, indicate the aggregated node for each node pair\n",
    "    links = pd.DataFrame(linkage_matrix) # using euclidean \n",
    "    links.columns = ['source1', 'source2', 'd', 'n']\n",
    "\n",
    "    links['target'] = 0\n",
    "    n = 24 \n",
    "    for i, row in links.iterrows():\n",
    "        n += 1\n",
    "        links.at[i,'target'] = n\n",
    "        \n",
    "    return links"
   ]
  },
  {
   "cell_type": "code",
   "execution_count": 19,
   "metadata": {},
   "outputs": [],
   "source": [
    "# flatten irregular nested lists\n",
    "def flatten(l):\n",
    "    for el in l:\n",
    "        if isinstance(el, collections.Iterable) and not isinstance(el, (str, bytes)):\n",
    "            yield from flatten(el)\n",
    "        else:\n",
    "            yield el"
   ]
  },
  {
   "cell_type": "markdown",
   "metadata": {},
   "source": [
    "__Find Documents at Various Sub-Clusters__"
   ]
  },
  {
   "cell_type": "code",
   "execution_count": 20,
   "metadata": {},
   "outputs": [],
   "source": [
    "def merge_docs(merge, source):\n",
    "    merge = pd.merge(merge, merge[['target', 'docs']], left_on = source, right_on = 'target',  how = 'left')\n",
    "    merge.docs_x = np.where(merge.docs_x.isnull(), '', merge.docs_x)\n",
    "    merge.docs_y = np.where(merge.docs_y.isnull(), '', merge.docs_y)\n",
    "    merge['docs'] = merge[['docs_x', 'docs_y']].values.tolist()\n",
    "    merge = merge.drop(columns = ['docs_x', 'docs_y'])\n",
    "    #merge.docs = merge.docs.apply(np.ravel)\n",
    "    merge = merge.rename(columns = {'target_x':'target'})\n",
    "    merge.docs = list(merge.docs.apply(lambda row: flatten(row)))\n",
    "    merge.docs = merge.docs.apply(lambda row: [i for i in row if i != ''])\n",
    "\n",
    "    return merge"
   ]
  },
  {
   "cell_type": "code",
   "execution_count": 21,
   "metadata": {
    "scrolled": true
   },
   "outputs": [],
   "source": [
    "def assign_docs(frameh, links):\n",
    "    # initial merge between frame ids and source1/source2\n",
    "    merge = pd.merge(links, frameh[['ids']], left_on = 'source1', right_index = True, how = 'left')\n",
    "    merge = pd.merge(merge, frameh[['ids']], left_on = 'source2', right_index = True, how = 'left')\n",
    "    # create single docs list column \n",
    "    merge = merge.rename(columns = {'ids_x':'docs1', 'ids_y':'docs2'})\n",
    "    merge.docs2 = np.where(merge.docs2.isnull(), '', merge.docs2)\n",
    "    merge.docs1 = np.where(merge.docs1.isnull(), '', merge.docs1)\n",
    "    merge['docs']= merge[['docs1', 'docs2']].values.tolist()\n",
    "    merge = merge.drop(columns = ['docs1', 'docs2'])\n",
    "    # flattern docs list column\n",
    "    merge.docs = merge.docs.apply(lambda row: [i for i in row if i != ''])\n",
    "    merge['len'] = merge.docs.apply(lambda row: len(set(row)))\n",
    "\n",
    "    # loop until have one id per document at node (n)\n",
    "    while int(merge[merge.target == merge.target.max()].len) != int(merge[merge.target == merge.target.max()].n): \n",
    "        print(merge[merge.target == merge.target.max()].len)\n",
    "        merge = merge_docs(merge, 'source1')\n",
    "        merge = merge_docs(merge, 'source2')\n",
    "        merge['len'] = merge.docs.apply(lambda row: len(set(row)))\n",
    "        \n",
    "        merge = merge.drop(columns = ['target_y'])\n",
    "\n",
    "    merge.docs = merge.docs.apply(lambda row: set(row))\n",
    "    \n",
    "    return merge "
   ]
  },
  {
   "cell_type": "markdown",
   "metadata": {},
   "source": [
    "__Assign Graph Attributes: Docs__"
   ]
  },
  {
   "cell_type": "code",
   "execution_count": 22,
   "metadata": {
    "scrolled": true
   },
   "outputs": [],
   "source": [
    "def attributes(G, merge):\n",
    "    # add docs to each target node so know which docs exist at each target \n",
    "    for i in list(merge.target.unique()):\n",
    "        G.nodes[i]['docs'] = merge[merge.target == i].docs.values[0]\n",
    "\n",
    "    # add docs to origianl nodes as well \n",
    "    ogdocs = pd.merge(links, frameh[['ids']], left_on = 'source1', right_index = True, how = 'left')\n",
    "    ogdocs = pd.merge(ogdocs, frameh[['ids']], left_on = 'source2', right_index = True, how = 'left')\n",
    "    for i in range(25):\n",
    "        if len(ogdocs[ogdocs.source1 == i].ids_x) != 0:\n",
    "            G.nodes[i]['docs'] = ogdocs[ogdocs.source1 == i].ids_x.values[0]\n",
    "        if len(ogdocs[ogdocs.source2 == i].ids_y) != 0:\n",
    "            G.nodes[i]['docs'] = ogdocs[ogdocs.source2 == i].ids_y.values[0]\n",
    "            \n",
    "    return G"
   ]
  },
  {
   "cell_type": "markdown",
   "metadata": {},
   "source": [
    "__Mark Top Level Clusters__"
   ]
  },
  {
   "cell_type": "code",
   "execution_count": 23,
   "metadata": {},
   "outputs": [],
   "source": [
    "def top_cluster(G, frameh):\n",
    "    # find top level clusters and mark as such - determined by fcluster above \n",
    "    nx.set_node_attributes(G, 0, 'cluster')\n",
    "    for c in list(frameh.cluster.unique()):\n",
    "        try:\n",
    "            c_ids = set(frameh[frameh.cluster == c].ids.unique())\n",
    "            node = [x for x,y in G.nodes(data=True) if y['docs']==c_ids][0]\n",
    "        except:\n",
    "            c_ids = frameh[frameh.cluster == c].ids.unique()\n",
    "            node = [x for x,y in G.nodes(data=True) if y['docs']==c_ids][0]\n",
    "        G.nodes[node]['cluster'] = c\n",
    "        \n",
    "    return G "
   ]
  },
  {
   "cell_type": "markdown",
   "metadata": {},
   "source": [
    "__Create Hierarchy Graph__"
   ]
  },
  {
   "cell_type": "code",
   "execution_count": 24,
   "metadata": {},
   "outputs": [],
   "source": [
    "def create_graph(links, merge, frameh):\n",
    "    # add nodes\n",
    "    G = nx.DiGraph()\n",
    "    G.add_nodes_from(links.source1)\n",
    "    G.add_nodes_from(links.source2)\n",
    "    G.add_nodes_from(links.target)\n",
    "\n",
    "    # add edges\n",
    "    subset = links[['source1', 'target']]\n",
    "    G.add_edges_from([tuple(x) for x in subset.values])\n",
    "    subset = links[['source2', 'target']]\n",
    "    G.add_edges_from([tuple(x) for x in subset.values])\n",
    "    \n",
    "    # add attributes\n",
    "    G = attributes(G, merge)\n",
    "    \n",
    "    # mark top clusters: attributes\n",
    "    G = top_cluster(G, frameh)\n",
    "    \n",
    "    return G "
   ]
  },
  {
   "cell_type": "code",
   "execution_count": 25,
   "metadata": {},
   "outputs": [],
   "source": [
    "def create_hierarchy(linkage_matrix, frameh):\n",
    "    \n",
    "    links = linkage_df(linkage_matrix)\n",
    "    merge = assign_docs(frameh, links)\n",
    "    G = create_graph(links, merge, frameh)\n",
    "                     \n",
    "    return G"
   ]
  },
  {
   "cell_type": "code",
   "execution_count": null,
   "metadata": {},
   "outputs": [],
   "source": []
  },
  {
   "cell_type": "markdown",
   "metadata": {},
   "source": [
    "# Main Function"
   ]
  },
  {
   "cell_type": "code",
   "execution_count": 26,
   "metadata": {},
   "outputs": [],
   "source": [
    "def main(reduce):\n",
    "    \n",
    "    # read in data\n",
    "    df = pd.read_pickle('reuters_processed')\n",
    "    \n",
    "    distortion_dict = dict()\n",
    "    silhouette_dict = dict()\n",
    "    k_dict = dict()\n",
    "    labels_dict = dict()\n",
    "    dist_dict = dict()\n",
    "    graph_dict = dict()\n",
    "    \n",
    "    df_final = pd.DataFrame()\n",
    "    \n",
    "    for search in ['tin']: #'sugar', 'interest', 'gold'\n",
    "        df_subset = df[df.categories.map(set([search]).issubset)] \n",
    "        df_subset = df_subset.reset_index()\n",
    "        \n",
    "        print(search)\n",
    "        \n",
    "        # TF-IDF matrix\n",
    "        tfidf, feature_names = tf_idf(df_subset)\n",
    "\n",
    "        # remove search from tf-idf matrix\n",
    "        tfidf, feature_names = remove_search(tfidf, feature_names, search)\n",
    "        \n",
    "        # PCA dimensionality reduction\n",
    "        if reduce:\n",
    "            tfidf_unreduced = tfidf.copy()\n",
    "            tfidf = pca_reduce(tfidf)\n",
    "                    \n",
    "        # distances \n",
    "        dist, dist_flat = dist_calculate(tfidf)\n",
    "                \n",
    "        # linkage matrix\n",
    "        linkage_matrix = linkage_calculate(dist_flat)\n",
    "        \n",
    "        # find K \n",
    "        if reduce: \n",
    "            # use non-reduced tfidf to find labels. reduced for everything else. \n",
    "            distortion_lst, silhouette_lst = distortion_silhouette(linkage_matrix, tfidf, tfidf_unreduced, df_subset,\n",
    "                                                                   feature_names, search)\n",
    "            roc = distortion_roc(distortion_lst)\n",
    "            k = find_k(roc)\n",
    "            # final flat clusters\n",
    "            frameh, labels, centroid = find_clusters(k, linkage_matrix, tfidf, tfidf_unreduced, df_subset, feature_names, search)\n",
    "            distortion = distortion_calculate(tfidf, centroid, frameh)\n",
    "            silhouette = silhouette_avg(frameh, tfidf)\n",
    "            \n",
    "        else:\n",
    "            # pass tfidf in for both reduced and unreduced arguments\n",
    "            distortion_lst, silhouette_lst = distortion_silhouette(linkage_matrix, tfidf, tfidf, df_subset, \n",
    "                                                                   feature_names, search)\n",
    "            roc = distortion_roc(distortion_lst)\n",
    "            k = find_k(roc)\n",
    "\n",
    "            # final flat clusters\n",
    "            frameh, labels, centroid = find_clusters(k, linkage_matrix, tfidf, tfidf, df_subset, feature_names, search)\n",
    "            distortion = distortion_calculate(tfidf, centroid, frameh)\n",
    "            silhouette = silhouette_avg(frameh, tfidf)\n",
    "                    \n",
    "        distortion_dict[search] = distortion\n",
    "        silhouette_dict[search] = silhouette\n",
    "        k_dict[search] = k\n",
    "        labels_dict[search] = labels\n",
    "        dist_dict[search] = dist\n",
    "        \n",
    "        frameh['search'] = search\n",
    "        df_final = df_final.append(frameh)\n",
    "\n",
    "    return distortion_dict, silhouette_dict, k_dict, labels_dict, df_final, dist_dict"
   ]
  },
  {
   "cell_type": "code",
   "execution_count": 27,
   "metadata": {},
   "outputs": [],
   "source": [
    "# create hierarchy graph \n",
    "# don't do this in the big loop. far too much processing power\n",
    "# only do for select searches \n",
    "     # but then how will I evaluate?? Maybe don't really and just present as an added bonus...\n",
    "#G = create_hierarchy(linkage_matrix, frameh)\n",
    "## need to optimize this. very slow. memory errors. Even for small terms (ex zinc, tin)\n",
    "## TO DO: modify centroid_label function to get labels for all levels of hierarchy. example in experimention.ipynb"
   ]
  },
  {
   "cell_type": "code",
   "execution_count": 30,
   "metadata": {},
   "outputs": [
    {
     "name": "stdout",
     "output_type": "stream",
     "text": [
      "tin\n"
     ]
    }
   ],
   "source": [
    "distortion_dict, silhouette_dict, k_dict, labels_dict, df_final, dist_dict = main(reduce = True)"
   ]
  },
  {
   "cell_type": "code",
   "execution_count": null,
   "metadata": {},
   "outputs": [],
   "source": []
  },
  {
   "cell_type": "code",
   "execution_count": 34,
   "metadata": {},
   "outputs": [
    {
     "data": {
      "image/png": "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\n",
      "text/plain": [
       "<Figure size 1224x648 with 1 Axes>"
      ]
     },
     "metadata": {
      "needs_background": "light"
     },
     "output_type": "display_data"
    }
   ],
   "source": [
    "# TSNE\n",
    "embed = TSNE(n_components=2).fit_transform(dist_dict['tin'], 'precomputed')\n",
    "xs, ys = embed[:, 0], embed[:, 1]\n",
    "\n",
    "# DataFrame to Plot \n",
    "clusters = df_final[df_final.search == 'tin'].cluster.tolist()\n",
    "df_vis = pd.DataFrame(dict(x = xs, y = ys, cluster = clusters))\n",
    "df_vis.cluster = df_vis.cluster - 1 # want clusters to start at 0 \n",
    "\n",
    "fig, ax = plt.subplots(figsize=(17, 9)) \n",
    "\n",
    "groups = df_vis.groupby('cluster')\n",
    "\n",
    "for name, group in groups:\n",
    "    ax.scatter(group.x, group.y, label = labels_dict['tin'][name])\n",
    "    ax.legend()"
   ]
  },
  {
   "cell_type": "code",
   "execution_count": null,
   "metadata": {},
   "outputs": [],
   "source": []
  },
  {
   "cell_type": "code",
   "execution_count": null,
   "metadata": {},
   "outputs": [],
   "source": []
  },
  {
   "cell_type": "code",
   "execution_count": null,
   "metadata": {},
   "outputs": [],
   "source": [
    "### TO DO: hierarchies "
   ]
  }
 ],
 "metadata": {
  "kernelspec": {
   "display_name": "Python 3",
   "language": "python",
   "name": "python3"
  },
  "language_info": {
   "codemirror_mode": {
    "name": "ipython",
    "version": 3
   },
   "file_extension": ".py",
   "mimetype": "text/x-python",
   "name": "python",
   "nbconvert_exporter": "python",
   "pygments_lexer": "ipython3",
   "version": "3.7.0"
  }
 },
 "nbformat": 4,
 "nbformat_minor": 2
}
